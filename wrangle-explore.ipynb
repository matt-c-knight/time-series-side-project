{
 "cells": [
  {
   "cell_type": "code",
   "execution_count": 1,
   "metadata": {},
   "outputs": [],
   "source": [
    "import pandas as pd"
   ]
  },
  {
   "cell_type": "code",
   "execution_count": 2,
   "metadata": {},
   "outputs": [],
   "source": [
    "#Pull in the dow dataset\n",
    "df = pd.read_csv('dow.csv')"
   ]
  },
  {
   "cell_type": "code",
   "execution_count": 3,
   "metadata": {},
   "outputs": [
    {
     "data": {
      "text/html": [
       "<div>\n",
       "<style scoped>\n",
       "    .dataframe tbody tr th:only-of-type {\n",
       "        vertical-align: middle;\n",
       "    }\n",
       "\n",
       "    .dataframe tbody tr th {\n",
       "        vertical-align: top;\n",
       "    }\n",
       "\n",
       "    .dataframe thead th {\n",
       "        text-align: right;\n",
       "    }\n",
       "</style>\n",
       "<table border=\"1\" class=\"dataframe\">\n",
       "  <thead>\n",
       "    <tr style=\"text-align: right;\">\n",
       "      <th></th>\n",
       "      <th>Date</th>\n",
       "      <th>Open</th>\n",
       "      <th>High</th>\n",
       "      <th>Low</th>\n",
       "      <th>Close</th>\n",
       "      <th>Adj Close</th>\n",
       "      <th>Volume</th>\n",
       "    </tr>\n",
       "  </thead>\n",
       "  <tbody>\n",
       "    <tr>\n",
       "      <th>0</th>\n",
       "      <td>2019-12-23</td>\n",
       "      <td>28491.779297</td>\n",
       "      <td>28582.490234</td>\n",
       "      <td>28491.779297</td>\n",
       "      <td>28551.529297</td>\n",
       "      <td>28551.529297</td>\n",
       "      <td>223530000</td>\n",
       "    </tr>\n",
       "    <tr>\n",
       "      <th>1</th>\n",
       "      <td>2019-12-24</td>\n",
       "      <td>28572.570313</td>\n",
       "      <td>28576.800781</td>\n",
       "      <td>28503.210938</td>\n",
       "      <td>28515.449219</td>\n",
       "      <td>28515.449219</td>\n",
       "      <td>86150000</td>\n",
       "    </tr>\n",
       "    <tr>\n",
       "      <th>2</th>\n",
       "      <td>2019-12-26</td>\n",
       "      <td>28539.460938</td>\n",
       "      <td>28624.099609</td>\n",
       "      <td>28535.150391</td>\n",
       "      <td>28621.390625</td>\n",
       "      <td>28621.390625</td>\n",
       "      <td>155970000</td>\n",
       "    </tr>\n",
       "    <tr>\n",
       "      <th>3</th>\n",
       "      <td>2019-12-27</td>\n",
       "      <td>28675.339844</td>\n",
       "      <td>28701.660156</td>\n",
       "      <td>28608.980469</td>\n",
       "      <td>28645.259766</td>\n",
       "      <td>28645.259766</td>\n",
       "      <td>182280000</td>\n",
       "    </tr>\n",
       "    <tr>\n",
       "      <th>4</th>\n",
       "      <td>2019-12-30</td>\n",
       "      <td>28654.759766</td>\n",
       "      <td>28664.689453</td>\n",
       "      <td>28428.980469</td>\n",
       "      <td>28462.140625</td>\n",
       "      <td>28462.140625</td>\n",
       "      <td>181600000</td>\n",
       "    </tr>\n",
       "  </tbody>\n",
       "</table>\n",
       "</div>"
      ],
      "text/plain": [
       "         Date          Open          High           Low         Close  \\\n",
       "0  2019-12-23  28491.779297  28582.490234  28491.779297  28551.529297   \n",
       "1  2019-12-24  28572.570313  28576.800781  28503.210938  28515.449219   \n",
       "2  2019-12-26  28539.460938  28624.099609  28535.150391  28621.390625   \n",
       "3  2019-12-27  28675.339844  28701.660156  28608.980469  28645.259766   \n",
       "4  2019-12-30  28654.759766  28664.689453  28428.980469  28462.140625   \n",
       "\n",
       "      Adj Close     Volume  \n",
       "0  28551.529297  223530000  \n",
       "1  28515.449219   86150000  \n",
       "2  28621.390625  155970000  \n",
       "3  28645.259766  182280000  \n",
       "4  28462.140625  181600000  "
      ]
     },
     "execution_count": 3,
     "metadata": {},
     "output_type": "execute_result"
    }
   ],
   "source": [
    "df.head()"
   ]
  },
  {
   "cell_type": "code",
   "execution_count": 4,
   "metadata": {},
   "outputs": [],
   "source": [
    "#Pull in Bitcoin ds\n",
    "df2 = pd.read_csv('BTC-USD.csv')"
   ]
  },
  {
   "cell_type": "code",
   "execution_count": 5,
   "metadata": {},
   "outputs": [
    {
     "data": {
      "text/html": [
       "<div>\n",
       "<style scoped>\n",
       "    .dataframe tbody tr th:only-of-type {\n",
       "        vertical-align: middle;\n",
       "    }\n",
       "\n",
       "    .dataframe tbody tr th {\n",
       "        vertical-align: top;\n",
       "    }\n",
       "\n",
       "    .dataframe thead th {\n",
       "        text-align: right;\n",
       "    }\n",
       "</style>\n",
       "<table border=\"1\" class=\"dataframe\">\n",
       "  <thead>\n",
       "    <tr style=\"text-align: right;\">\n",
       "      <th></th>\n",
       "      <th>Date</th>\n",
       "      <th>Open</th>\n",
       "      <th>High</th>\n",
       "      <th>Low</th>\n",
       "      <th>Close</th>\n",
       "      <th>Adj Close</th>\n",
       "      <th>Volume</th>\n",
       "    </tr>\n",
       "  </thead>\n",
       "  <tbody>\n",
       "    <tr>\n",
       "      <th>0</th>\n",
       "      <td>2019-12-21</td>\n",
       "      <td>7220.593750</td>\n",
       "      <td>7223.226074</td>\n",
       "      <td>7112.735840</td>\n",
       "      <td>7191.158691</td>\n",
       "      <td>7191.158691</td>\n",
       "      <td>19312552168</td>\n",
       "    </tr>\n",
       "    <tr>\n",
       "      <th>1</th>\n",
       "      <td>2019-12-22</td>\n",
       "      <td>7191.188477</td>\n",
       "      <td>7518.033203</td>\n",
       "      <td>7167.179199</td>\n",
       "      <td>7511.588867</td>\n",
       "      <td>7511.588867</td>\n",
       "      <td>23134537956</td>\n",
       "    </tr>\n",
       "    <tr>\n",
       "      <th>2</th>\n",
       "      <td>2019-12-23</td>\n",
       "      <td>7508.902344</td>\n",
       "      <td>7656.176270</td>\n",
       "      <td>7326.192383</td>\n",
       "      <td>7355.628418</td>\n",
       "      <td>7355.628418</td>\n",
       "      <td>27831788041</td>\n",
       "    </tr>\n",
       "    <tr>\n",
       "      <th>3</th>\n",
       "      <td>2019-12-24</td>\n",
       "      <td>7354.393066</td>\n",
       "      <td>7535.716797</td>\n",
       "      <td>7269.528809</td>\n",
       "      <td>7322.532227</td>\n",
       "      <td>7322.532227</td>\n",
       "      <td>22991622105</td>\n",
       "    </tr>\n",
       "    <tr>\n",
       "      <th>4</th>\n",
       "      <td>2019-12-25</td>\n",
       "      <td>7325.755859</td>\n",
       "      <td>7357.020020</td>\n",
       "      <td>7220.991211</td>\n",
       "      <td>7275.155762</td>\n",
       "      <td>7275.155762</td>\n",
       "      <td>21559505148</td>\n",
       "    </tr>\n",
       "  </tbody>\n",
       "</table>\n",
       "</div>"
      ],
      "text/plain": [
       "         Date         Open         High          Low        Close  \\\n",
       "0  2019-12-21  7220.593750  7223.226074  7112.735840  7191.158691   \n",
       "1  2019-12-22  7191.188477  7518.033203  7167.179199  7511.588867   \n",
       "2  2019-12-23  7508.902344  7656.176270  7326.192383  7355.628418   \n",
       "3  2019-12-24  7354.393066  7535.716797  7269.528809  7322.532227   \n",
       "4  2019-12-25  7325.755859  7357.020020  7220.991211  7275.155762   \n",
       "\n",
       "     Adj Close       Volume  \n",
       "0  7191.158691  19312552168  \n",
       "1  7511.588867  23134537956  \n",
       "2  7355.628418  27831788041  \n",
       "3  7322.532227  22991622105  \n",
       "4  7275.155762  21559505148  "
      ]
     },
     "execution_count": 5,
     "metadata": {},
     "output_type": "execute_result"
    }
   ],
   "source": [
    "df2.head()"
   ]
  },
  {
   "cell_type": "code",
   "execution_count": 6,
   "metadata": {},
   "outputs": [],
   "source": [
    "df.Date = pd.to_datetime(df.Date)\n"
   ]
  },
  {
   "cell_type": "code",
   "execution_count": 7,
   "metadata": {},
   "outputs": [
    {
     "data": {
      "text/html": [
       "<div>\n",
       "<style scoped>\n",
       "    .dataframe tbody tr th:only-of-type {\n",
       "        vertical-align: middle;\n",
       "    }\n",
       "\n",
       "    .dataframe tbody tr th {\n",
       "        vertical-align: top;\n",
       "    }\n",
       "\n",
       "    .dataframe thead th {\n",
       "        text-align: right;\n",
       "    }\n",
       "</style>\n",
       "<table border=\"1\" class=\"dataframe\">\n",
       "  <thead>\n",
       "    <tr style=\"text-align: right;\">\n",
       "      <th></th>\n",
       "      <th>Date</th>\n",
       "      <th>Open</th>\n",
       "      <th>High</th>\n",
       "      <th>Low</th>\n",
       "      <th>Close</th>\n",
       "      <th>Adj Close</th>\n",
       "      <th>Volume</th>\n",
       "    </tr>\n",
       "  </thead>\n",
       "  <tbody>\n",
       "    <tr>\n",
       "      <th>0</th>\n",
       "      <td>2019-12-23</td>\n",
       "      <td>28491.779297</td>\n",
       "      <td>28582.490234</td>\n",
       "      <td>28491.779297</td>\n",
       "      <td>28551.529297</td>\n",
       "      <td>28551.529297</td>\n",
       "      <td>223530000</td>\n",
       "    </tr>\n",
       "    <tr>\n",
       "      <th>1</th>\n",
       "      <td>2019-12-24</td>\n",
       "      <td>28572.570313</td>\n",
       "      <td>28576.800781</td>\n",
       "      <td>28503.210938</td>\n",
       "      <td>28515.449219</td>\n",
       "      <td>28515.449219</td>\n",
       "      <td>86150000</td>\n",
       "    </tr>\n",
       "    <tr>\n",
       "      <th>2</th>\n",
       "      <td>2019-12-26</td>\n",
       "      <td>28539.460938</td>\n",
       "      <td>28624.099609</td>\n",
       "      <td>28535.150391</td>\n",
       "      <td>28621.390625</td>\n",
       "      <td>28621.390625</td>\n",
       "      <td>155970000</td>\n",
       "    </tr>\n",
       "    <tr>\n",
       "      <th>3</th>\n",
       "      <td>2019-12-27</td>\n",
       "      <td>28675.339844</td>\n",
       "      <td>28701.660156</td>\n",
       "      <td>28608.980469</td>\n",
       "      <td>28645.259766</td>\n",
       "      <td>28645.259766</td>\n",
       "      <td>182280000</td>\n",
       "    </tr>\n",
       "    <tr>\n",
       "      <th>4</th>\n",
       "      <td>2019-12-30</td>\n",
       "      <td>28654.759766</td>\n",
       "      <td>28664.689453</td>\n",
       "      <td>28428.980469</td>\n",
       "      <td>28462.140625</td>\n",
       "      <td>28462.140625</td>\n",
       "      <td>181600000</td>\n",
       "    </tr>\n",
       "  </tbody>\n",
       "</table>\n",
       "</div>"
      ],
      "text/plain": [
       "        Date          Open          High           Low         Close  \\\n",
       "0 2019-12-23  28491.779297  28582.490234  28491.779297  28551.529297   \n",
       "1 2019-12-24  28572.570313  28576.800781  28503.210938  28515.449219   \n",
       "2 2019-12-26  28539.460938  28624.099609  28535.150391  28621.390625   \n",
       "3 2019-12-27  28675.339844  28701.660156  28608.980469  28645.259766   \n",
       "4 2019-12-30  28654.759766  28664.689453  28428.980469  28462.140625   \n",
       "\n",
       "      Adj Close     Volume  \n",
       "0  28551.529297  223530000  \n",
       "1  28515.449219   86150000  \n",
       "2  28621.390625  155970000  \n",
       "3  28645.259766  182280000  \n",
       "4  28462.140625  181600000  "
      ]
     },
     "execution_count": 7,
     "metadata": {},
     "output_type": "execute_result"
    }
   ],
   "source": [
    "df.head()"
   ]
  },
  {
   "cell_type": "code",
   "execution_count": 8,
   "metadata": {},
   "outputs": [],
   "source": [
    "#Reset index to date for time series manipulation\n",
    "df = df.set_index('Date').sort_index()\n"
   ]
  },
  {
   "cell_type": "code",
   "execution_count": 9,
   "metadata": {},
   "outputs": [
    {
     "data": {
      "text/html": [
       "<div>\n",
       "<style scoped>\n",
       "    .dataframe tbody tr th:only-of-type {\n",
       "        vertical-align: middle;\n",
       "    }\n",
       "\n",
       "    .dataframe tbody tr th {\n",
       "        vertical-align: top;\n",
       "    }\n",
       "\n",
       "    .dataframe thead th {\n",
       "        text-align: right;\n",
       "    }\n",
       "</style>\n",
       "<table border=\"1\" class=\"dataframe\">\n",
       "  <thead>\n",
       "    <tr style=\"text-align: right;\">\n",
       "      <th></th>\n",
       "      <th>Open</th>\n",
       "      <th>High</th>\n",
       "      <th>Low</th>\n",
       "      <th>Close</th>\n",
       "      <th>Adj Close</th>\n",
       "      <th>Volume</th>\n",
       "    </tr>\n",
       "    <tr>\n",
       "      <th>Date</th>\n",
       "      <th></th>\n",
       "      <th></th>\n",
       "      <th></th>\n",
       "      <th></th>\n",
       "      <th></th>\n",
       "      <th></th>\n",
       "    </tr>\n",
       "  </thead>\n",
       "  <tbody>\n",
       "    <tr>\n",
       "      <th>2019-12-23</th>\n",
       "      <td>28491.779297</td>\n",
       "      <td>28582.490234</td>\n",
       "      <td>28491.779297</td>\n",
       "      <td>28551.529297</td>\n",
       "      <td>28551.529297</td>\n",
       "      <td>223530000</td>\n",
       "    </tr>\n",
       "    <tr>\n",
       "      <th>2019-12-24</th>\n",
       "      <td>28572.570313</td>\n",
       "      <td>28576.800781</td>\n",
       "      <td>28503.210938</td>\n",
       "      <td>28515.449219</td>\n",
       "      <td>28515.449219</td>\n",
       "      <td>86150000</td>\n",
       "    </tr>\n",
       "    <tr>\n",
       "      <th>2019-12-26</th>\n",
       "      <td>28539.460938</td>\n",
       "      <td>28624.099609</td>\n",
       "      <td>28535.150391</td>\n",
       "      <td>28621.390625</td>\n",
       "      <td>28621.390625</td>\n",
       "      <td>155970000</td>\n",
       "    </tr>\n",
       "    <tr>\n",
       "      <th>2019-12-27</th>\n",
       "      <td>28675.339844</td>\n",
       "      <td>28701.660156</td>\n",
       "      <td>28608.980469</td>\n",
       "      <td>28645.259766</td>\n",
       "      <td>28645.259766</td>\n",
       "      <td>182280000</td>\n",
       "    </tr>\n",
       "    <tr>\n",
       "      <th>2019-12-30</th>\n",
       "      <td>28654.759766</td>\n",
       "      <td>28664.689453</td>\n",
       "      <td>28428.980469</td>\n",
       "      <td>28462.140625</td>\n",
       "      <td>28462.140625</td>\n",
       "      <td>181600000</td>\n",
       "    </tr>\n",
       "  </tbody>\n",
       "</table>\n",
       "</div>"
      ],
      "text/plain": [
       "                    Open          High           Low         Close  \\\n",
       "Date                                                                 \n",
       "2019-12-23  28491.779297  28582.490234  28491.779297  28551.529297   \n",
       "2019-12-24  28572.570313  28576.800781  28503.210938  28515.449219   \n",
       "2019-12-26  28539.460938  28624.099609  28535.150391  28621.390625   \n",
       "2019-12-27  28675.339844  28701.660156  28608.980469  28645.259766   \n",
       "2019-12-30  28654.759766  28664.689453  28428.980469  28462.140625   \n",
       "\n",
       "               Adj Close     Volume  \n",
       "Date                                 \n",
       "2019-12-23  28551.529297  223530000  \n",
       "2019-12-24  28515.449219   86150000  \n",
       "2019-12-26  28621.390625  155970000  \n",
       "2019-12-27  28645.259766  182280000  \n",
       "2019-12-30  28462.140625  181600000  "
      ]
     },
     "execution_count": 9,
     "metadata": {},
     "output_type": "execute_result"
    }
   ],
   "source": [
    "df.head()"
   ]
  },
  {
   "cell_type": "code",
   "execution_count": 10,
   "metadata": {},
   "outputs": [],
   "source": [
    "dow_adj_close = df[['Adj Close']]"
   ]
  },
  {
   "cell_type": "code",
   "execution_count": 11,
   "metadata": {},
   "outputs": [
    {
     "data": {
      "text/plain": [
       "<AxesSubplot:xlabel='Date'>"
      ]
     },
     "execution_count": 11,
     "metadata": {},
     "output_type": "execute_result"
    },
    {
     "data": {
      "image/png": "[encoded data removed]",
      "text/plain": [
       "<Figure size 432x288 with 1 Axes>"
      ]
     },
     "metadata": {
      "needs_background": "light"
     },
     "output_type": "display_data"
    }
   ],
   "source": [
    "#Create a viz of daily activity for the dow over the time period\n",
    "dow_adj_close.resample('D').mean().plot(marker='o')\n"
   ]
  },
  {
   "cell_type": "markdown",
   "metadata": {},
   "source": [
    "**Sharp market drop during initial outbreak of Covid**"
   ]
  },
  {
   "cell_type": "code",
   "execution_count": 12,
   "metadata": {},
   "outputs": [
    {
     "name": "stderr",
     "output_type": "stream",
     "text": [
      "/usr/local/anaconda3/lib/python3.7/site-packages/ipykernel_launcher.py:2: SettingWithCopyWarning: \n",
      "A value is trying to be set on a copy of a slice from a DataFrame.\n",
      "Try using .loc[row_indexer,col_indexer] = value instead\n",
      "\n",
      "See the caveats in the documentation: https://pandas.pydata.org/pandas-docs/stable/user_guide/indexing.html#returning-a-view-versus-a-copy\n",
      "  \n"
     ]
    }
   ],
   "source": [
    "#Round to two decimal places\n",
    "dow_adj_close['Adj Close'] = round(dow_adj_close['Adj Close'], 2)"
   ]
  },
  {
   "cell_type": "code",
   "execution_count": 13,
   "metadata": {},
   "outputs": [
    {
     "data": {
      "text/html": [
       "<div>\n",
       "<style scoped>\n",
       "    .dataframe tbody tr th:only-of-type {\n",
       "        vertical-align: middle;\n",
       "    }\n",
       "\n",
       "    .dataframe tbody tr th {\n",
       "        vertical-align: top;\n",
       "    }\n",
       "\n",
       "    .dataframe thead th {\n",
       "        text-align: right;\n",
       "    }\n",
       "</style>\n",
       "<table border=\"1\" class=\"dataframe\">\n",
       "  <thead>\n",
       "    <tr style=\"text-align: right;\">\n",
       "      <th></th>\n",
       "      <th>Adj Close</th>\n",
       "    </tr>\n",
       "    <tr>\n",
       "      <th>Date</th>\n",
       "      <th></th>\n",
       "    </tr>\n",
       "  </thead>\n",
       "  <tbody>\n",
       "    <tr>\n",
       "      <th>2019-12-23</th>\n",
       "      <td>28551.53</td>\n",
       "    </tr>\n",
       "    <tr>\n",
       "      <th>2019-12-24</th>\n",
       "      <td>28515.45</td>\n",
       "    </tr>\n",
       "    <tr>\n",
       "      <th>2019-12-26</th>\n",
       "      <td>28621.39</td>\n",
       "    </tr>\n",
       "    <tr>\n",
       "      <th>2019-12-27</th>\n",
       "      <td>28645.26</td>\n",
       "    </tr>\n",
       "    <tr>\n",
       "      <th>2019-12-30</th>\n",
       "      <td>28462.14</td>\n",
       "    </tr>\n",
       "  </tbody>\n",
       "</table>\n",
       "</div>"
      ],
      "text/plain": [
       "            Adj Close\n",
       "Date                 \n",
       "2019-12-23   28551.53\n",
       "2019-12-24   28515.45\n",
       "2019-12-26   28621.39\n",
       "2019-12-27   28645.26\n",
       "2019-12-30   28462.14"
      ]
     },
     "execution_count": 13,
     "metadata": {},
     "output_type": "execute_result"
    }
   ],
   "source": [
    "dow_adj_close.head()"
   ]
  },
  {
   "cell_type": "code",
   "execution_count": 14,
   "metadata": {},
   "outputs": [],
   "source": [
    "#Convert date column to datetime format\n",
    "df2.Date = pd.to_datetime(df2.Date)\n"
   ]
  },
  {
   "cell_type": "code",
   "execution_count": 15,
   "metadata": {},
   "outputs": [],
   "source": [
    "#Set Bitcoin df date to index\n",
    "df2 = df2.set_index('Date').sort_index()\n"
   ]
  },
  {
   "cell_type": "code",
   "execution_count": 16,
   "metadata": {},
   "outputs": [
    {
     "data": {
      "text/html": [
       "<div>\n",
       "<style scoped>\n",
       "    .dataframe tbody tr th:only-of-type {\n",
       "        vertical-align: middle;\n",
       "    }\n",
       "\n",
       "    .dataframe tbody tr th {\n",
       "        vertical-align: top;\n",
       "    }\n",
       "\n",
       "    .dataframe thead th {\n",
       "        text-align: right;\n",
       "    }\n",
       "</style>\n",
       "<table border=\"1\" class=\"dataframe\">\n",
       "  <thead>\n",
       "    <tr style=\"text-align: right;\">\n",
       "      <th></th>\n",
       "      <th>Open</th>\n",
       "      <th>High</th>\n",
       "      <th>Low</th>\n",
       "      <th>Close</th>\n",
       "      <th>Adj Close</th>\n",
       "      <th>Volume</th>\n",
       "    </tr>\n",
       "    <tr>\n",
       "      <th>Date</th>\n",
       "      <th></th>\n",
       "      <th></th>\n",
       "      <th></th>\n",
       "      <th></th>\n",
       "      <th></th>\n",
       "      <th></th>\n",
       "    </tr>\n",
       "  </thead>\n",
       "  <tbody>\n",
       "    <tr>\n",
       "      <th>2019-12-21</th>\n",
       "      <td>7220.593750</td>\n",
       "      <td>7223.226074</td>\n",
       "      <td>7112.735840</td>\n",
       "      <td>7191.158691</td>\n",
       "      <td>7191.158691</td>\n",
       "      <td>19312552168</td>\n",
       "    </tr>\n",
       "    <tr>\n",
       "      <th>2019-12-22</th>\n",
       "      <td>7191.188477</td>\n",
       "      <td>7518.033203</td>\n",
       "      <td>7167.179199</td>\n",
       "      <td>7511.588867</td>\n",
       "      <td>7511.588867</td>\n",
       "      <td>23134537956</td>\n",
       "    </tr>\n",
       "    <tr>\n",
       "      <th>2019-12-23</th>\n",
       "      <td>7508.902344</td>\n",
       "      <td>7656.176270</td>\n",
       "      <td>7326.192383</td>\n",
       "      <td>7355.628418</td>\n",
       "      <td>7355.628418</td>\n",
       "      <td>27831788041</td>\n",
       "    </tr>\n",
       "    <tr>\n",
       "      <th>2019-12-24</th>\n",
       "      <td>7354.393066</td>\n",
       "      <td>7535.716797</td>\n",
       "      <td>7269.528809</td>\n",
       "      <td>7322.532227</td>\n",
       "      <td>7322.532227</td>\n",
       "      <td>22991622105</td>\n",
       "    </tr>\n",
       "    <tr>\n",
       "      <th>2019-12-25</th>\n",
       "      <td>7325.755859</td>\n",
       "      <td>7357.020020</td>\n",
       "      <td>7220.991211</td>\n",
       "      <td>7275.155762</td>\n",
       "      <td>7275.155762</td>\n",
       "      <td>21559505148</td>\n",
       "    </tr>\n",
       "  </tbody>\n",
       "</table>\n",
       "</div>"
      ],
      "text/plain": [
       "                   Open         High          Low        Close    Adj Close  \\\n",
       "Date                                                                          \n",
       "2019-12-21  7220.593750  7223.226074  7112.735840  7191.158691  7191.158691   \n",
       "2019-12-22  7191.188477  7518.033203  7167.179199  7511.588867  7511.588867   \n",
       "2019-12-23  7508.902344  7656.176270  7326.192383  7355.628418  7355.628418   \n",
       "2019-12-24  7354.393066  7535.716797  7269.528809  7322.532227  7322.532227   \n",
       "2019-12-25  7325.755859  7357.020020  7220.991211  7275.155762  7275.155762   \n",
       "\n",
       "                 Volume  \n",
       "Date                     \n",
       "2019-12-21  19312552168  \n",
       "2019-12-22  23134537956  \n",
       "2019-12-23  27831788041  \n",
       "2019-12-24  22991622105  \n",
       "2019-12-25  21559505148  "
      ]
     },
     "execution_count": 16,
     "metadata": {},
     "output_type": "execute_result"
    }
   ],
   "source": [
    "df2.head()"
   ]
  },
  {
   "cell_type": "code",
   "execution_count": 17,
   "metadata": {},
   "outputs": [],
   "source": [
    "#Create new df with just adjusted closing price\n",
    "bit = df2[['Adj Close']]"
   ]
  },
  {
   "cell_type": "code",
   "execution_count": 18,
   "metadata": {},
   "outputs": [
    {
     "data": {
      "text/html": [
       "<div>\n",
       "<style scoped>\n",
       "    .dataframe tbody tr th:only-of-type {\n",
       "        vertical-align: middle;\n",
       "    }\n",
       "\n",
       "    .dataframe tbody tr th {\n",
       "        vertical-align: top;\n",
       "    }\n",
       "\n",
       "    .dataframe thead th {\n",
       "        text-align: right;\n",
       "    }\n",
       "</style>\n",
       "<table border=\"1\" class=\"dataframe\">\n",
       "  <thead>\n",
       "    <tr style=\"text-align: right;\">\n",
       "      <th></th>\n",
       "      <th>Adj Close</th>\n",
       "    </tr>\n",
       "    <tr>\n",
       "      <th>Date</th>\n",
       "      <th></th>\n",
       "    </tr>\n",
       "  </thead>\n",
       "  <tbody>\n",
       "    <tr>\n",
       "      <th>2019-12-21</th>\n",
       "      <td>7191.158691</td>\n",
       "    </tr>\n",
       "    <tr>\n",
       "      <th>2019-12-22</th>\n",
       "      <td>7511.588867</td>\n",
       "    </tr>\n",
       "    <tr>\n",
       "      <th>2019-12-23</th>\n",
       "      <td>7355.628418</td>\n",
       "    </tr>\n",
       "    <tr>\n",
       "      <th>2019-12-24</th>\n",
       "      <td>7322.532227</td>\n",
       "    </tr>\n",
       "    <tr>\n",
       "      <th>2019-12-25</th>\n",
       "      <td>7275.155762</td>\n",
       "    </tr>\n",
       "  </tbody>\n",
       "</table>\n",
       "</div>"
      ],
      "text/plain": [
       "              Adj Close\n",
       "Date                   \n",
       "2019-12-21  7191.158691\n",
       "2019-12-22  7511.588867\n",
       "2019-12-23  7355.628418\n",
       "2019-12-24  7322.532227\n",
       "2019-12-25  7275.155762"
      ]
     },
     "execution_count": 18,
     "metadata": {},
     "output_type": "execute_result"
    }
   ],
   "source": [
    "bit.head()"
   ]
  },
  {
   "cell_type": "code",
   "execution_count": 19,
   "metadata": {},
   "outputs": [
    {
     "name": "stderr",
     "output_type": "stream",
     "text": [
      "/usr/local/anaconda3/lib/python3.7/site-packages/ipykernel_launcher.py:2: SettingWithCopyWarning: \n",
      "A value is trying to be set on a copy of a slice from a DataFrame.\n",
      "Try using .loc[row_indexer,col_indexer] = value instead\n",
      "\n",
      "See the caveats in the documentation: https://pandas.pydata.org/pandas-docs/stable/user_guide/indexing.html#returning-a-view-versus-a-copy\n",
      "  \n"
     ]
    }
   ],
   "source": [
    "#Round to two decimal places\n",
    "bit['Adj Close'] = round(bit['Adj Close'], 2)"
   ]
  },
  {
   "cell_type": "code",
   "execution_count": 20,
   "metadata": {},
   "outputs": [
    {
     "data": {
      "text/html": [
       "<div>\n",
       "<style scoped>\n",
       "    .dataframe tbody tr th:only-of-type {\n",
       "        vertical-align: middle;\n",
       "    }\n",
       "\n",
       "    .dataframe tbody tr th {\n",
       "        vertical-align: top;\n",
       "    }\n",
       "\n",
       "    .dataframe thead th {\n",
       "        text-align: right;\n",
       "    }\n",
       "</style>\n",
       "<table border=\"1\" class=\"dataframe\">\n",
       "  <thead>\n",
       "    <tr style=\"text-align: right;\">\n",
       "      <th></th>\n",
       "      <th>Adj Close</th>\n",
       "    </tr>\n",
       "    <tr>\n",
       "      <th>Date</th>\n",
       "      <th></th>\n",
       "    </tr>\n",
       "  </thead>\n",
       "  <tbody>\n",
       "    <tr>\n",
       "      <th>2019-12-21</th>\n",
       "      <td>7191.16</td>\n",
       "    </tr>\n",
       "    <tr>\n",
       "      <th>2019-12-22</th>\n",
       "      <td>7511.59</td>\n",
       "    </tr>\n",
       "    <tr>\n",
       "      <th>2019-12-23</th>\n",
       "      <td>7355.63</td>\n",
       "    </tr>\n",
       "    <tr>\n",
       "      <th>2019-12-24</th>\n",
       "      <td>7322.53</td>\n",
       "    </tr>\n",
       "    <tr>\n",
       "      <th>2019-12-25</th>\n",
       "      <td>7275.16</td>\n",
       "    </tr>\n",
       "  </tbody>\n",
       "</table>\n",
       "</div>"
      ],
      "text/plain": [
       "            Adj Close\n",
       "Date                 \n",
       "2019-12-21    7191.16\n",
       "2019-12-22    7511.59\n",
       "2019-12-23    7355.63\n",
       "2019-12-24    7322.53\n",
       "2019-12-25    7275.16"
      ]
     },
     "execution_count": 20,
     "metadata": {},
     "output_type": "execute_result"
    }
   ],
   "source": [
    "bit.head()"
   ]
  },
  {
   "cell_type": "code",
   "execution_count": 21,
   "metadata": {},
   "outputs": [
    {
     "data": {
      "text/plain": [
       "<AxesSubplot:xlabel='Date'>"
      ]
     },
     "execution_count": 21,
     "metadata": {},
     "output_type": "execute_result"
    },
    {
     "data": {
      "image/png": "[encoded data removed]",
      "text/plain": [
       "<Figure size 432x288 with 1 Axes>"
      ]
     },
     "metadata": {
      "needs_background": "light"
     },
     "output_type": "display_data"
    }
   ],
   "source": [
    "#Resample to look at bitcoin price by day over 2020 time period.\n",
    "bit.resample('D').mean().plot(marker='o')\n"
   ]
  },
  {
   "cell_type": "code",
   "execution_count": 22,
   "metadata": {},
   "outputs": [
    {
     "name": "stderr",
     "output_type": "stream",
     "text": [
      "/usr/local/anaconda3/lib/python3.7/site-packages/pandas/core/frame.py:4304: SettingWithCopyWarning: \n",
      "A value is trying to be set on a copy of a slice from a DataFrame\n",
      "\n",
      "See the caveats in the documentation: https://pandas.pydata.org/pandas-docs/stable/user_guide/indexing.html#returning-a-view-versus-a-copy\n",
      "  errors=errors,\n"
     ]
    }
   ],
   "source": [
    "bit.rename(columns={'Adj Close': 'bit_close'}, inplace=True)"
   ]
  },
  {
   "cell_type": "code",
   "execution_count": 23,
   "metadata": {},
   "outputs": [
    {
     "data": {
      "text/html": [
       "<div>\n",
       "<style scoped>\n",
       "    .dataframe tbody tr th:only-of-type {\n",
       "        vertical-align: middle;\n",
       "    }\n",
       "\n",
       "    .dataframe tbody tr th {\n",
       "        vertical-align: top;\n",
       "    }\n",
       "\n",
       "    .dataframe thead th {\n",
       "        text-align: right;\n",
       "    }\n",
       "</style>\n",
       "<table border=\"1\" class=\"dataframe\">\n",
       "  <thead>\n",
       "    <tr style=\"text-align: right;\">\n",
       "      <th></th>\n",
       "      <th>bit_close</th>\n",
       "    </tr>\n",
       "    <tr>\n",
       "      <th>Date</th>\n",
       "      <th></th>\n",
       "    </tr>\n",
       "  </thead>\n",
       "  <tbody>\n",
       "    <tr>\n",
       "      <th>2019-12-21</th>\n",
       "      <td>7191.16</td>\n",
       "    </tr>\n",
       "    <tr>\n",
       "      <th>2019-12-22</th>\n",
       "      <td>7511.59</td>\n",
       "    </tr>\n",
       "    <tr>\n",
       "      <th>2019-12-23</th>\n",
       "      <td>7355.63</td>\n",
       "    </tr>\n",
       "    <tr>\n",
       "      <th>2019-12-24</th>\n",
       "      <td>7322.53</td>\n",
       "    </tr>\n",
       "    <tr>\n",
       "      <th>2019-12-25</th>\n",
       "      <td>7275.16</td>\n",
       "    </tr>\n",
       "  </tbody>\n",
       "</table>\n",
       "</div>"
      ],
      "text/plain": [
       "            bit_close\n",
       "Date                 \n",
       "2019-12-21    7191.16\n",
       "2019-12-22    7511.59\n",
       "2019-12-23    7355.63\n",
       "2019-12-24    7322.53\n",
       "2019-12-25    7275.16"
      ]
     },
     "execution_count": 23,
     "metadata": {},
     "output_type": "execute_result"
    }
   ],
   "source": [
    "bit.head()"
   ]
  },
  {
   "cell_type": "code",
   "execution_count": 24,
   "metadata": {},
   "outputs": [],
   "source": [
    "#Join the dataframes together on index column\n",
    "result = pd.merge(dow_adj_close, bit, on='Date')"
   ]
  },
  {
   "cell_type": "code",
   "execution_count": 25,
   "metadata": {},
   "outputs": [
    {
     "data": {
      "text/html": [
       "<div>\n",
       "<style scoped>\n",
       "    .dataframe tbody tr th:only-of-type {\n",
       "        vertical-align: middle;\n",
       "    }\n",
       "\n",
       "    .dataframe tbody tr th {\n",
       "        vertical-align: top;\n",
       "    }\n",
       "\n",
       "    .dataframe thead th {\n",
       "        text-align: right;\n",
       "    }\n",
       "</style>\n",
       "<table border=\"1\" class=\"dataframe\">\n",
       "  <thead>\n",
       "    <tr style=\"text-align: right;\">\n",
       "      <th></th>\n",
       "      <th>Adj Close</th>\n",
       "      <th>bit_close</th>\n",
       "    </tr>\n",
       "    <tr>\n",
       "      <th>Date</th>\n",
       "      <th></th>\n",
       "      <th></th>\n",
       "    </tr>\n",
       "  </thead>\n",
       "  <tbody>\n",
       "    <tr>\n",
       "      <th>2019-12-23</th>\n",
       "      <td>28551.53</td>\n",
       "      <td>7355.63</td>\n",
       "    </tr>\n",
       "    <tr>\n",
       "      <th>2019-12-24</th>\n",
       "      <td>28515.45</td>\n",
       "      <td>7322.53</td>\n",
       "    </tr>\n",
       "    <tr>\n",
       "      <th>2019-12-26</th>\n",
       "      <td>28621.39</td>\n",
       "      <td>7238.97</td>\n",
       "    </tr>\n",
       "    <tr>\n",
       "      <th>2019-12-27</th>\n",
       "      <td>28645.26</td>\n",
       "      <td>7290.09</td>\n",
       "    </tr>\n",
       "    <tr>\n",
       "      <th>2019-12-30</th>\n",
       "      <td>28462.14</td>\n",
       "      <td>7293.00</td>\n",
       "    </tr>\n",
       "  </tbody>\n",
       "</table>\n",
       "</div>"
      ],
      "text/plain": [
       "            Adj Close  bit_close\n",
       "Date                            \n",
       "2019-12-23   28551.53    7355.63\n",
       "2019-12-24   28515.45    7322.53\n",
       "2019-12-26   28621.39    7238.97\n",
       "2019-12-27   28645.26    7290.09\n",
       "2019-12-30   28462.14    7293.00"
      ]
     },
     "execution_count": 25,
     "metadata": {},
     "output_type": "execute_result"
    }
   ],
   "source": [
    "result.head()"
   ]
  },
  {
   "cell_type": "code",
   "execution_count": 26,
   "metadata": {},
   "outputs": [],
   "source": [
    "result.rename(columns={'Adj Close': 'dow_close'}, inplace=True)"
   ]
  },
  {
   "cell_type": "code",
   "execution_count": 27,
   "metadata": {},
   "outputs": [],
   "source": [
    "result = result[['dow_close', 'bit_close']]"
   ]
  },
  {
   "cell_type": "code",
   "execution_count": 28,
   "metadata": {},
   "outputs": [
    {
     "data": {
      "text/html": [
       "<div>\n",
       "<style scoped>\n",
       "    .dataframe tbody tr th:only-of-type {\n",
       "        vertical-align: middle;\n",
       "    }\n",
       "\n",
       "    .dataframe tbody tr th {\n",
       "        vertical-align: top;\n",
       "    }\n",
       "\n",
       "    .dataframe thead th {\n",
       "        text-align: right;\n",
       "    }\n",
       "</style>\n",
       "<table border=\"1\" class=\"dataframe\">\n",
       "  <thead>\n",
       "    <tr style=\"text-align: right;\">\n",
       "      <th></th>\n",
       "      <th>dow_close</th>\n",
       "      <th>bit_close</th>\n",
       "    </tr>\n",
       "    <tr>\n",
       "      <th>Date</th>\n",
       "      <th></th>\n",
       "      <th></th>\n",
       "    </tr>\n",
       "  </thead>\n",
       "  <tbody>\n",
       "    <tr>\n",
       "      <th>2019-12-23</th>\n",
       "      <td>28551.53</td>\n",
       "      <td>7355.63</td>\n",
       "    </tr>\n",
       "    <tr>\n",
       "      <th>2019-12-24</th>\n",
       "      <td>28515.45</td>\n",
       "      <td>7322.53</td>\n",
       "    </tr>\n",
       "    <tr>\n",
       "      <th>2019-12-26</th>\n",
       "      <td>28621.39</td>\n",
       "      <td>7238.97</td>\n",
       "    </tr>\n",
       "    <tr>\n",
       "      <th>2019-12-27</th>\n",
       "      <td>28645.26</td>\n",
       "      <td>7290.09</td>\n",
       "    </tr>\n",
       "    <tr>\n",
       "      <th>2019-12-30</th>\n",
       "      <td>28462.14</td>\n",
       "      <td>7293.00</td>\n",
       "    </tr>\n",
       "  </tbody>\n",
       "</table>\n",
       "</div>"
      ],
      "text/plain": [
       "            dow_close  bit_close\n",
       "Date                            \n",
       "2019-12-23   28551.53    7355.63\n",
       "2019-12-24   28515.45    7322.53\n",
       "2019-12-26   28621.39    7238.97\n",
       "2019-12-27   28645.26    7290.09\n",
       "2019-12-30   28462.14    7293.00"
      ]
     },
     "execution_count": 28,
     "metadata": {},
     "output_type": "execute_result"
    }
   ],
   "source": [
    "result.head()"
   ]
  },
  {
   "cell_type": "code",
   "execution_count": 29,
   "metadata": {},
   "outputs": [
    {
     "data": {
      "text/html": [
       "<div>\n",
       "<style scoped>\n",
       "    .dataframe tbody tr th:only-of-type {\n",
       "        vertical-align: middle;\n",
       "    }\n",
       "\n",
       "    .dataframe tbody tr th {\n",
       "        vertical-align: top;\n",
       "    }\n",
       "\n",
       "    .dataframe thead th {\n",
       "        text-align: right;\n",
       "    }\n",
       "</style>\n",
       "<table border=\"1\" class=\"dataframe\">\n",
       "  <thead>\n",
       "    <tr style=\"text-align: right;\">\n",
       "      <th></th>\n",
       "      <th>dow_close</th>\n",
       "      <th>bit_close</th>\n",
       "    </tr>\n",
       "    <tr>\n",
       "      <th>Date</th>\n",
       "      <th></th>\n",
       "      <th></th>\n",
       "    </tr>\n",
       "  </thead>\n",
       "  <tbody>\n",
       "    <tr>\n",
       "      <th>2019-12-31</th>\n",
       "      <td>AxesSubplot(0.125,0.2;0.775x0.68)</td>\n",
       "      <td>AxesSubplot(0.125,0.2;0.775x0.68)</td>\n",
       "    </tr>\n",
       "    <tr>\n",
       "      <th>2020-01-31</th>\n",
       "      <td>AxesSubplot(0.125,0.2;0.775x0.68)</td>\n",
       "      <td>AxesSubplot(0.125,0.2;0.775x0.68)</td>\n",
       "    </tr>\n",
       "    <tr>\n",
       "      <th>2020-02-29</th>\n",
       "      <td>AxesSubplot(0.125,0.2;0.775x0.68)</td>\n",
       "      <td>AxesSubplot(0.125,0.2;0.775x0.68)</td>\n",
       "    </tr>\n",
       "    <tr>\n",
       "      <th>2020-03-31</th>\n",
       "      <td>AxesSubplot(0.125,0.2;0.775x0.68)</td>\n",
       "      <td>AxesSubplot(0.125,0.2;0.775x0.68)</td>\n",
       "    </tr>\n",
       "    <tr>\n",
       "      <th>2020-04-30</th>\n",
       "      <td>AxesSubplot(0.125,0.2;0.775x0.68)</td>\n",
       "      <td>AxesSubplot(0.125,0.2;0.775x0.68)</td>\n",
       "    </tr>\n",
       "    <tr>\n",
       "      <th>2020-05-31</th>\n",
       "      <td>AxesSubplot(0.125,0.2;0.775x0.68)</td>\n",
       "      <td>AxesSubplot(0.125,0.2;0.775x0.68)</td>\n",
       "    </tr>\n",
       "    <tr>\n",
       "      <th>2020-06-30</th>\n",
       "      <td>AxesSubplot(0.125,0.2;0.775x0.68)</td>\n",
       "      <td>AxesSubplot(0.125,0.2;0.775x0.68)</td>\n",
       "    </tr>\n",
       "    <tr>\n",
       "      <th>2020-07-31</th>\n",
       "      <td>AxesSubplot(0.125,0.2;0.775x0.68)</td>\n",
       "      <td>AxesSubplot(0.125,0.2;0.775x0.68)</td>\n",
       "    </tr>\n",
       "    <tr>\n",
       "      <th>2020-08-31</th>\n",
       "      <td>AxesSubplot(0.125,0.2;0.775x0.68)</td>\n",
       "      <td>AxesSubplot(0.125,0.2;0.775x0.68)</td>\n",
       "    </tr>\n",
       "    <tr>\n",
       "      <th>2020-09-30</th>\n",
       "      <td>AxesSubplot(0.125,0.2;0.775x0.68)</td>\n",
       "      <td>AxesSubplot(0.125,0.2;0.775x0.68)</td>\n",
       "    </tr>\n",
       "    <tr>\n",
       "      <th>2020-10-31</th>\n",
       "      <td>AxesSubplot(0.125,0.2;0.775x0.68)</td>\n",
       "      <td>AxesSubplot(0.125,0.2;0.775x0.68)</td>\n",
       "    </tr>\n",
       "    <tr>\n",
       "      <th>2020-11-30</th>\n",
       "      <td>AxesSubplot(0.125,0.2;0.775x0.68)</td>\n",
       "      <td>AxesSubplot(0.125,0.2;0.775x0.68)</td>\n",
       "    </tr>\n",
       "    <tr>\n",
       "      <th>2020-12-31</th>\n",
       "      <td>AxesSubplot(0.125,0.2;0.775x0.68)</td>\n",
       "      <td>AxesSubplot(0.125,0.2;0.775x0.68)</td>\n",
       "    </tr>\n",
       "  </tbody>\n",
       "</table>\n",
       "</div>"
      ],
      "text/plain": [
       "                                    dow_close  \\\n",
       "Date                                            \n",
       "2019-12-31  AxesSubplot(0.125,0.2;0.775x0.68)   \n",
       "2020-01-31  AxesSubplot(0.125,0.2;0.775x0.68)   \n",
       "2020-02-29  AxesSubplot(0.125,0.2;0.775x0.68)   \n",
       "2020-03-31  AxesSubplot(0.125,0.2;0.775x0.68)   \n",
       "2020-04-30  AxesSubplot(0.125,0.2;0.775x0.68)   \n",
       "2020-05-31  AxesSubplot(0.125,0.2;0.775x0.68)   \n",
       "2020-06-30  AxesSubplot(0.125,0.2;0.775x0.68)   \n",
       "2020-07-31  AxesSubplot(0.125,0.2;0.775x0.68)   \n",
       "2020-08-31  AxesSubplot(0.125,0.2;0.775x0.68)   \n",
       "2020-09-30  AxesSubplot(0.125,0.2;0.775x0.68)   \n",
       "2020-10-31  AxesSubplot(0.125,0.2;0.775x0.68)   \n",
       "2020-11-30  AxesSubplot(0.125,0.2;0.775x0.68)   \n",
       "2020-12-31  AxesSubplot(0.125,0.2;0.775x0.68)   \n",
       "\n",
       "                                    bit_close  \n",
       "Date                                           \n",
       "2019-12-31  AxesSubplot(0.125,0.2;0.775x0.68)  \n",
       "2020-01-31  AxesSubplot(0.125,0.2;0.775x0.68)  \n",
       "2020-02-29  AxesSubplot(0.125,0.2;0.775x0.68)  \n",
       "2020-03-31  AxesSubplot(0.125,0.2;0.775x0.68)  \n",
       "2020-04-30  AxesSubplot(0.125,0.2;0.775x0.68)  \n",
       "2020-05-31  AxesSubplot(0.125,0.2;0.775x0.68)  \n",
       "2020-06-30  AxesSubplot(0.125,0.2;0.775x0.68)  \n",
       "2020-07-31  AxesSubplot(0.125,0.2;0.775x0.68)  \n",
       "2020-08-31  AxesSubplot(0.125,0.2;0.775x0.68)  \n",
       "2020-09-30  AxesSubplot(0.125,0.2;0.775x0.68)  \n",
       "2020-10-31  AxesSubplot(0.125,0.2;0.775x0.68)  \n",
       "2020-11-30  AxesSubplot(0.125,0.2;0.775x0.68)  \n",
       "2020-12-31  AxesSubplot(0.125,0.2;0.775x0.68)  "
      ]
     },
     "execution_count": 29,
     "metadata": {},
     "output_type": "execute_result"
    },
    {
     "data": {
      "image/png": "[encoded data removed]",
      "text/plain": [
       "<Figure size 432x288 with 1 Axes>"
      ]
     },
     "metadata": {
      "needs_background": "light"
     },
     "output_type": "display_data"
    }
   ],
   "source": [
    "#Visualize how the dow and bitcoin performed by month\n",
    "result.resample('M').plot()"
   ]
  },
  {
   "cell_type": "code",
   "execution_count": 30,
   "metadata": {},
   "outputs": [],
   "source": [
    "import matplotlib.pyplot as plt\n",
    "import seaborn as sns"
   ]
  },
  {
   "cell_type": "code",
   "execution_count": 31,
   "metadata": {},
   "outputs": [
    {
     "data": {
      "image/png": "[encoded data removed]",
      "text/plain": [
       "<Figure size 1152x648 with 2 Axes>"
      ]
     },
     "metadata": {
      "needs_background": "light"
     },
     "output_type": "display_data"
    }
   ],
   "source": [
    "#Matplotlib viz to see in more detail how dow and bitcoin performed over time.\n",
    "plt.figure(figsize=(16,9))\n",
    "plt.xlabel('Dow vs Bitcoin')\n",
    "\n",
    "ax1 = result.dow_close.plot(color='blue', grid=True, label='Dow')\n",
    "ax2 = result.bit_close.plot(color='red', grid=True, secondary_y=True, label='Bitcoin')\n",
    "\n",
    "# ax1.legend(loc=1)\n",
    "# ax2.legend(loc=2)\n",
    "plt.legend(loc='upper right')\n",
    "plt.show()"
   ]
  },
  {
   "cell_type": "code",
   "execution_count": 32,
   "metadata": {},
   "outputs": [
    {
     "data": {
      "text/plain": [
       "<seaborn.axisgrid.FacetGrid at 0x7fb6c9ab0750>"
      ]
     },
     "execution_count": 32,
     "metadata": {},
     "output_type": "execute_result"
    },
    {
     "data": {
      "image/png": "[encoded data removed]",
      "text/plain": [
       "<Figure size 360x360 with 1 Axes>"
      ]
     },
     "metadata": {
      "needs_background": "light"
     },
     "output_type": "display_data"
    }
   ],
   "source": [
    "#Correlation plot showing close relationship between dow and bitcoin performance.\n",
    "sns.relplot(data=result, x='dow_close', y='bit_close')"
   ]
  },
  {
   "cell_type": "code",
   "execution_count": 33,
   "metadata": {},
   "outputs": [
    {
     "data": {
      "text/plain": [
       "<AxesSubplot:>"
      ]
     },
     "execution_count": 33,
     "metadata": {},
     "output_type": "execute_result"
    },
    {
     "data": {
      "image/png": "[encoded data removed]",
      "text/plain": [
       "<Figure size 432x288 with 1 Axes>"
      ]
     },
     "metadata": {
      "needs_background": "light"
     },
     "output_type": "display_data"
    }
   ],
   "source": [
    "#Histogram showing most frequent price over year period\n",
    "result.bit_close.hist()"
   ]
  },
  {
   "cell_type": "code",
   "execution_count": 34,
   "metadata": {},
   "outputs": [
    {
     "data": {
      "text/plain": [
       "<AxesSubplot:>"
      ]
     },
     "execution_count": 34,
     "metadata": {},
     "output_type": "execute_result"
    },
    {
     "data": {
      "image/png": "[encoded data removed]",
      "text/plain": [
       "<Figure size 432x288 with 1 Axes>"
      ]
     },
     "metadata": {
      "needs_background": "light"
     },
     "output_type": "display_data"
    }
   ],
   "source": [
    "result.dow_close.hist()"
   ]
  },
  {
   "cell_type": "code",
   "execution_count": 35,
   "metadata": {},
   "outputs": [],
   "source": [
    "#Pull in gold data over same time period \n",
    "gold = pd.read_csv('gold.csv')"
   ]
  },
  {
   "cell_type": "code",
   "execution_count": 36,
   "metadata": {},
   "outputs": [
    {
     "data": {
      "text/html": [
       "<div>\n",
       "<style scoped>\n",
       "    .dataframe tbody tr th:only-of-type {\n",
       "        vertical-align: middle;\n",
       "    }\n",
       "\n",
       "    .dataframe tbody tr th {\n",
       "        vertical-align: top;\n",
       "    }\n",
       "\n",
       "    .dataframe thead th {\n",
       "        text-align: right;\n",
       "    }\n",
       "</style>\n",
       "<table border=\"1\" class=\"dataframe\">\n",
       "  <thead>\n",
       "    <tr style=\"text-align: right;\">\n",
       "      <th></th>\n",
       "      <th>Date</th>\n",
       "      <th>Open</th>\n",
       "      <th>High</th>\n",
       "      <th>Low</th>\n",
       "      <th>Close</th>\n",
       "      <th>Adj Close</th>\n",
       "      <th>Volume</th>\n",
       "    </tr>\n",
       "  </thead>\n",
       "  <tbody>\n",
       "    <tr>\n",
       "      <th>0</th>\n",
       "      <td>2019-12-22</td>\n",
       "      <td>1482.400024</td>\n",
       "      <td>1482.500000</td>\n",
       "      <td>1481.199951</td>\n",
       "      <td>1482.099976</td>\n",
       "      <td>1482.099976</td>\n",
       "      <td>72933.0</td>\n",
       "    </tr>\n",
       "    <tr>\n",
       "      <th>1</th>\n",
       "      <td>2019-12-23</td>\n",
       "      <td>1482.300049</td>\n",
       "      <td>1482.500000</td>\n",
       "      <td>1479.900024</td>\n",
       "      <td>1482.500000</td>\n",
       "      <td>1482.500000</td>\n",
       "      <td>391.0</td>\n",
       "    </tr>\n",
       "    <tr>\n",
       "      <th>2</th>\n",
       "      <td>2019-12-24</td>\n",
       "      <td>NaN</td>\n",
       "      <td>NaN</td>\n",
       "      <td>NaN</td>\n",
       "      <td>NaN</td>\n",
       "      <td>NaN</td>\n",
       "      <td>NaN</td>\n",
       "    </tr>\n",
       "    <tr>\n",
       "      <th>3</th>\n",
       "      <td>2019-12-26</td>\n",
       "      <td>1505.199951</td>\n",
       "      <td>1512.300049</td>\n",
       "      <td>1505.000000</td>\n",
       "      <td>1509.300049</td>\n",
       "      <td>1509.300049</td>\n",
       "      <td>126.0</td>\n",
       "    </tr>\n",
       "    <tr>\n",
       "      <th>4</th>\n",
       "      <td>2019-12-27</td>\n",
       "      <td>1513.800049</td>\n",
       "      <td>1513.800049</td>\n",
       "      <td>1513.800049</td>\n",
       "      <td>1513.800049</td>\n",
       "      <td>1513.800049</td>\n",
       "      <td>839.0</td>\n",
       "    </tr>\n",
       "  </tbody>\n",
       "</table>\n",
       "</div>"
      ],
      "text/plain": [
       "         Date         Open         High          Low        Close  \\\n",
       "0  2019-12-22  1482.400024  1482.500000  1481.199951  1482.099976   \n",
       "1  2019-12-23  1482.300049  1482.500000  1479.900024  1482.500000   \n",
       "2  2019-12-24          NaN          NaN          NaN          NaN   \n",
       "3  2019-12-26  1505.199951  1512.300049  1505.000000  1509.300049   \n",
       "4  2019-12-27  1513.800049  1513.800049  1513.800049  1513.800049   \n",
       "\n",
       "     Adj Close   Volume  \n",
       "0  1482.099976  72933.0  \n",
       "1  1482.500000    391.0  \n",
       "2          NaN      NaN  \n",
       "3  1509.300049    126.0  \n",
       "4  1513.800049    839.0  "
      ]
     },
     "execution_count": 36,
     "metadata": {},
     "output_type": "execute_result"
    }
   ],
   "source": [
    "gold.head()"
   ]
  },
  {
   "cell_type": "code",
   "execution_count": 37,
   "metadata": {},
   "outputs": [],
   "source": [
    "#Convert date to datetime format\n",
    "gold.Date = pd.to_datetime(gold.Date)"
   ]
  },
  {
   "cell_type": "code",
   "execution_count": 38,
   "metadata": {},
   "outputs": [],
   "source": [
    "#Set the data to the index for time series analysis \n",
    "gold = gold.set_index('Date').sort_index()"
   ]
  },
  {
   "cell_type": "code",
   "execution_count": 39,
   "metadata": {},
   "outputs": [],
   "source": [
    "#narrow down to adjusted close df\n",
    "gold = gold[['Adj Close']]"
   ]
  },
  {
   "cell_type": "code",
   "execution_count": 40,
   "metadata": {},
   "outputs": [
    {
     "data": {
      "text/html": [
       "<div>\n",
       "<style scoped>\n",
       "    .dataframe tbody tr th:only-of-type {\n",
       "        vertical-align: middle;\n",
       "    }\n",
       "\n",
       "    .dataframe tbody tr th {\n",
       "        vertical-align: top;\n",
       "    }\n",
       "\n",
       "    .dataframe thead th {\n",
       "        text-align: right;\n",
       "    }\n",
       "</style>\n",
       "<table border=\"1\" class=\"dataframe\">\n",
       "  <thead>\n",
       "    <tr style=\"text-align: right;\">\n",
       "      <th></th>\n",
       "      <th>Adj Close</th>\n",
       "    </tr>\n",
       "    <tr>\n",
       "      <th>Date</th>\n",
       "      <th></th>\n",
       "    </tr>\n",
       "  </thead>\n",
       "  <tbody>\n",
       "    <tr>\n",
       "      <th>2019-12-22</th>\n",
       "      <td>1482.099976</td>\n",
       "    </tr>\n",
       "    <tr>\n",
       "      <th>2019-12-23</th>\n",
       "      <td>1482.500000</td>\n",
       "    </tr>\n",
       "    <tr>\n",
       "      <th>2019-12-24</th>\n",
       "      <td>NaN</td>\n",
       "    </tr>\n",
       "    <tr>\n",
       "      <th>2019-12-26</th>\n",
       "      <td>1509.300049</td>\n",
       "    </tr>\n",
       "    <tr>\n",
       "      <th>2019-12-27</th>\n",
       "      <td>1513.800049</td>\n",
       "    </tr>\n",
       "  </tbody>\n",
       "</table>\n",
       "</div>"
      ],
      "text/plain": [
       "              Adj Close\n",
       "Date                   \n",
       "2019-12-22  1482.099976\n",
       "2019-12-23  1482.500000\n",
       "2019-12-24          NaN\n",
       "2019-12-26  1509.300049\n",
       "2019-12-27  1513.800049"
      ]
     },
     "execution_count": 40,
     "metadata": {},
     "output_type": "execute_result"
    }
   ],
   "source": [
    "gold.head()"
   ]
  },
  {
   "cell_type": "code",
   "execution_count": 41,
   "metadata": {},
   "outputs": [
    {
     "data": {
      "text/plain": [
       "Adj Close    22\n",
       "dtype: int64"
      ]
     },
     "execution_count": 41,
     "metadata": {},
     "output_type": "execute_result"
    }
   ],
   "source": [
    "gold.isna().sum()"
   ]
  },
  {
   "cell_type": "code",
   "execution_count": 42,
   "metadata": {},
   "outputs": [],
   "source": [
    "#22 null values over course of the year. Imputing with mean\n",
    "gold['Adj Close'].fillna(gold['Adj Close'].mean(), inplace=True)"
   ]
  },
  {
   "cell_type": "code",
   "execution_count": 43,
   "metadata": {},
   "outputs": [
    {
     "data": {
      "text/html": [
       "<div>\n",
       "<style scoped>\n",
       "    .dataframe tbody tr th:only-of-type {\n",
       "        vertical-align: middle;\n",
       "    }\n",
       "\n",
       "    .dataframe tbody tr th {\n",
       "        vertical-align: top;\n",
       "    }\n",
       "\n",
       "    .dataframe thead th {\n",
       "        text-align: right;\n",
       "    }\n",
       "</style>\n",
       "<table border=\"1\" class=\"dataframe\">\n",
       "  <thead>\n",
       "    <tr style=\"text-align: right;\">\n",
       "      <th></th>\n",
       "      <th>Adj Close</th>\n",
       "    </tr>\n",
       "    <tr>\n",
       "      <th>Date</th>\n",
       "      <th></th>\n",
       "    </tr>\n",
       "  </thead>\n",
       "  <tbody>\n",
       "    <tr>\n",
       "      <th>2019-12-22</th>\n",
       "      <td>1482.099976</td>\n",
       "    </tr>\n",
       "    <tr>\n",
       "      <th>2019-12-23</th>\n",
       "      <td>1482.500000</td>\n",
       "    </tr>\n",
       "    <tr>\n",
       "      <th>2019-12-24</th>\n",
       "      <td>1760.047701</td>\n",
       "    </tr>\n",
       "    <tr>\n",
       "      <th>2019-12-26</th>\n",
       "      <td>1509.300049</td>\n",
       "    </tr>\n",
       "    <tr>\n",
       "      <th>2019-12-27</th>\n",
       "      <td>1513.800049</td>\n",
       "    </tr>\n",
       "  </tbody>\n",
       "</table>\n",
       "</div>"
      ],
      "text/plain": [
       "              Adj Close\n",
       "Date                   \n",
       "2019-12-22  1482.099976\n",
       "2019-12-23  1482.500000\n",
       "2019-12-24  1760.047701\n",
       "2019-12-26  1509.300049\n",
       "2019-12-27  1513.800049"
      ]
     },
     "execution_count": 43,
     "metadata": {},
     "output_type": "execute_result"
    }
   ],
   "source": [
    "gold.head()"
   ]
  },
  {
   "cell_type": "code",
   "execution_count": 44,
   "metadata": {},
   "outputs": [],
   "source": [
    "gold['Adj Close'] = round(gold['Adj Close'], 2)"
   ]
  },
  {
   "cell_type": "code",
   "execution_count": 45,
   "metadata": {},
   "outputs": [],
   "source": [
    "gold.rename(columns={'Adj Close': 'gold_close'}, inplace=True)"
   ]
  },
  {
   "cell_type": "code",
   "execution_count": 46,
   "metadata": {},
   "outputs": [
    {
     "data": {
      "text/html": [
       "<div>\n",
       "<style scoped>\n",
       "    .dataframe tbody tr th:only-of-type {\n",
       "        vertical-align: middle;\n",
       "    }\n",
       "\n",
       "    .dataframe tbody tr th {\n",
       "        vertical-align: top;\n",
       "    }\n",
       "\n",
       "    .dataframe thead th {\n",
       "        text-align: right;\n",
       "    }\n",
       "</style>\n",
       "<table border=\"1\" class=\"dataframe\">\n",
       "  <thead>\n",
       "    <tr style=\"text-align: right;\">\n",
       "      <th></th>\n",
       "      <th>gold_close</th>\n",
       "    </tr>\n",
       "    <tr>\n",
       "      <th>Date</th>\n",
       "      <th></th>\n",
       "    </tr>\n",
       "  </thead>\n",
       "  <tbody>\n",
       "    <tr>\n",
       "      <th>2019-12-22</th>\n",
       "      <td>1482.10</td>\n",
       "    </tr>\n",
       "    <tr>\n",
       "      <th>2019-12-23</th>\n",
       "      <td>1482.50</td>\n",
       "    </tr>\n",
       "    <tr>\n",
       "      <th>2019-12-24</th>\n",
       "      <td>1760.05</td>\n",
       "    </tr>\n",
       "    <tr>\n",
       "      <th>2019-12-26</th>\n",
       "      <td>1509.30</td>\n",
       "    </tr>\n",
       "    <tr>\n",
       "      <th>2019-12-27</th>\n",
       "      <td>1513.80</td>\n",
       "    </tr>\n",
       "  </tbody>\n",
       "</table>\n",
       "</div>"
      ],
      "text/plain": [
       "            gold_close\n",
       "Date                  \n",
       "2019-12-22     1482.10\n",
       "2019-12-23     1482.50\n",
       "2019-12-24     1760.05\n",
       "2019-12-26     1509.30\n",
       "2019-12-27     1513.80"
      ]
     },
     "execution_count": 46,
     "metadata": {},
     "output_type": "execute_result"
    }
   ],
   "source": [
    "gold.head()"
   ]
  },
  {
   "cell_type": "code",
   "execution_count": 47,
   "metadata": {},
   "outputs": [],
   "source": [
    "#Merge gold with dow and bitcoin into a new df.\n",
    "df = pd.merge(result, gold, on='Date')"
   ]
  },
  {
   "cell_type": "code",
   "execution_count": 48,
   "metadata": {},
   "outputs": [
    {
     "data": {
      "text/html": [
       "<div>\n",
       "<style scoped>\n",
       "    .dataframe tbody tr th:only-of-type {\n",
       "        vertical-align: middle;\n",
       "    }\n",
       "\n",
       "    .dataframe tbody tr th {\n",
       "        vertical-align: top;\n",
       "    }\n",
       "\n",
       "    .dataframe thead th {\n",
       "        text-align: right;\n",
       "    }\n",
       "</style>\n",
       "<table border=\"1\" class=\"dataframe\">\n",
       "  <thead>\n",
       "    <tr style=\"text-align: right;\">\n",
       "      <th></th>\n",
       "      <th>dow_close</th>\n",
       "      <th>bit_close</th>\n",
       "      <th>gold_close</th>\n",
       "    </tr>\n",
       "    <tr>\n",
       "      <th>Date</th>\n",
       "      <th></th>\n",
       "      <th></th>\n",
       "      <th></th>\n",
       "    </tr>\n",
       "  </thead>\n",
       "  <tbody>\n",
       "    <tr>\n",
       "      <th>2019-12-23</th>\n",
       "      <td>28551.53</td>\n",
       "      <td>7355.63</td>\n",
       "      <td>1482.50</td>\n",
       "    </tr>\n",
       "    <tr>\n",
       "      <th>2019-12-24</th>\n",
       "      <td>28515.45</td>\n",
       "      <td>7322.53</td>\n",
       "      <td>1760.05</td>\n",
       "    </tr>\n",
       "    <tr>\n",
       "      <th>2019-12-26</th>\n",
       "      <td>28621.39</td>\n",
       "      <td>7238.97</td>\n",
       "      <td>1509.30</td>\n",
       "    </tr>\n",
       "    <tr>\n",
       "      <th>2019-12-27</th>\n",
       "      <td>28645.26</td>\n",
       "      <td>7290.09</td>\n",
       "      <td>1513.80</td>\n",
       "    </tr>\n",
       "    <tr>\n",
       "      <th>2019-12-30</th>\n",
       "      <td>28462.14</td>\n",
       "      <td>7293.00</td>\n",
       "      <td>1514.50</td>\n",
       "    </tr>\n",
       "  </tbody>\n",
       "</table>\n",
       "</div>"
      ],
      "text/plain": [
       "            dow_close  bit_close  gold_close\n",
       "Date                                        \n",
       "2019-12-23   28551.53    7355.63     1482.50\n",
       "2019-12-24   28515.45    7322.53     1760.05\n",
       "2019-12-26   28621.39    7238.97     1509.30\n",
       "2019-12-27   28645.26    7290.09     1513.80\n",
       "2019-12-30   28462.14    7293.00     1514.50"
      ]
     },
     "execution_count": 48,
     "metadata": {},
     "output_type": "execute_result"
    }
   ],
   "source": [
    "df.head()"
   ]
  },
  {
   "cell_type": "code",
   "execution_count": 49,
   "metadata": {},
   "outputs": [
    {
     "data": {
      "image/png": "[encoded data removed]",
      "text/plain": [
       "<Figure size 432x288 with 1 Axes>"
      ]
     },
     "metadata": {
      "needs_background": "light"
     },
     "output_type": "display_data"
    }
   ],
   "source": [
    "df.plot()\n",
    "fig = plt.gcf()  # get current figure\n",
    "fig.savefig(\"x.png\")"
   ]
  },
  {
   "cell_type": "code",
   "execution_count": 50,
   "metadata": {},
   "outputs": [
    {
     "data": {
      "text/plain": [
       "<AxesSubplot:>"
      ]
     },
     "execution_count": 50,
     "metadata": {},
     "output_type": "execute_result"
    },
    {
     "data": {
      "image/png": "[encoded data removed]",
      "text/plain": [
       "<Figure size 432x288 with 1 Axes>"
      ]
     },
     "metadata": {
      "needs_background": "light"
     },
     "output_type": "display_data"
    }
   ],
   "source": [
    "df.gold_close.hist()"
   ]
  },
  {
   "cell_type": "code",
   "execution_count": 93,
   "metadata": {},
   "outputs": [],
   "source": [
    "#Gold has a narrow range of pricepoints"
   ]
  },
  {
   "cell_type": "code",
   "execution_count": 51,
   "metadata": {},
   "outputs": [
    {
     "data": {
      "text/plain": [
       "<AxesSubplot:xlabel='Date'>"
      ]
     },
     "execution_count": 51,
     "metadata": {},
     "output_type": "execute_result"
    },
    {
     "data": {
      "image/png": "[encoded data removed]",
      "text/plain": [
       "<Figure size 432x288 with 1 Axes>"
      ]
     },
     "metadata": {
      "needs_background": "light"
     },
     "output_type": "display_data"
    }
   ],
   "source": [
    "df.plot()"
   ]
  },
  {
   "cell_type": "code",
   "execution_count": 52,
   "metadata": {},
   "outputs": [
    {
     "data": {
      "text/plain": [
       "<AxesSubplot:xlabel='Date'>"
      ]
     },
     "execution_count": 52,
     "metadata": {},
     "output_type": "execute_result"
    },
    {
     "data": {
      "image/png": "[encoded data removed]",
      "text/plain": [
       "<Figure size 432x288 with 1 Axes>"
      ]
     },
     "metadata": {
      "needs_background": "light"
     },
     "output_type": "display_data"
    }
   ],
   "source": [
    "df.gold_close.plot()"
   ]
  },
  {
   "cell_type": "code",
   "execution_count": null,
   "metadata": {},
   "outputs": [],
   "source": [
    "#Viewing gold on its own gives a better viz of its price flucuations"
   ]
  },
  {
   "cell_type": "markdown",
   "metadata": {},
   "source": [
    "# Stastistical Testing"
   ]
  },
  {
   "cell_type": "code",
   "execution_count": 53,
   "metadata": {},
   "outputs": [],
   "source": [
    "from scipy import stats\n"
   ]
  },
  {
   "cell_type": "code",
   "execution_count": 54,
   "metadata": {},
   "outputs": [
    {
     "name": "stdout",
     "output_type": "stream",
     "text": [
      "<class 'pandas.core.frame.DataFrame'>\n",
      "DatetimeIndex: 252 entries, 2019-12-23 to 2020-12-21\n",
      "Data columns (total 3 columns):\n",
      " #   Column      Non-Null Count  Dtype  \n",
      "---  ------      --------------  -----  \n",
      " 0   dow_close   252 non-null    float64\n",
      " 1   bit_close   252 non-null    float64\n",
      " 2   gold_close  252 non-null    float64\n",
      "dtypes: float64(3)\n",
      "memory usage: 7.9 KB\n"
     ]
    }
   ],
   "source": [
    "df.info()"
   ]
  },
  {
   "cell_type": "code",
   "execution_count": 94,
   "metadata": {},
   "outputs": [],
   "source": [
    "#Null hypothesis: There is no significant relationship between the price of the dow and the price of gold."
   ]
  },
  {
   "cell_type": "code",
   "execution_count": 55,
   "metadata": {},
   "outputs": [],
   "source": [
    "x = df.dow_close\n",
    "y = df.gold_close"
   ]
  },
  {
   "cell_type": "code",
   "execution_count": 56,
   "metadata": {},
   "outputs": [
    {
     "data": {
      "text/plain": [
       "(0.3159655569704276, 3.011980722890436e-07)"
      ]
     },
     "execution_count": 56,
     "metadata": {},
     "output_type": "execute_result"
    }
   ],
   "source": [
    "corr, p = stats.pearsonr(x, y)\n",
    "corr, p"
   ]
  },
  {
   "cell_type": "code",
   "execution_count": null,
   "metadata": {},
   "outputs": [],
   "source": [
    "#Reject the null hypothesis. There is a significant relationship between the two variables. "
   ]
  },
  {
   "cell_type": "code",
   "execution_count": null,
   "metadata": {},
   "outputs": [],
   "source": [
    "#Null hypothesis: There is no significant relationship between the price of Bitcoin and the price of gold."
   ]
  },
  {
   "cell_type": "code",
   "execution_count": 57,
   "metadata": {},
   "outputs": [],
   "source": [
    "x = df.bit_close\n",
    "y = df.gold_close"
   ]
  },
  {
   "cell_type": "code",
   "execution_count": 58,
   "metadata": {},
   "outputs": [
    {
     "data": {
      "text/plain": [
       "(0.5546937615208548, 9.831988829248434e-22)"
      ]
     },
     "execution_count": 58,
     "metadata": {},
     "output_type": "execute_result"
    }
   ],
   "source": [
    "corr, p = stats.pearsonr(x, y)\n",
    "corr, p"
   ]
  },
  {
   "cell_type": "code",
   "execution_count": null,
   "metadata": {},
   "outputs": [],
   "source": [
    "#Reject the null hypothesis. There is a significant relationship between the two variables. "
   ]
  },
  {
   "cell_type": "code",
   "execution_count": 95,
   "metadata": {},
   "outputs": [],
   "source": [
    "#Null hypothesis: There is no significant relationship between the price of Bitcoin and the Dow."
   ]
  },
  {
   "cell_type": "code",
   "execution_count": 59,
   "metadata": {},
   "outputs": [],
   "source": [
    "x = df.dow_close\n",
    "y = df.bit_close"
   ]
  },
  {
   "cell_type": "code",
   "execution_count": 60,
   "metadata": {},
   "outputs": [
    {
     "data": {
      "text/plain": [
       "(0.649419059951764, 1.4209950572715367e-31)"
      ]
     },
     "execution_count": 60,
     "metadata": {},
     "output_type": "execute_result"
    }
   ],
   "source": [
    "corr, p = stats.pearsonr(x, y)\n",
    "corr, p"
   ]
  },
  {
   "cell_type": "code",
   "execution_count": 96,
   "metadata": {},
   "outputs": [],
   "source": [
    "#Reject the null hypothesis. There is a significant relationship between the two variables. "
   ]
  },
  {
   "cell_type": "code",
   "execution_count": 61,
   "metadata": {},
   "outputs": [],
   "source": [
    "#There is a realationship between the prices of each index, but it's not inverse as expected.\n",
    "#What is causing this trend?"
   ]
  },
  {
   "cell_type": "markdown",
   "metadata": {},
   "source": [
    "# Further Exploration\n",
    "- Going to look at which day did each of the variables hit their peak over the year timespan."
   ]
  },
  {
   "cell_type": "code",
   "execution_count": 62,
   "metadata": {},
   "outputs": [
    {
     "data": {
      "text/html": [
       "<div>\n",
       "<style scoped>\n",
       "    .dataframe tbody tr th:only-of-type {\n",
       "        vertical-align: middle;\n",
       "    }\n",
       "\n",
       "    .dataframe tbody tr th {\n",
       "        vertical-align: top;\n",
       "    }\n",
       "\n",
       "    .dataframe thead th {\n",
       "        text-align: right;\n",
       "    }\n",
       "</style>\n",
       "<table border=\"1\" class=\"dataframe\">\n",
       "  <thead>\n",
       "    <tr style=\"text-align: right;\">\n",
       "      <th></th>\n",
       "      <th>dow_close</th>\n",
       "      <th>bit_close</th>\n",
       "      <th>gold_close</th>\n",
       "    </tr>\n",
       "    <tr>\n",
       "      <th>Date</th>\n",
       "      <th></th>\n",
       "      <th></th>\n",
       "      <th></th>\n",
       "    </tr>\n",
       "  </thead>\n",
       "  <tbody>\n",
       "    <tr>\n",
       "      <th>2019-12-23</th>\n",
       "      <td>28551.53</td>\n",
       "      <td>7355.63</td>\n",
       "      <td>1482.50</td>\n",
       "    </tr>\n",
       "    <tr>\n",
       "      <th>2019-12-24</th>\n",
       "      <td>28515.45</td>\n",
       "      <td>7322.53</td>\n",
       "      <td>1760.05</td>\n",
       "    </tr>\n",
       "    <tr>\n",
       "      <th>2019-12-26</th>\n",
       "      <td>28621.39</td>\n",
       "      <td>7238.97</td>\n",
       "      <td>1509.30</td>\n",
       "    </tr>\n",
       "    <tr>\n",
       "      <th>2019-12-27</th>\n",
       "      <td>28645.26</td>\n",
       "      <td>7290.09</td>\n",
       "      <td>1513.80</td>\n",
       "    </tr>\n",
       "    <tr>\n",
       "      <th>2019-12-30</th>\n",
       "      <td>28462.14</td>\n",
       "      <td>7293.00</td>\n",
       "      <td>1514.50</td>\n",
       "    </tr>\n",
       "  </tbody>\n",
       "</table>\n",
       "</div>"
      ],
      "text/plain": [
       "            dow_close  bit_close  gold_close\n",
       "Date                                        \n",
       "2019-12-23   28551.53    7355.63     1482.50\n",
       "2019-12-24   28515.45    7322.53     1760.05\n",
       "2019-12-26   28621.39    7238.97     1509.30\n",
       "2019-12-27   28645.26    7290.09     1513.80\n",
       "2019-12-30   28462.14    7293.00     1514.50"
      ]
     },
     "execution_count": 62,
     "metadata": {},
     "output_type": "execute_result"
    }
   ],
   "source": [
    "df.head()"
   ]
  },
  {
   "cell_type": "code",
   "execution_count": 63,
   "metadata": {},
   "outputs": [
    {
     "data": {
      "text/plain": [
       "30303.37"
      ]
     },
     "execution_count": 63,
     "metadata": {},
     "output_type": "execute_result"
    }
   ],
   "source": [
    "max(df.dow_close)"
   ]
  },
  {
   "cell_type": "code",
   "execution_count": 64,
   "metadata": {},
   "outputs": [
    {
     "data": {
      "text/html": [
       "<div>\n",
       "<style scoped>\n",
       "    .dataframe tbody tr th:only-of-type {\n",
       "        vertical-align: middle;\n",
       "    }\n",
       "\n",
       "    .dataframe tbody tr th {\n",
       "        vertical-align: top;\n",
       "    }\n",
       "\n",
       "    .dataframe thead th {\n",
       "        text-align: right;\n",
       "    }\n",
       "</style>\n",
       "<table border=\"1\" class=\"dataframe\">\n",
       "  <thead>\n",
       "    <tr style=\"text-align: right;\">\n",
       "      <th></th>\n",
       "      <th>dow_close</th>\n",
       "      <th>bit_close</th>\n",
       "      <th>gold_close</th>\n",
       "    </tr>\n",
       "    <tr>\n",
       "      <th>Date</th>\n",
       "      <th></th>\n",
       "      <th></th>\n",
       "      <th></th>\n",
       "    </tr>\n",
       "  </thead>\n",
       "  <tbody>\n",
       "    <tr>\n",
       "      <th>2020-12-17</th>\n",
       "      <td>30303.37</td>\n",
       "      <td>22805.16</td>\n",
       "      <td>1887.2</td>\n",
       "    </tr>\n",
       "  </tbody>\n",
       "</table>\n",
       "</div>"
      ],
      "text/plain": [
       "            dow_close  bit_close  gold_close\n",
       "Date                                        \n",
       "2020-12-17   30303.37   22805.16      1887.2"
      ]
     },
     "execution_count": 64,
     "metadata": {},
     "output_type": "execute_result"
    }
   ],
   "source": [
    "df[df.dow_close == 30303.37]"
   ]
  },
  {
   "cell_type": "code",
   "execution_count": 65,
   "metadata": {},
   "outputs": [
    {
     "data": {
      "text/plain": [
       "23137.96"
      ]
     },
     "execution_count": 65,
     "metadata": {},
     "output_type": "execute_result"
    }
   ],
   "source": [
    "max(df.bit_close)"
   ]
  },
  {
   "cell_type": "code",
   "execution_count": 66,
   "metadata": {},
   "outputs": [
    {
     "data": {
      "text/html": [
       "<div>\n",
       "<style scoped>\n",
       "    .dataframe tbody tr th:only-of-type {\n",
       "        vertical-align: middle;\n",
       "    }\n",
       "\n",
       "    .dataframe tbody tr th {\n",
       "        vertical-align: top;\n",
       "    }\n",
       "\n",
       "    .dataframe thead th {\n",
       "        text-align: right;\n",
       "    }\n",
       "</style>\n",
       "<table border=\"1\" class=\"dataframe\">\n",
       "  <thead>\n",
       "    <tr style=\"text-align: right;\">\n",
       "      <th></th>\n",
       "      <th>dow_close</th>\n",
       "      <th>bit_close</th>\n",
       "      <th>gold_close</th>\n",
       "    </tr>\n",
       "    <tr>\n",
       "      <th>Date</th>\n",
       "      <th></th>\n",
       "      <th></th>\n",
       "      <th></th>\n",
       "    </tr>\n",
       "  </thead>\n",
       "  <tbody>\n",
       "    <tr>\n",
       "      <th>2020-12-18</th>\n",
       "      <td>30179.05</td>\n",
       "      <td>23137.96</td>\n",
       "      <td>1885.7</td>\n",
       "    </tr>\n",
       "  </tbody>\n",
       "</table>\n",
       "</div>"
      ],
      "text/plain": [
       "            dow_close  bit_close  gold_close\n",
       "Date                                        \n",
       "2020-12-18   30179.05   23137.96      1885.7"
      ]
     },
     "execution_count": 66,
     "metadata": {},
     "output_type": "execute_result"
    }
   ],
   "source": [
    "df[df.bit_close == 23137.96]"
   ]
  },
  {
   "cell_type": "code",
   "execution_count": 67,
   "metadata": {},
   "outputs": [
    {
     "data": {
      "text/plain": [
       "2051.5"
      ]
     },
     "execution_count": 67,
     "metadata": {},
     "output_type": "execute_result"
    }
   ],
   "source": [
    "max(df.gold_close)"
   ]
  },
  {
   "cell_type": "code",
   "execution_count": 68,
   "metadata": {},
   "outputs": [
    {
     "data": {
      "text/html": [
       "<div>\n",
       "<style scoped>\n",
       "    .dataframe tbody tr th:only-of-type {\n",
       "        vertical-align: middle;\n",
       "    }\n",
       "\n",
       "    .dataframe tbody tr th {\n",
       "        vertical-align: top;\n",
       "    }\n",
       "\n",
       "    .dataframe thead th {\n",
       "        text-align: right;\n",
       "    }\n",
       "</style>\n",
       "<table border=\"1\" class=\"dataframe\">\n",
       "  <thead>\n",
       "    <tr style=\"text-align: right;\">\n",
       "      <th></th>\n",
       "      <th>dow_close</th>\n",
       "      <th>bit_close</th>\n",
       "      <th>gold_close</th>\n",
       "    </tr>\n",
       "    <tr>\n",
       "      <th>Date</th>\n",
       "      <th></th>\n",
       "      <th></th>\n",
       "      <th></th>\n",
       "    </tr>\n",
       "  </thead>\n",
       "  <tbody>\n",
       "    <tr>\n",
       "      <th>2020-08-06</th>\n",
       "      <td>27386.98</td>\n",
       "      <td>11779.77</td>\n",
       "      <td>2051.5</td>\n",
       "    </tr>\n",
       "  </tbody>\n",
       "</table>\n",
       "</div>"
      ],
      "text/plain": [
       "            dow_close  bit_close  gold_close\n",
       "Date                                        \n",
       "2020-08-06   27386.98   11779.77      2051.5"
      ]
     },
     "execution_count": 68,
     "metadata": {},
     "output_type": "execute_result"
    }
   ],
   "source": [
    "df[df.gold_close == 2051.5]"
   ]
  },
  {
   "cell_type": "code",
   "execution_count": 97,
   "metadata": {},
   "outputs": [],
   "source": [
    "#Both the Dow and Bitcoin hit their peak around 12/17-12/18. Gold however hit its peak on 8/6.\n",
    "#Going to use NLP to evaluate a few articles from 8/6/20 to see if we can upack any sentiment \n",
    "#analysis."
   ]
  },
  {
   "cell_type": "code",
   "execution_count": null,
   "metadata": {},
   "outputs": [],
   "source": []
  },
  {
   "cell_type": "markdown",
   "metadata": {},
   "source": [
    "# NLP"
   ]
  },
  {
   "cell_type": "code",
   "execution_count": 69,
   "metadata": {},
   "outputs": [],
   "source": [
    "from requests import get\n",
    "from bs4 import BeautifulSoup\n",
    "import os"
   ]
  },
  {
   "cell_type": "code",
   "execution_count": 70,
   "metadata": {},
   "outputs": [],
   "source": [
    "url = 'https://finance.yahoo.com/news/stock-market-news-aug-6-134401370.html'\n",
    "headers = {'User-Agent': 'Codeup Data Science'} # Some websites don't accept the pyhon-requests default user-agent\n",
    "response = get(url, headers=headers)"
   ]
  },
  {
   "cell_type": "code",
   "execution_count": 71,
   "metadata": {},
   "outputs": [
    {
     "name": "stdout",
     "output_type": "stream",
     "text": [
      "<!doctype html><html id=atomic class=\"Fz(62.5%) Pos(r) desktop bktfinance-US-en-US-def ua-undefined ua-undefined\" lang=en-US><head><script>\n",
      "        window.performance.mark('PageStart');\n",
      "        document.documentElement.className += ' JsEnabled jsenabled';\n",
      "        /**\n",
      "        * Empty darlaOnready method, to avoid JS error.\n",
      "        * This can happen when Async Darla JS file is loaded earlier than Da\n"
     ]
    }
   ],
   "source": [
    "#sanity check\n",
    "print(response.text[:400])"
   ]
  },
  {
   "cell_type": "code",
   "execution_count": 72,
   "metadata": {},
   "outputs": [],
   "source": [
    "# Make a soup variable holding the response content\n",
    "soup = BeautifulSoup(response.content, 'html.parser')"
   ]
  },
  {
   "cell_type": "code",
   "execution_count": 73,
   "metadata": {},
   "outputs": [
    {
     "data": {
      "text/plain": [
       "\"Wall Street closed higher on Wednesday supported by some developments regarding Congressional negotiations on a second round of fiscal stimulus. Moreover, positive news on coronavirus treatment front also boosted market participants' sentiment. All three major stock indexes finished in green.How Did The Benchmarks Perform?The Dow Jones Industrial Average (DJI) finished in a positive note for four successive days after surging 1.4% or 373.05 points to close at 27,201.52. Notably, 19 components of the 30-stock blue-chip index ended in the green while 11 finished in red.The tech-laden Nasdaq Composite ended in positive territory for six consecutive days to close at 10,998.40, rising 0.5%. This marked a new closing high for the tech-heavy index while in intraday trading, Nasdaq Composite attained a fresh all-time high at 11,002.11. This reflected the 31st all-time highs achieved by the index so far this year and its first-ever touch at 11,000 mark.Meanwhile, the S&P 500 advanced 0.6% to end at 3,327.77. This marked the four-day winning streak of the broad-market index. The Industrials Select Sector SPDR (XLI), the Materials Select Sector SPDR (XLB) and the Financials Select Sector SPDR (XLF) climbed 1.9%, 1.5% and 1.4%, respectively. Notably, seven out of eleven sectors of the benchmark index closed in positive territory while four in negative territory.The fear-gauge CBOE Volatility Index (VIX) was down 0.8% to 22.99. A total of 10.09 billion shares were traded on Wednesday, lower than the last 20-session average of 10.43 billion. Advancers outnumbered decliners on the NYSE by a 2.47-to-1 ratio. On Nasdaq, a 2.14-to-1 ratio favored advancing issues.Positive News from Coronavirus Treatment FrontJohnson & Johnson JNJ announced that the company has entered a deal with the U.S. government to supply 100 million doses for its potential coronavirus vaccine if it gets approval from the FDA. The size of the deal is more than $1 billion. The government have the option to order an additional 200 million doses.Story continuesMeanwhile, Novavax Inc. NVAX released data on the first human trial of its Covid-19 vaccine. The clinical trial data showed a positive immune response among patients. Several analysts have called this data as extraordinarily promising. Consequently, shares of Novavax jumped 10.4%. Novavax carries a Zacks Rank #3 (Hold). You can see the complete list of today’s Zacks #1 Rank (Strong Buy) stocks here.Developments on More Fiscal StimulusAccording to an unconfirmed report, the Trump administration and Congressional Democrats are working hard to reach a deal by this weekend regarding a second doses of fiscal stimulus to support the economy against coronavirus-induced devastations.Meanwhile, both Democrats and Republicans have agreed on another round of $1,200 payments to support households. Meanwhile, President Donald Trump has agreed to provide another $25 billion of fiscal stimulus to the sagging airlines industry.Economic DataThe Institute for Supply Management reported that the U.S. services (nonmanufacturing) purchasing managers' index (PMI) for July came in at 58.1 compared with 57.1 in June. The consensus estimate was 55. Notably, any reading above 50 indicates expansion of services activities. Furthermore, 15 of the 18 industries tracked by ISM expanded in July.The ISM reported that services production increased to 67.2 in July from 66 in June. Meanwhile, services orders rose to 67.6 in July from 61.6 in June. However, employment index decreased to 42.1 in July from 43.1 in June. Since the index is still below 50, implying job retrenchment in this sector.Automatic Data Processing reported that private payrolls increased by just 167,000 in July compared with 4.3 million in June and 3.3 million in May. Goods producers added only 1,000 jobs last month compared with 496,000 in June. Services producers added 166,000 jobs in July, down from 3.8 million in the prior month. Notably, small, midsized and large employers added 63,000, 25,000 and 129,000 jobs, respectively.Stocks That Made HeadlineMonster Beverage Stock Up on Q2 Earnings & Sales BeatShares of Monster Beverage Corp. MNST rose nearly 4% in the aftermarket trading session on Aug 4, following impressive second-quarter 2020 results. (Read More)Marathon Oil Posts Narrower-Than-Expected Loss for Q2Marathon Oil Corp. MRO reported second-quarter 2020 adjusted net loss per share of $0.60, narrower than the Zacks Consensus Estimate of a loss of $0.62, attributable to lower year-over-year U.S. production costs. (Read More)More Stock News: This Is Bigger than the iPhone!It could become the mother of all technological revolutions. Apple sold a mere 1 billion iPhones in 10 years but a new breakthrough is expected to generate more than 27 billion devices in just 3 years, creating a $1.7 trillion market.Zacks has just released a Special Report that spotlights this fast-emerging phenomenon and 6 tickers for taking advantage of it. If you don't buy now, you may kick yourself in 2021.Click here for the 6 trades >>Click to get this free report Johnson Johnson (JNJ) : Free Stock Analysis Report Marathon Oil Corporation (MRO) : Free Stock Analysis Report Novavax, Inc. (NVAX) : Free Stock Analysis Report Monster Beverage Corporation (MNST) : Free Stock Analysis Report To read this article on Zacks.com click here. Zacks Investment Research\""
      ]
     },
     "execution_count": 73,
     "metadata": {},
     "output_type": "execute_result"
    }
   ],
   "source": [
    "article = soup.find('div', class_='caas-body')\n",
    "article.text"
   ]
  },
  {
   "cell_type": "code",
   "execution_count": 74,
   "metadata": {},
   "outputs": [],
   "source": [
    "#store it for future use\n",
    "with open('article.txt', 'w') as f:\n",
    "    f.write(article.text)"
   ]
  },
  {
   "cell_type": "code",
   "execution_count": 75,
   "metadata": {},
   "outputs": [],
   "source": [
    "def get_article_text():\n",
    "    # if we already have the data, read it locally\n",
    "    if path.exists('article.txt'):\n",
    "        with open('article.txt') as f:\n",
    "            return f.read()\n",
    "\n",
    "    # otherwise go fetch the data\n",
    "    url = 'https://finance.yahoo.com/news/stock-market-news-aug-6-134401370.html'\n",
    "    headers = {'User-Agent': 'Codeup Data Science'}\n",
    "    response = get(url, headers=headers)\n",
    "    soup = BeautifulSoup(response.text)\n",
    "    article = soup.find('div', class_='jupiterx-post-content')\n",
    "\n",
    "    # save it for next time\n",
    "    with open('article.txt', 'w') as f:\n",
    "        f.write(article.text)\n",
    "\n",
    "    return article.text"
   ]
  },
  {
   "cell_type": "markdown",
   "metadata": {},
   "source": [
    "**Parsing Text**"
   ]
  },
  {
   "cell_type": "code",
   "execution_count": 76,
   "metadata": {},
   "outputs": [],
   "source": [
    "import unicodedata\n",
    "import re\n",
    "import json\n",
    "\n",
    "import nltk\n",
    "from nltk.tokenize.toktok import ToktokTokenizer\n",
    "from nltk.corpus import stopwords"
   ]
  },
  {
   "cell_type": "code",
   "execution_count": 77,
   "metadata": {},
   "outputs": [],
   "source": [
    "original = article.text\n"
   ]
  },
  {
   "cell_type": "code",
   "execution_count": 78,
   "metadata": {},
   "outputs": [],
   "source": [
    "article = original.lower()"
   ]
  },
  {
   "cell_type": "code",
   "execution_count": 79,
   "metadata": {},
   "outputs": [
    {
     "name": "stdout",
     "output_type": "stream",
     "text": [
      "wall street closed higher on wednesday supported by some developments regarding congressional negotiations on a second round of fiscal stimulus. moreover, positive news on coronavirus treatment front also boosted market participants' sentiment. all three major stock indexes finished in green.how did the benchmarks perform?the dow jones industrial average (dji) finished in a positive note for four successive days after surging 1.4% or 373.05 points to close at 27,201.52. notably, 19 components of the 30-stock blue-chip index ended in the green while 11 finished in red.the tech-laden nasdaq composite ended in positive territory for six consecutive days to close at 10,998.40, rising 0.5%. this marked a new closing high for the tech-heavy index while in intraday trading, nasdaq composite attained a fresh all-time high at 11,002.11. this reflected the 31st all-time highs achieved by the index so far this year and its first-ever touch at 11,000 mark.meanwhile, the s&p 500 advanced 0.6% to end at 3,327.77. this marked the four-day winning streak of the broad-market index. the industrials select sector spdr (xli), the materials select sector spdr (xlb) and the financials select sector spdr (xlf) climbed 1.9%, 1.5% and 1.4%, respectively. notably, seven out of eleven sectors of the benchmark index closed in positive territory while four in negative territory.the fear-gauge cboe volatility index (vix) was down 0.8% to 22.99. a total of 10.09 billion shares were traded on wednesday, lower than the last 20-session average of 10.43 billion. advancers outnumbered decliners on the nyse by a 2.47-to-1 ratio. on nasdaq, a 2.14-to-1 ratio favored advancing issues.positive news from coronavirus treatment frontjohnson & johnson jnj announced that the company has entered a deal with the u.s. government to supply 100 million doses for its potential coronavirus vaccine if it gets approval from the fda. the size of the deal is more than $1 billion. the government have the option to order an additional 200 million doses.story continuesmeanwhile, novavax inc. nvax released data on the first human trial of its covid-19 vaccine. the clinical trial data showed a positive immune response among patients. several analysts have called this data as extraordinarily promising. consequently, shares of novavax jumped 10.4%. novavax carries a zacks rank #3 (hold). you can see the complete list of todays zacks #1 rank (strong buy) stocks here.developments on more fiscal stimulusaccording to an unconfirmed report, the trump administration and congressional democrats are working hard to reach a deal by this weekend regarding a second doses of fiscal stimulus to support the economy against coronavirus-induced devastations.meanwhile, both democrats and republicans have agreed on another round of $1,200 payments to support households. meanwhile, president donald trump has agreed to provide another $25 billion of fiscal stimulus to the sagging airlines industry.economic datathe institute for supply management reported that the u.s. services (nonmanufacturing) purchasing managers' index (pmi) for july came in at 58.1 compared with 57.1 in june. the consensus estimate was 55. notably, any reading above 50 indicates expansion of services activities. furthermore, 15 of the 18 industries tracked by ism expanded in july.the ism reported that services production increased to 67.2 in july from 66 in june. meanwhile, services orders rose to 67.6 in july from 61.6 in june. however, employment index decreased to 42.1 in july from 43.1 in june. since the index is still below 50, implying job retrenchment in this sector.automatic data processing reported that private payrolls increased by just 167,000 in july compared with 4.3 million in june and 3.3 million in may. goods producers added only 1,000 jobs last month compared with 496,000 in june. services producers added 166,000 jobs in july, down from 3.8 million in the prior month. notably, small, midsized and large employers added 63,000, 25,000 and 129,000 jobs, respectively.stocks that made headlinemonster beverage stock up on q2 earnings & sales beatshares of monster beverage corp. mnst rose nearly 4% in the aftermarket trading session on aug 4, following impressive second-quarter 2020 results. (read more)marathon oil posts narrower-than-expected loss for q2marathon oil corp. mro reported second-quarter 2020 adjusted net loss per share of $0.60, narrower than the zacks consensus estimate of a loss of $0.62, attributable to lower year-over-year u.s. production costs. (read more)more stock news: this is bigger than the iphone!it could become the mother of all technological revolutions. apple sold a mere 1 billion iphones in 10 years but a new breakthrough is expected to generate more than 27 billion devices in just 3 years, creating a $1.7 trillion market.zacks has just released a special report that spotlights this fast-emerging phenomenon and 6 tickers for taking advantage of it. if you don't buy now, you may kick yourself in 2021.click here for the 6 trades >>click to get this free report johnson johnson (jnj) : free stock analysis report marathon oil corporation (mro) : free stock analysis report novavax, inc. (nvax) : free stock analysis report monster beverage corporation (mnst) : free stock analysis report to read this article on zacks.com click here. zacks investment research\n"
     ]
    }
   ],
   "source": [
    "#Remove accented characters\n",
    "article = unicodedata.normalize('NFKD', article)\\\n",
    "    .encode('ascii', 'ignore')\\\n",
    "    .decode('utf-8', 'ignore')\n",
    "\n",
    "print(article)"
   ]
  },
  {
   "cell_type": "code",
   "execution_count": 80,
   "metadata": {},
   "outputs": [
    {
     "name": "stdout",
     "output_type": "stream",
     "text": [
      "wall street closed higher on wednesday supported by some developments regarding congressional negotiations on a second round of fiscal stimulus moreover positive news on coronavirus treatment front also boosted market participants' sentiment all three major stock indexes finished in greenhow did the benchmarks performthe dow jones industrial average dji finished in a positive note for four successive days after surging 14 or 37305 points to close at 2720152 notably 19 components of the 30stock bluechip index ended in the green while 11 finished in redthe techladen nasdaq composite ended in positive territory for six consecutive days to close at 1099840 rising 05 this marked a new closing high for the techheavy index while in intraday trading nasdaq composite attained a fresh alltime high at 1100211 this reflected the 31st alltime highs achieved by the index so far this year and its firstever touch at 11000 markmeanwhile the sp 500 advanced 06 to end at 332777 this marked the fourday winning streak of the broadmarket index the industrials select sector spdr xli the materials select sector spdr xlb and the financials select sector spdr xlf climbed 19 15 and 14 respectively notably seven out of eleven sectors of the benchmark index closed in positive territory while four in negative territorythe feargauge cboe volatility index vix was down 08 to 2299 a total of 1009 billion shares were traded on wednesday lower than the last 20session average of 1043 billion advancers outnumbered decliners on the nyse by a 247to1 ratio on nasdaq a 214to1 ratio favored advancing issuespositive news from coronavirus treatment frontjohnson  johnson jnj announced that the company has entered a deal with the us government to supply 100 million doses for its potential coronavirus vaccine if it gets approval from the fda the size of the deal is more than 1 billion the government have the option to order an additional 200 million dosesstory continuesmeanwhile novavax inc nvax released data on the first human trial of its covid19 vaccine the clinical trial data showed a positive immune response among patients several analysts have called this data as extraordinarily promising consequently shares of novavax jumped 104 novavax carries a zacks rank 3 hold you can see the complete list of todays zacks 1 rank strong buy stocks heredevelopments on more fiscal stimulusaccording to an unconfirmed report the trump administration and congressional democrats are working hard to reach a deal by this weekend regarding a second doses of fiscal stimulus to support the economy against coronavirusinduced devastationsmeanwhile both democrats and republicans have agreed on another round of 1200 payments to support households meanwhile president donald trump has agreed to provide another 25 billion of fiscal stimulus to the sagging airlines industryeconomic datathe institute for supply management reported that the us services nonmanufacturing purchasing managers' index pmi for july came in at 581 compared with 571 in june the consensus estimate was 55 notably any reading above 50 indicates expansion of services activities furthermore 15 of the 18 industries tracked by ism expanded in julythe ism reported that services production increased to 672 in july from 66 in june meanwhile services orders rose to 676 in july from 616 in june however employment index decreased to 421 in july from 431 in june since the index is still below 50 implying job retrenchment in this sectorautomatic data processing reported that private payrolls increased by just 167000 in july compared with 43 million in june and 33 million in may goods producers added only 1000 jobs last month compared with 496000 in june services producers added 166000 jobs in july down from 38 million in the prior month notably small midsized and large employers added 63000 25000 and 129000 jobs respectivelystocks that made headlinemonster beverage stock up on q2 earnings  sales beatshares of monster beverage corp mnst rose nearly 4 in the aftermarket trading session on aug 4 following impressive secondquarter 2020 results read moremarathon oil posts narrowerthanexpected loss for q2marathon oil corp mro reported secondquarter 2020 adjusted net loss per share of 060 narrower than the zacks consensus estimate of a loss of 062 attributable to lower yearoveryear us production costs read moremore stock news this is bigger than the iphoneit could become the mother of all technological revolutions apple sold a mere 1 billion iphones in 10 years but a new breakthrough is expected to generate more than 27 billion devices in just 3 years creating a 17 trillion marketzacks has just released a special report that spotlights this fastemerging phenomenon and 6 tickers for taking advantage of it if you don't buy now you may kick yourself in 2021click here for the 6 trades click to get this free report johnson johnson jnj  free stock analysis report marathon oil corporation mro  free stock analysis report novavax inc nvax  free stock analysis report monster beverage corporation mnst  free stock analysis report to read this article on zackscom click here zacks investment research\n"
     ]
    }
   ],
   "source": [
    "# remove anything that is not a through z, a number, a single quote, or whitespace\n",
    "article = re.sub(r\"[^a-z0-9'\\s]\", '', article)\n",
    "print(article)\n"
   ]
  },
  {
   "cell_type": "code",
   "execution_count": 81,
   "metadata": {},
   "outputs": [],
   "source": [
    "ADDITIONAL_STOPWORDS = ['r', 'u', '2', 'ltgt']\n",
    "\n",
    "def clean(text):\n",
    "    'A simple function to cleanup text data'\n",
    "    wnl = nltk.stem.WordNetLemmatizer()\n",
    "    stopwords = nltk.corpus.stopwords.words('english') + ADDITIONAL_STOPWORDS\n",
    "    text = (unicodedata.normalize('NFKD', text)\n",
    "             .encode('ascii', 'ignore')\n",
    "             .decode('utf-8', 'ignore')\n",
    "             .lower())\n",
    "    words = re.sub(r'[^\\w\\s]', '', text).split()\n",
    "    return [wnl.lemmatize(word) for word in words if word not in stopwords]\n"
   ]
  },
  {
   "cell_type": "code",
   "execution_count": 82,
   "metadata": {},
   "outputs": [],
   "source": [
    "result = clean(article)"
   ]
  },
  {
   "cell_type": "code",
   "execution_count": 83,
   "metadata": {},
   "outputs": [
    {
     "data": {
      "text/plain": [
       "['wall',\n",
       " 'street',\n",
       " 'closed',\n",
       " 'higher',\n",
       " 'wednesday',\n",
       " 'supported',\n",
       " 'development',\n",
       " 'regarding',\n",
       " 'congressional',\n",
       " 'negotiation',\n",
       " 'second',\n",
       " 'round',\n",
       " 'fiscal',\n",
       " 'stimulus',\n",
       " 'moreover',\n",
       " 'positive',\n",
       " 'news',\n",
       " 'coronavirus',\n",
       " 'treatment',\n",
       " 'front',\n",
       " 'also',\n",
       " 'boosted',\n",
       " 'market',\n",
       " 'participant',\n",
       " 'sentiment',\n",
       " 'three',\n",
       " 'major',\n",
       " 'stock',\n",
       " 'index',\n",
       " 'finished',\n",
       " 'greenhow',\n",
       " 'benchmark',\n",
       " 'performthe',\n",
       " 'dow',\n",
       " 'jones',\n",
       " 'industrial',\n",
       " 'average',\n",
       " 'dji',\n",
       " 'finished',\n",
       " 'positive',\n",
       " 'note',\n",
       " 'four',\n",
       " 'successive',\n",
       " 'day',\n",
       " 'surging',\n",
       " '14',\n",
       " '37305',\n",
       " 'point',\n",
       " 'close',\n",
       " '2720152',\n",
       " 'notably',\n",
       " '19',\n",
       " 'component',\n",
       " '30stock',\n",
       " 'bluechip',\n",
       " 'index',\n",
       " 'ended',\n",
       " 'green',\n",
       " '11',\n",
       " 'finished',\n",
       " 'redthe',\n",
       " 'techladen',\n",
       " 'nasdaq',\n",
       " 'composite',\n",
       " 'ended',\n",
       " 'positive',\n",
       " 'territory',\n",
       " 'six',\n",
       " 'consecutive',\n",
       " 'day',\n",
       " 'close',\n",
       " '1099840',\n",
       " 'rising',\n",
       " '05',\n",
       " 'marked',\n",
       " 'new',\n",
       " 'closing',\n",
       " 'high',\n",
       " 'techheavy',\n",
       " 'index',\n",
       " 'intraday',\n",
       " 'trading',\n",
       " 'nasdaq',\n",
       " 'composite',\n",
       " 'attained',\n",
       " 'fresh',\n",
       " 'alltime',\n",
       " 'high',\n",
       " '1100211',\n",
       " 'reflected',\n",
       " '31st',\n",
       " 'alltime',\n",
       " 'high',\n",
       " 'achieved',\n",
       " 'index',\n",
       " 'far',\n",
       " 'year',\n",
       " 'firstever',\n",
       " 'touch',\n",
       " '11000',\n",
       " 'markmeanwhile',\n",
       " 'sp',\n",
       " '500',\n",
       " 'advanced',\n",
       " '06',\n",
       " 'end',\n",
       " '332777',\n",
       " 'marked',\n",
       " 'fourday',\n",
       " 'winning',\n",
       " 'streak',\n",
       " 'broadmarket',\n",
       " 'index',\n",
       " 'industrials',\n",
       " 'select',\n",
       " 'sector',\n",
       " 'spdr',\n",
       " 'xli',\n",
       " 'material',\n",
       " 'select',\n",
       " 'sector',\n",
       " 'spdr',\n",
       " 'xlb',\n",
       " 'financials',\n",
       " 'select',\n",
       " 'sector',\n",
       " 'spdr',\n",
       " 'xlf',\n",
       " 'climbed',\n",
       " '19',\n",
       " '15',\n",
       " '14',\n",
       " 'respectively',\n",
       " 'notably',\n",
       " 'seven',\n",
       " 'eleven',\n",
       " 'sector',\n",
       " 'benchmark',\n",
       " 'index',\n",
       " 'closed',\n",
       " 'positive',\n",
       " 'territory',\n",
       " 'four',\n",
       " 'negative',\n",
       " 'territorythe',\n",
       " 'feargauge',\n",
       " 'cboe',\n",
       " 'volatility',\n",
       " 'index',\n",
       " 'vix',\n",
       " '08',\n",
       " '2299',\n",
       " 'total',\n",
       " '1009',\n",
       " 'billion',\n",
       " 'share',\n",
       " 'traded',\n",
       " 'wednesday',\n",
       " 'lower',\n",
       " 'last',\n",
       " '20session',\n",
       " 'average',\n",
       " '1043',\n",
       " 'billion',\n",
       " 'advancer',\n",
       " 'outnumbered',\n",
       " 'decliners',\n",
       " 'nyse',\n",
       " '247to1',\n",
       " 'ratio',\n",
       " 'nasdaq',\n",
       " '214to1',\n",
       " 'ratio',\n",
       " 'favored',\n",
       " 'advancing',\n",
       " 'issuespositive',\n",
       " 'news',\n",
       " 'coronavirus',\n",
       " 'treatment',\n",
       " 'frontjohnson',\n",
       " 'johnson',\n",
       " 'jnj',\n",
       " 'announced',\n",
       " 'company',\n",
       " 'entered',\n",
       " 'deal',\n",
       " 'u',\n",
       " 'government',\n",
       " 'supply',\n",
       " '100',\n",
       " 'million',\n",
       " 'dos',\n",
       " 'potential',\n",
       " 'coronavirus',\n",
       " 'vaccine',\n",
       " 'get',\n",
       " 'approval',\n",
       " 'fda',\n",
       " 'size',\n",
       " 'deal',\n",
       " '1',\n",
       " 'billion',\n",
       " 'government',\n",
       " 'option',\n",
       " 'order',\n",
       " 'additional',\n",
       " '200',\n",
       " 'million',\n",
       " 'dosesstory',\n",
       " 'continuesmeanwhile',\n",
       " 'novavax',\n",
       " 'inc',\n",
       " 'nvax',\n",
       " 'released',\n",
       " 'data',\n",
       " 'first',\n",
       " 'human',\n",
       " 'trial',\n",
       " 'covid19',\n",
       " 'vaccine',\n",
       " 'clinical',\n",
       " 'trial',\n",
       " 'data',\n",
       " 'showed',\n",
       " 'positive',\n",
       " 'immune',\n",
       " 'response',\n",
       " 'among',\n",
       " 'patient',\n",
       " 'several',\n",
       " 'analyst',\n",
       " 'called',\n",
       " 'data',\n",
       " 'extraordinarily',\n",
       " 'promising',\n",
       " 'consequently',\n",
       " 'share',\n",
       " 'novavax',\n",
       " 'jumped',\n",
       " '104',\n",
       " 'novavax',\n",
       " 'carry',\n",
       " 'zacks',\n",
       " 'rank',\n",
       " '3',\n",
       " 'hold',\n",
       " 'see',\n",
       " 'complete',\n",
       " 'list',\n",
       " 'today',\n",
       " 'zacks',\n",
       " '1',\n",
       " 'rank',\n",
       " 'strong',\n",
       " 'buy',\n",
       " 'stock',\n",
       " 'heredevelopments',\n",
       " 'fiscal',\n",
       " 'stimulusaccording',\n",
       " 'unconfirmed',\n",
       " 'report',\n",
       " 'trump',\n",
       " 'administration',\n",
       " 'congressional',\n",
       " 'democrat',\n",
       " 'working',\n",
       " 'hard',\n",
       " 'reach',\n",
       " 'deal',\n",
       " 'weekend',\n",
       " 'regarding',\n",
       " 'second',\n",
       " 'dos',\n",
       " 'fiscal',\n",
       " 'stimulus',\n",
       " 'support',\n",
       " 'economy',\n",
       " 'coronavirusinduced',\n",
       " 'devastationsmeanwhile',\n",
       " 'democrat',\n",
       " 'republican',\n",
       " 'agreed',\n",
       " 'another',\n",
       " 'round',\n",
       " '1200',\n",
       " 'payment',\n",
       " 'support',\n",
       " 'household',\n",
       " 'meanwhile',\n",
       " 'president',\n",
       " 'donald',\n",
       " 'trump',\n",
       " 'agreed',\n",
       " 'provide',\n",
       " 'another',\n",
       " '25',\n",
       " 'billion',\n",
       " 'fiscal',\n",
       " 'stimulus',\n",
       " 'sagging',\n",
       " 'airline',\n",
       " 'industryeconomic',\n",
       " 'datathe',\n",
       " 'institute',\n",
       " 'supply',\n",
       " 'management',\n",
       " 'reported',\n",
       " 'u',\n",
       " 'service',\n",
       " 'nonmanufacturing',\n",
       " 'purchasing',\n",
       " 'manager',\n",
       " 'index',\n",
       " 'pmi',\n",
       " 'july',\n",
       " 'came',\n",
       " '581',\n",
       " 'compared',\n",
       " '571',\n",
       " 'june',\n",
       " 'consensus',\n",
       " 'estimate',\n",
       " '55',\n",
       " 'notably',\n",
       " 'reading',\n",
       " '50',\n",
       " 'indicates',\n",
       " 'expansion',\n",
       " 'service',\n",
       " 'activity',\n",
       " 'furthermore',\n",
       " '15',\n",
       " '18',\n",
       " 'industry',\n",
       " 'tracked',\n",
       " 'ism',\n",
       " 'expanded',\n",
       " 'julythe',\n",
       " 'ism',\n",
       " 'reported',\n",
       " 'service',\n",
       " 'production',\n",
       " 'increased',\n",
       " '672',\n",
       " 'july',\n",
       " '66',\n",
       " 'june',\n",
       " 'meanwhile',\n",
       " 'service',\n",
       " 'order',\n",
       " 'rose',\n",
       " '676',\n",
       " 'july',\n",
       " '616',\n",
       " 'june',\n",
       " 'however',\n",
       " 'employment',\n",
       " 'index',\n",
       " 'decreased',\n",
       " '421',\n",
       " 'july',\n",
       " '431',\n",
       " 'june',\n",
       " 'since',\n",
       " 'index',\n",
       " 'still',\n",
       " '50',\n",
       " 'implying',\n",
       " 'job',\n",
       " 'retrenchment',\n",
       " 'sectorautomatic',\n",
       " 'data',\n",
       " 'processing',\n",
       " 'reported',\n",
       " 'private',\n",
       " 'payroll',\n",
       " 'increased',\n",
       " '167000',\n",
       " 'july',\n",
       " 'compared',\n",
       " '43',\n",
       " 'million',\n",
       " 'june',\n",
       " '33',\n",
       " 'million',\n",
       " 'may',\n",
       " 'good',\n",
       " 'producer',\n",
       " 'added',\n",
       " '1000',\n",
       " 'job',\n",
       " 'last',\n",
       " 'month',\n",
       " 'compared',\n",
       " '496000',\n",
       " 'june',\n",
       " 'service',\n",
       " 'producer',\n",
       " 'added',\n",
       " '166000',\n",
       " 'job',\n",
       " 'july',\n",
       " '38',\n",
       " 'million',\n",
       " 'prior',\n",
       " 'month',\n",
       " 'notably',\n",
       " 'small',\n",
       " 'midsized',\n",
       " 'large',\n",
       " 'employer',\n",
       " 'added',\n",
       " '63000',\n",
       " '25000',\n",
       " '129000',\n",
       " 'job',\n",
       " 'respectivelystocks',\n",
       " 'made',\n",
       " 'headlinemonster',\n",
       " 'beverage',\n",
       " 'stock',\n",
       " 'q2',\n",
       " 'earnings',\n",
       " 'sale',\n",
       " 'beatshares',\n",
       " 'monster',\n",
       " 'beverage',\n",
       " 'corp',\n",
       " 'mnst',\n",
       " 'rose',\n",
       " 'nearly',\n",
       " '4',\n",
       " 'aftermarket',\n",
       " 'trading',\n",
       " 'session',\n",
       " 'aug',\n",
       " '4',\n",
       " 'following',\n",
       " 'impressive',\n",
       " 'secondquarter',\n",
       " '2020',\n",
       " 'result',\n",
       " 'read',\n",
       " 'moremarathon',\n",
       " 'oil',\n",
       " 'post',\n",
       " 'narrowerthanexpected',\n",
       " 'loss',\n",
       " 'q2marathon',\n",
       " 'oil',\n",
       " 'corp',\n",
       " 'mro',\n",
       " 'reported',\n",
       " 'secondquarter',\n",
       " '2020',\n",
       " 'adjusted',\n",
       " 'net',\n",
       " 'loss',\n",
       " 'per',\n",
       " 'share',\n",
       " '060',\n",
       " 'narrower',\n",
       " 'zacks',\n",
       " 'consensus',\n",
       " 'estimate',\n",
       " 'loss',\n",
       " '062',\n",
       " 'attributable',\n",
       " 'lower',\n",
       " 'yearoveryear',\n",
       " 'u',\n",
       " 'production',\n",
       " 'cost',\n",
       " 'read',\n",
       " 'moremore',\n",
       " 'stock',\n",
       " 'news',\n",
       " 'bigger',\n",
       " 'iphoneit',\n",
       " 'could',\n",
       " 'become',\n",
       " 'mother',\n",
       " 'technological',\n",
       " 'revolution',\n",
       " 'apple',\n",
       " 'sold',\n",
       " 'mere',\n",
       " '1',\n",
       " 'billion',\n",
       " 'iphones',\n",
       " '10',\n",
       " 'year',\n",
       " 'new',\n",
       " 'breakthrough',\n",
       " 'expected',\n",
       " 'generate',\n",
       " '27',\n",
       " 'billion',\n",
       " 'device',\n",
       " '3',\n",
       " 'year',\n",
       " 'creating',\n",
       " '17',\n",
       " 'trillion',\n",
       " 'marketzacks',\n",
       " 'released',\n",
       " 'special',\n",
       " 'report',\n",
       " 'spotlight',\n",
       " 'fastemerging',\n",
       " 'phenomenon',\n",
       " '6',\n",
       " 'ticker',\n",
       " 'taking',\n",
       " 'advantage',\n",
       " 'dont',\n",
       " 'buy',\n",
       " 'may',\n",
       " 'kick',\n",
       " '2021click',\n",
       " '6',\n",
       " 'trade',\n",
       " 'click',\n",
       " 'get',\n",
       " 'free',\n",
       " 'report',\n",
       " 'johnson',\n",
       " 'johnson',\n",
       " 'jnj',\n",
       " 'free',\n",
       " 'stock',\n",
       " 'analysis',\n",
       " 'report',\n",
       " 'marathon',\n",
       " 'oil',\n",
       " 'corporation',\n",
       " 'mro',\n",
       " 'free',\n",
       " 'stock',\n",
       " 'analysis',\n",
       " 'report',\n",
       " 'novavax',\n",
       " 'inc',\n",
       " 'nvax',\n",
       " 'free',\n",
       " 'stock',\n",
       " 'analysis',\n",
       " 'report',\n",
       " 'monster',\n",
       " 'beverage',\n",
       " 'corporation',\n",
       " 'mnst',\n",
       " 'free',\n",
       " 'stock',\n",
       " 'analysis',\n",
       " 'report',\n",
       " 'read',\n",
       " 'article',\n",
       " 'zackscom',\n",
       " 'click',\n",
       " 'zacks',\n",
       " 'investment',\n",
       " 'research']"
      ]
     },
     "execution_count": 83,
     "metadata": {},
     "output_type": "execute_result"
    }
   ],
   "source": [
    "result"
   ]
  },
  {
   "cell_type": "code",
   "execution_count": 84,
   "metadata": {},
   "outputs": [
    {
     "data": {
      "text/plain": [
       "index       10\n",
       "stock        8\n",
       "report       7\n",
       "june         6\n",
       "july         6\n",
       "billion      6\n",
       "million      5\n",
       "positive     5\n",
       "service      5\n",
       "free         5\n",
       "dtype: int64"
      ]
     },
     "execution_count": 84,
     "metadata": {},
     "output_type": "execute_result"
    }
   ],
   "source": [
    "pd.Series(result).value_counts()[:10]\n"
   ]
  },
  {
   "cell_type": "code",
   "execution_count": 85,
   "metadata": {},
   "outputs": [],
   "source": [
    "df = pd.DataFrame(result)"
   ]
  },
  {
   "cell_type": "code",
   "execution_count": 86,
   "metadata": {},
   "outputs": [
    {
     "data": {
      "text/html": [
       "<div>\n",
       "<style scoped>\n",
       "    .dataframe tbody tr th:only-of-type {\n",
       "        vertical-align: middle;\n",
       "    }\n",
       "\n",
       "    .dataframe tbody tr th {\n",
       "        vertical-align: top;\n",
       "    }\n",
       "\n",
       "    .dataframe thead th {\n",
       "        text-align: right;\n",
       "    }\n",
       "</style>\n",
       "<table border=\"1\" class=\"dataframe\">\n",
       "  <thead>\n",
       "    <tr style=\"text-align: right;\">\n",
       "      <th></th>\n",
       "      <th>0</th>\n",
       "    </tr>\n",
       "  </thead>\n",
       "  <tbody>\n",
       "    <tr>\n",
       "      <th>0</th>\n",
       "      <td>wall</td>\n",
       "    </tr>\n",
       "    <tr>\n",
       "      <th>1</th>\n",
       "      <td>street</td>\n",
       "    </tr>\n",
       "    <tr>\n",
       "      <th>2</th>\n",
       "      <td>closed</td>\n",
       "    </tr>\n",
       "    <tr>\n",
       "      <th>3</th>\n",
       "      <td>higher</td>\n",
       "    </tr>\n",
       "    <tr>\n",
       "      <th>4</th>\n",
       "      <td>wednesday</td>\n",
       "    </tr>\n",
       "  </tbody>\n",
       "</table>\n",
       "</div>"
      ],
      "text/plain": [
       "           0\n",
       "0       wall\n",
       "1     street\n",
       "2     closed\n",
       "3     higher\n",
       "4  wednesday"
      ]
     },
     "execution_count": 86,
     "metadata": {},
     "output_type": "execute_result"
    }
   ],
   "source": [
    "df.head()"
   ]
  },
  {
   "cell_type": "code",
   "execution_count": 87,
   "metadata": {},
   "outputs": [],
   "source": [
    "df.rename(columns={0: 'words'}, inplace=True)"
   ]
  },
  {
   "cell_type": "code",
   "execution_count": 88,
   "metadata": {},
   "outputs": [
    {
     "data": {
      "text/html": [
       "<div>\n",
       "<style scoped>\n",
       "    .dataframe tbody tr th:only-of-type {\n",
       "        vertical-align: middle;\n",
       "    }\n",
       "\n",
       "    .dataframe tbody tr th {\n",
       "        vertical-align: top;\n",
       "    }\n",
       "\n",
       "    .dataframe thead th {\n",
       "        text-align: right;\n",
       "    }\n",
       "</style>\n",
       "<table border=\"1\" class=\"dataframe\">\n",
       "  <thead>\n",
       "    <tr style=\"text-align: right;\">\n",
       "      <th></th>\n",
       "      <th>words</th>\n",
       "    </tr>\n",
       "  </thead>\n",
       "  <tbody>\n",
       "    <tr>\n",
       "      <th>0</th>\n",
       "      <td>wall</td>\n",
       "    </tr>\n",
       "    <tr>\n",
       "      <th>1</th>\n",
       "      <td>street</td>\n",
       "    </tr>\n",
       "    <tr>\n",
       "      <th>2</th>\n",
       "      <td>closed</td>\n",
       "    </tr>\n",
       "    <tr>\n",
       "      <th>3</th>\n",
       "      <td>higher</td>\n",
       "    </tr>\n",
       "    <tr>\n",
       "      <th>4</th>\n",
       "      <td>wednesday</td>\n",
       "    </tr>\n",
       "  </tbody>\n",
       "</table>\n",
       "</div>"
      ],
      "text/plain": [
       "       words\n",
       "0       wall\n",
       "1     street\n",
       "2     closed\n",
       "3     higher\n",
       "4  wednesday"
      ]
     },
     "execution_count": 88,
     "metadata": {},
     "output_type": "execute_result"
    }
   ],
   "source": [
    "df.head()"
   ]
  },
  {
   "cell_type": "code",
   "execution_count": 89,
   "metadata": {},
   "outputs": [
    {
     "data": {
      "text/html": [
       "<div>\n",
       "<style scoped>\n",
       "    .dataframe tbody tr th:only-of-type {\n",
       "        vertical-align: middle;\n",
       "    }\n",
       "\n",
       "    .dataframe tbody tr th {\n",
       "        vertical-align: top;\n",
       "    }\n",
       "\n",
       "    .dataframe thead th {\n",
       "        text-align: right;\n",
       "    }\n",
       "</style>\n",
       "<table border=\"1\" class=\"dataframe\">\n",
       "  <thead>\n",
       "    <tr style=\"text-align: right;\">\n",
       "      <th></th>\n",
       "      <th>words</th>\n",
       "    </tr>\n",
       "  </thead>\n",
       "  <tbody>\n",
       "  </tbody>\n",
       "</table>\n",
       "</div>"
      ],
      "text/plain": [
       "Empty DataFrame\n",
       "Columns: [words]\n",
       "Index: []"
      ]
     },
     "execution_count": 89,
     "metadata": {},
     "output_type": "execute_result"
    }
   ],
   "source": [
    "df[df.words== 'gold']"
   ]
  },
  {
   "cell_type": "code",
   "execution_count": 90,
   "metadata": {},
   "outputs": [
    {
     "data": {
      "text/html": [
       "<div>\n",
       "<style scoped>\n",
       "    .dataframe tbody tr th:only-of-type {\n",
       "        vertical-align: middle;\n",
       "    }\n",
       "\n",
       "    .dataframe tbody tr th {\n",
       "        vertical-align: top;\n",
       "    }\n",
       "\n",
       "    .dataframe thead th {\n",
       "        text-align: right;\n",
       "    }\n",
       "</style>\n",
       "<table border=\"1\" class=\"dataframe\">\n",
       "  <thead>\n",
       "    <tr style=\"text-align: right;\">\n",
       "      <th></th>\n",
       "      <th>words</th>\n",
       "    </tr>\n",
       "  </thead>\n",
       "  <tbody>\n",
       "  </tbody>\n",
       "</table>\n",
       "</div>"
      ],
      "text/plain": [
       "Empty DataFrame\n",
       "Columns: [words]\n",
       "Index: []"
      ]
     },
     "execution_count": 90,
     "metadata": {},
     "output_type": "execute_result"
    }
   ],
   "source": [
    "df[df.words == 'commodities']"
   ]
  },
  {
   "cell_type": "code",
   "execution_count": 91,
   "metadata": {},
   "outputs": [],
   "source": [
    "from wordcloud import WordCloud\n"
   ]
  },
  {
   "cell_type": "code",
   "execution_count": 92,
   "metadata": {},
   "outputs": [
    {
     "data": {
      "text/plain": [
       "(-0.5, 399.5, 199.5, -0.5)"
      ]
     },
     "execution_count": 92,
     "metadata": {},
     "output_type": "execute_result"
    },
    {
     "data": {
      "image/png": "[encoded data removed]",
      "text/plain": [
       "<Figure size 432x288 with 1 Axes>"
      ]
     },
     "metadata": {
      "needs_background": "light"
     },
     "output_type": "display_data"
    }
   ],
   "source": [
    "img = WordCloud(background_color='white').generate(article)\n",
    "# WordCloud() produces an image object, which can be displayed with plt.imshow\n",
    "plt.imshow(img)\n",
    "# axis aren't very useful for a word cloud\n",
    "plt.axis('off')"
   ]
  },
  {
   "cell_type": "code",
   "execution_count": null,
   "metadata": {},
   "outputs": [],
   "source": []
  }
 ],
 "metadata": {
  "kernelspec": {
   "display_name": "Python 3",
   "language": "python",
   "name": "python3"
  },
  "language_info": {
   "codemirror_mode": {
    "name": "ipython",
    "version": 3
   },
   "file_extension": ".py",
   "mimetype": "text/x-python",
   "name": "python",
   "nbconvert_exporter": "python",
   "pygments_lexer": "ipython3",
   "version": "3.7.9"
  }
 },
 "nbformat": 4,
 "nbformat_minor": 4
}
