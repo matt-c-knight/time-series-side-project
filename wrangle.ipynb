{
 "cells": [
  {
   "cell_type": "code",
   "execution_count": 1,
   "metadata": {},
   "outputs": [],
   "source": [
    "import pandas as pd"
   ]
  },
  {
   "cell_type": "code",
   "execution_count": 2,
   "metadata": {},
   "outputs": [],
   "source": [
    "df = pd.read_csv('dow.csv')"
   ]
  },
  {
   "cell_type": "code",
   "execution_count": 3,
   "metadata": {},
   "outputs": [
    {
     "data": {
      "text/html": [
       "<div>\n",
       "<style scoped>\n",
       "    .dataframe tbody tr th:only-of-type {\n",
       "        vertical-align: middle;\n",
       "    }\n",
       "\n",
       "    .dataframe tbody tr th {\n",
       "        vertical-align: top;\n",
       "    }\n",
       "\n",
       "    .dataframe thead th {\n",
       "        text-align: right;\n",
       "    }\n",
       "</style>\n",
       "<table border=\"1\" class=\"dataframe\">\n",
       "  <thead>\n",
       "    <tr style=\"text-align: right;\">\n",
       "      <th></th>\n",
       "      <th>Date</th>\n",
       "      <th>Open</th>\n",
       "      <th>High</th>\n",
       "      <th>Low</th>\n",
       "      <th>Close</th>\n",
       "      <th>Adj Close</th>\n",
       "      <th>Volume</th>\n",
       "    </tr>\n",
       "  </thead>\n",
       "  <tbody>\n",
       "    <tr>\n",
       "      <th>0</th>\n",
       "      <td>2019-12-23</td>\n",
       "      <td>28491.779297</td>\n",
       "      <td>28582.490234</td>\n",
       "      <td>28491.779297</td>\n",
       "      <td>28551.529297</td>\n",
       "      <td>28551.529297</td>\n",
       "      <td>223530000</td>\n",
       "    </tr>\n",
       "    <tr>\n",
       "      <th>1</th>\n",
       "      <td>2019-12-24</td>\n",
       "      <td>28572.570313</td>\n",
       "      <td>28576.800781</td>\n",
       "      <td>28503.210938</td>\n",
       "      <td>28515.449219</td>\n",
       "      <td>28515.449219</td>\n",
       "      <td>86150000</td>\n",
       "    </tr>\n",
       "    <tr>\n",
       "      <th>2</th>\n",
       "      <td>2019-12-26</td>\n",
       "      <td>28539.460938</td>\n",
       "      <td>28624.099609</td>\n",
       "      <td>28535.150391</td>\n",
       "      <td>28621.390625</td>\n",
       "      <td>28621.390625</td>\n",
       "      <td>155970000</td>\n",
       "    </tr>\n",
       "    <tr>\n",
       "      <th>3</th>\n",
       "      <td>2019-12-27</td>\n",
       "      <td>28675.339844</td>\n",
       "      <td>28701.660156</td>\n",
       "      <td>28608.980469</td>\n",
       "      <td>28645.259766</td>\n",
       "      <td>28645.259766</td>\n",
       "      <td>182280000</td>\n",
       "    </tr>\n",
       "    <tr>\n",
       "      <th>4</th>\n",
       "      <td>2019-12-30</td>\n",
       "      <td>28654.759766</td>\n",
       "      <td>28664.689453</td>\n",
       "      <td>28428.980469</td>\n",
       "      <td>28462.140625</td>\n",
       "      <td>28462.140625</td>\n",
       "      <td>181600000</td>\n",
       "    </tr>\n",
       "  </tbody>\n",
       "</table>\n",
       "</div>"
      ],
      "text/plain": [
       "         Date          Open          High           Low         Close  \\\n",
       "0  2019-12-23  28491.779297  28582.490234  28491.779297  28551.529297   \n",
       "1  2019-12-24  28572.570313  28576.800781  28503.210938  28515.449219   \n",
       "2  2019-12-26  28539.460938  28624.099609  28535.150391  28621.390625   \n",
       "3  2019-12-27  28675.339844  28701.660156  28608.980469  28645.259766   \n",
       "4  2019-12-30  28654.759766  28664.689453  28428.980469  28462.140625   \n",
       "\n",
       "      Adj Close     Volume  \n",
       "0  28551.529297  223530000  \n",
       "1  28515.449219   86150000  \n",
       "2  28621.390625  155970000  \n",
       "3  28645.259766  182280000  \n",
       "4  28462.140625  181600000  "
      ]
     },
     "execution_count": 3,
     "metadata": {},
     "output_type": "execute_result"
    }
   ],
   "source": [
    "df.head()"
   ]
  },
  {
   "cell_type": "code",
   "execution_count": 4,
   "metadata": {},
   "outputs": [],
   "source": [
    "df2 = pd.read_csv('BTC-USD.csv')"
   ]
  },
  {
   "cell_type": "code",
   "execution_count": 5,
   "metadata": {},
   "outputs": [
    {
     "data": {
      "text/html": [
       "<div>\n",
       "<style scoped>\n",
       "    .dataframe tbody tr th:only-of-type {\n",
       "        vertical-align: middle;\n",
       "    }\n",
       "\n",
       "    .dataframe tbody tr th {\n",
       "        vertical-align: top;\n",
       "    }\n",
       "\n",
       "    .dataframe thead th {\n",
       "        text-align: right;\n",
       "    }\n",
       "</style>\n",
       "<table border=\"1\" class=\"dataframe\">\n",
       "  <thead>\n",
       "    <tr style=\"text-align: right;\">\n",
       "      <th></th>\n",
       "      <th>Date</th>\n",
       "      <th>Open</th>\n",
       "      <th>High</th>\n",
       "      <th>Low</th>\n",
       "      <th>Close</th>\n",
       "      <th>Adj Close</th>\n",
       "      <th>Volume</th>\n",
       "    </tr>\n",
       "  </thead>\n",
       "  <tbody>\n",
       "    <tr>\n",
       "      <th>0</th>\n",
       "      <td>2019-12-21</td>\n",
       "      <td>7220.593750</td>\n",
       "      <td>7223.226074</td>\n",
       "      <td>7112.735840</td>\n",
       "      <td>7191.158691</td>\n",
       "      <td>7191.158691</td>\n",
       "      <td>19312552168</td>\n",
       "    </tr>\n",
       "    <tr>\n",
       "      <th>1</th>\n",
       "      <td>2019-12-22</td>\n",
       "      <td>7191.188477</td>\n",
       "      <td>7518.033203</td>\n",
       "      <td>7167.179199</td>\n",
       "      <td>7511.588867</td>\n",
       "      <td>7511.588867</td>\n",
       "      <td>23134537956</td>\n",
       "    </tr>\n",
       "    <tr>\n",
       "      <th>2</th>\n",
       "      <td>2019-12-23</td>\n",
       "      <td>7508.902344</td>\n",
       "      <td>7656.176270</td>\n",
       "      <td>7326.192383</td>\n",
       "      <td>7355.628418</td>\n",
       "      <td>7355.628418</td>\n",
       "      <td>27831788041</td>\n",
       "    </tr>\n",
       "    <tr>\n",
       "      <th>3</th>\n",
       "      <td>2019-12-24</td>\n",
       "      <td>7354.393066</td>\n",
       "      <td>7535.716797</td>\n",
       "      <td>7269.528809</td>\n",
       "      <td>7322.532227</td>\n",
       "      <td>7322.532227</td>\n",
       "      <td>22991622105</td>\n",
       "    </tr>\n",
       "    <tr>\n",
       "      <th>4</th>\n",
       "      <td>2019-12-25</td>\n",
       "      <td>7325.755859</td>\n",
       "      <td>7357.020020</td>\n",
       "      <td>7220.991211</td>\n",
       "      <td>7275.155762</td>\n",
       "      <td>7275.155762</td>\n",
       "      <td>21559505148</td>\n",
       "    </tr>\n",
       "  </tbody>\n",
       "</table>\n",
       "</div>"
      ],
      "text/plain": [
       "         Date         Open         High          Low        Close  \\\n",
       "0  2019-12-21  7220.593750  7223.226074  7112.735840  7191.158691   \n",
       "1  2019-12-22  7191.188477  7518.033203  7167.179199  7511.588867   \n",
       "2  2019-12-23  7508.902344  7656.176270  7326.192383  7355.628418   \n",
       "3  2019-12-24  7354.393066  7535.716797  7269.528809  7322.532227   \n",
       "4  2019-12-25  7325.755859  7357.020020  7220.991211  7275.155762   \n",
       "\n",
       "     Adj Close       Volume  \n",
       "0  7191.158691  19312552168  \n",
       "1  7511.588867  23134537956  \n",
       "2  7355.628418  27831788041  \n",
       "3  7322.532227  22991622105  \n",
       "4  7275.155762  21559505148  "
      ]
     },
     "execution_count": 5,
     "metadata": {},
     "output_type": "execute_result"
    }
   ],
   "source": [
    "df2.head()"
   ]
  },
  {
   "cell_type": "code",
   "execution_count": 6,
   "metadata": {},
   "outputs": [],
   "source": [
    "df.Date = pd.to_datetime(df.Date)\n"
   ]
  },
  {
   "cell_type": "code",
   "execution_count": 7,
   "metadata": {},
   "outputs": [
    {
     "data": {
      "text/html": [
       "<div>\n",
       "<style scoped>\n",
       "    .dataframe tbody tr th:only-of-type {\n",
       "        vertical-align: middle;\n",
       "    }\n",
       "\n",
       "    .dataframe tbody tr th {\n",
       "        vertical-align: top;\n",
       "    }\n",
       "\n",
       "    .dataframe thead th {\n",
       "        text-align: right;\n",
       "    }\n",
       "</style>\n",
       "<table border=\"1\" class=\"dataframe\">\n",
       "  <thead>\n",
       "    <tr style=\"text-align: right;\">\n",
       "      <th></th>\n",
       "      <th>Date</th>\n",
       "      <th>Open</th>\n",
       "      <th>High</th>\n",
       "      <th>Low</th>\n",
       "      <th>Close</th>\n",
       "      <th>Adj Close</th>\n",
       "      <th>Volume</th>\n",
       "    </tr>\n",
       "  </thead>\n",
       "  <tbody>\n",
       "    <tr>\n",
       "      <th>0</th>\n",
       "      <td>2019-12-23</td>\n",
       "      <td>28491.779297</td>\n",
       "      <td>28582.490234</td>\n",
       "      <td>28491.779297</td>\n",
       "      <td>28551.529297</td>\n",
       "      <td>28551.529297</td>\n",
       "      <td>223530000</td>\n",
       "    </tr>\n",
       "    <tr>\n",
       "      <th>1</th>\n",
       "      <td>2019-12-24</td>\n",
       "      <td>28572.570313</td>\n",
       "      <td>28576.800781</td>\n",
       "      <td>28503.210938</td>\n",
       "      <td>28515.449219</td>\n",
       "      <td>28515.449219</td>\n",
       "      <td>86150000</td>\n",
       "    </tr>\n",
       "    <tr>\n",
       "      <th>2</th>\n",
       "      <td>2019-12-26</td>\n",
       "      <td>28539.460938</td>\n",
       "      <td>28624.099609</td>\n",
       "      <td>28535.150391</td>\n",
       "      <td>28621.390625</td>\n",
       "      <td>28621.390625</td>\n",
       "      <td>155970000</td>\n",
       "    </tr>\n",
       "    <tr>\n",
       "      <th>3</th>\n",
       "      <td>2019-12-27</td>\n",
       "      <td>28675.339844</td>\n",
       "      <td>28701.660156</td>\n",
       "      <td>28608.980469</td>\n",
       "      <td>28645.259766</td>\n",
       "      <td>28645.259766</td>\n",
       "      <td>182280000</td>\n",
       "    </tr>\n",
       "    <tr>\n",
       "      <th>4</th>\n",
       "      <td>2019-12-30</td>\n",
       "      <td>28654.759766</td>\n",
       "      <td>28664.689453</td>\n",
       "      <td>28428.980469</td>\n",
       "      <td>28462.140625</td>\n",
       "      <td>28462.140625</td>\n",
       "      <td>181600000</td>\n",
       "    </tr>\n",
       "  </tbody>\n",
       "</table>\n",
       "</div>"
      ],
      "text/plain": [
       "        Date          Open          High           Low         Close  \\\n",
       "0 2019-12-23  28491.779297  28582.490234  28491.779297  28551.529297   \n",
       "1 2019-12-24  28572.570313  28576.800781  28503.210938  28515.449219   \n",
       "2 2019-12-26  28539.460938  28624.099609  28535.150391  28621.390625   \n",
       "3 2019-12-27  28675.339844  28701.660156  28608.980469  28645.259766   \n",
       "4 2019-12-30  28654.759766  28664.689453  28428.980469  28462.140625   \n",
       "\n",
       "      Adj Close     Volume  \n",
       "0  28551.529297  223530000  \n",
       "1  28515.449219   86150000  \n",
       "2  28621.390625  155970000  \n",
       "3  28645.259766  182280000  \n",
       "4  28462.140625  181600000  "
      ]
     },
     "execution_count": 7,
     "metadata": {},
     "output_type": "execute_result"
    }
   ],
   "source": [
    "df.head()"
   ]
  },
  {
   "cell_type": "code",
   "execution_count": 8,
   "metadata": {},
   "outputs": [],
   "source": [
    "df = df.set_index('Date').sort_index()\n"
   ]
  },
  {
   "cell_type": "code",
   "execution_count": 9,
   "metadata": {},
   "outputs": [
    {
     "data": {
      "text/html": [
       "<div>\n",
       "<style scoped>\n",
       "    .dataframe tbody tr th:only-of-type {\n",
       "        vertical-align: middle;\n",
       "    }\n",
       "\n",
       "    .dataframe tbody tr th {\n",
       "        vertical-align: top;\n",
       "    }\n",
       "\n",
       "    .dataframe thead th {\n",
       "        text-align: right;\n",
       "    }\n",
       "</style>\n",
       "<table border=\"1\" class=\"dataframe\">\n",
       "  <thead>\n",
       "    <tr style=\"text-align: right;\">\n",
       "      <th></th>\n",
       "      <th>Open</th>\n",
       "      <th>High</th>\n",
       "      <th>Low</th>\n",
       "      <th>Close</th>\n",
       "      <th>Adj Close</th>\n",
       "      <th>Volume</th>\n",
       "    </tr>\n",
       "    <tr>\n",
       "      <th>Date</th>\n",
       "      <th></th>\n",
       "      <th></th>\n",
       "      <th></th>\n",
       "      <th></th>\n",
       "      <th></th>\n",
       "      <th></th>\n",
       "    </tr>\n",
       "  </thead>\n",
       "  <tbody>\n",
       "    <tr>\n",
       "      <th>2019-12-23</th>\n",
       "      <td>28491.779297</td>\n",
       "      <td>28582.490234</td>\n",
       "      <td>28491.779297</td>\n",
       "      <td>28551.529297</td>\n",
       "      <td>28551.529297</td>\n",
       "      <td>223530000</td>\n",
       "    </tr>\n",
       "    <tr>\n",
       "      <th>2019-12-24</th>\n",
       "      <td>28572.570313</td>\n",
       "      <td>28576.800781</td>\n",
       "      <td>28503.210938</td>\n",
       "      <td>28515.449219</td>\n",
       "      <td>28515.449219</td>\n",
       "      <td>86150000</td>\n",
       "    </tr>\n",
       "    <tr>\n",
       "      <th>2019-12-26</th>\n",
       "      <td>28539.460938</td>\n",
       "      <td>28624.099609</td>\n",
       "      <td>28535.150391</td>\n",
       "      <td>28621.390625</td>\n",
       "      <td>28621.390625</td>\n",
       "      <td>155970000</td>\n",
       "    </tr>\n",
       "    <tr>\n",
       "      <th>2019-12-27</th>\n",
       "      <td>28675.339844</td>\n",
       "      <td>28701.660156</td>\n",
       "      <td>28608.980469</td>\n",
       "      <td>28645.259766</td>\n",
       "      <td>28645.259766</td>\n",
       "      <td>182280000</td>\n",
       "    </tr>\n",
       "    <tr>\n",
       "      <th>2019-12-30</th>\n",
       "      <td>28654.759766</td>\n",
       "      <td>28664.689453</td>\n",
       "      <td>28428.980469</td>\n",
       "      <td>28462.140625</td>\n",
       "      <td>28462.140625</td>\n",
       "      <td>181600000</td>\n",
       "    </tr>\n",
       "  </tbody>\n",
       "</table>\n",
       "</div>"
      ],
      "text/plain": [
       "                    Open          High           Low         Close  \\\n",
       "Date                                                                 \n",
       "2019-12-23  28491.779297  28582.490234  28491.779297  28551.529297   \n",
       "2019-12-24  28572.570313  28576.800781  28503.210938  28515.449219   \n",
       "2019-12-26  28539.460938  28624.099609  28535.150391  28621.390625   \n",
       "2019-12-27  28675.339844  28701.660156  28608.980469  28645.259766   \n",
       "2019-12-30  28654.759766  28664.689453  28428.980469  28462.140625   \n",
       "\n",
       "               Adj Close     Volume  \n",
       "Date                                 \n",
       "2019-12-23  28551.529297  223530000  \n",
       "2019-12-24  28515.449219   86150000  \n",
       "2019-12-26  28621.390625  155970000  \n",
       "2019-12-27  28645.259766  182280000  \n",
       "2019-12-30  28462.140625  181600000  "
      ]
     },
     "execution_count": 9,
     "metadata": {},
     "output_type": "execute_result"
    }
   ],
   "source": [
    "df.head()"
   ]
  },
  {
   "cell_type": "code",
   "execution_count": 10,
   "metadata": {},
   "outputs": [
    {
     "data": {
      "text/plain": [
       "<AxesSubplot:xlabel='Date'>"
      ]
     },
     "execution_count": 10,
     "metadata": {},
     "output_type": "execute_result"
    },
    {
     "data": {
      "image/png": "[encoded data removed]",
      "text/plain": [
       "<Figure size 432x288 with 1 Axes>"
      ]
     },
     "metadata": {
      "needs_background": "light"
     },
     "output_type": "display_data"
    }
   ],
   "source": [
    "df.resample('D').mean().plot(marker='o')\n"
   ]
  },
  {
   "cell_type": "code",
   "execution_count": 11,
   "metadata": {},
   "outputs": [],
   "source": [
    "new = df[['Adj Close']]"
   ]
  },
  {
   "cell_type": "code",
   "execution_count": 12,
   "metadata": {},
   "outputs": [
    {
     "data": {
      "text/html": [
       "<div>\n",
       "<style scoped>\n",
       "    .dataframe tbody tr th:only-of-type {\n",
       "        vertical-align: middle;\n",
       "    }\n",
       "\n",
       "    .dataframe tbody tr th {\n",
       "        vertical-align: top;\n",
       "    }\n",
       "\n",
       "    .dataframe thead th {\n",
       "        text-align: right;\n",
       "    }\n",
       "</style>\n",
       "<table border=\"1\" class=\"dataframe\">\n",
       "  <thead>\n",
       "    <tr style=\"text-align: right;\">\n",
       "      <th></th>\n",
       "      <th>Adj Close</th>\n",
       "    </tr>\n",
       "    <tr>\n",
       "      <th>Date</th>\n",
       "      <th></th>\n",
       "    </tr>\n",
       "  </thead>\n",
       "  <tbody>\n",
       "    <tr>\n",
       "      <th>2019-12-23</th>\n",
       "      <td>28551.529297</td>\n",
       "    </tr>\n",
       "    <tr>\n",
       "      <th>2019-12-24</th>\n",
       "      <td>28515.449219</td>\n",
       "    </tr>\n",
       "    <tr>\n",
       "      <th>2019-12-26</th>\n",
       "      <td>28621.390625</td>\n",
       "    </tr>\n",
       "    <tr>\n",
       "      <th>2019-12-27</th>\n",
       "      <td>28645.259766</td>\n",
       "    </tr>\n",
       "    <tr>\n",
       "      <th>2019-12-30</th>\n",
       "      <td>28462.140625</td>\n",
       "    </tr>\n",
       "  </tbody>\n",
       "</table>\n",
       "</div>"
      ],
      "text/plain": [
       "               Adj Close\n",
       "Date                    \n",
       "2019-12-23  28551.529297\n",
       "2019-12-24  28515.449219\n",
       "2019-12-26  28621.390625\n",
       "2019-12-27  28645.259766\n",
       "2019-12-30  28462.140625"
      ]
     },
     "execution_count": 12,
     "metadata": {},
     "output_type": "execute_result"
    }
   ],
   "source": [
    "new.head()"
   ]
  },
  {
   "cell_type": "code",
   "execution_count": 13,
   "metadata": {},
   "outputs": [
    {
     "name": "stderr",
     "output_type": "stream",
     "text": [
      "/usr/local/anaconda3/lib/python3.7/site-packages/ipykernel_launcher.py:1: SettingWithCopyWarning: \n",
      "A value is trying to be set on a copy of a slice from a DataFrame.\n",
      "Try using .loc[row_indexer,col_indexer] = value instead\n",
      "\n",
      "See the caveats in the documentation: https://pandas.pydata.org/pandas-docs/stable/user_guide/indexing.html#returning-a-view-versus-a-copy\n",
      "  \"\"\"Entry point for launching an IPython kernel.\n"
     ]
    }
   ],
   "source": [
    "new['Adj Close'] = round(new['Adj Close'], 2)"
   ]
  },
  {
   "cell_type": "code",
   "execution_count": 14,
   "metadata": {},
   "outputs": [
    {
     "data": {
      "text/html": [
       "<div>\n",
       "<style scoped>\n",
       "    .dataframe tbody tr th:only-of-type {\n",
       "        vertical-align: middle;\n",
       "    }\n",
       "\n",
       "    .dataframe tbody tr th {\n",
       "        vertical-align: top;\n",
       "    }\n",
       "\n",
       "    .dataframe thead th {\n",
       "        text-align: right;\n",
       "    }\n",
       "</style>\n",
       "<table border=\"1\" class=\"dataframe\">\n",
       "  <thead>\n",
       "    <tr style=\"text-align: right;\">\n",
       "      <th></th>\n",
       "      <th>Adj Close</th>\n",
       "    </tr>\n",
       "    <tr>\n",
       "      <th>Date</th>\n",
       "      <th></th>\n",
       "    </tr>\n",
       "  </thead>\n",
       "  <tbody>\n",
       "    <tr>\n",
       "      <th>2019-12-23</th>\n",
       "      <td>28551.53</td>\n",
       "    </tr>\n",
       "    <tr>\n",
       "      <th>2019-12-24</th>\n",
       "      <td>28515.45</td>\n",
       "    </tr>\n",
       "    <tr>\n",
       "      <th>2019-12-26</th>\n",
       "      <td>28621.39</td>\n",
       "    </tr>\n",
       "    <tr>\n",
       "      <th>2019-12-27</th>\n",
       "      <td>28645.26</td>\n",
       "    </tr>\n",
       "    <tr>\n",
       "      <th>2019-12-30</th>\n",
       "      <td>28462.14</td>\n",
       "    </tr>\n",
       "  </tbody>\n",
       "</table>\n",
       "</div>"
      ],
      "text/plain": [
       "            Adj Close\n",
       "Date                 \n",
       "2019-12-23   28551.53\n",
       "2019-12-24   28515.45\n",
       "2019-12-26   28621.39\n",
       "2019-12-27   28645.26\n",
       "2019-12-30   28462.14"
      ]
     },
     "execution_count": 14,
     "metadata": {},
     "output_type": "execute_result"
    }
   ],
   "source": [
    "new.head()"
   ]
  },
  {
   "cell_type": "code",
   "execution_count": 17,
   "metadata": {},
   "outputs": [
    {
     "data": {
      "text/plain": [
       "<AxesSubplot:xlabel='Date'>"
      ]
     },
     "execution_count": 17,
     "metadata": {},
     "output_type": "execute_result"
    },
    {
     "data": {
      "image/png": "[encoded data removed]",
      "text/plain": [
       "<Figure size 432x288 with 1 Axes>"
      ]
     },
     "metadata": {
      "needs_background": "light"
     },
     "output_type": "display_data"
    }
   ],
   "source": [
    "new.resample('D').mean().plot(marker='o')\n"
   ]
  },
  {
   "cell_type": "code",
   "execution_count": 18,
   "metadata": {},
   "outputs": [],
   "source": [
    "df2.Date = pd.to_datetime(df2.Date)\n"
   ]
  },
  {
   "cell_type": "code",
   "execution_count": 19,
   "metadata": {},
   "outputs": [],
   "source": [
    "df2 = df2.set_index('Date').sort_index()\n"
   ]
  },
  {
   "cell_type": "code",
   "execution_count": 20,
   "metadata": {},
   "outputs": [
    {
     "data": {
      "text/html": [
       "<div>\n",
       "<style scoped>\n",
       "    .dataframe tbody tr th:only-of-type {\n",
       "        vertical-align: middle;\n",
       "    }\n",
       "\n",
       "    .dataframe tbody tr th {\n",
       "        vertical-align: top;\n",
       "    }\n",
       "\n",
       "    .dataframe thead th {\n",
       "        text-align: right;\n",
       "    }\n",
       "</style>\n",
       "<table border=\"1\" class=\"dataframe\">\n",
       "  <thead>\n",
       "    <tr style=\"text-align: right;\">\n",
       "      <th></th>\n",
       "      <th>Open</th>\n",
       "      <th>High</th>\n",
       "      <th>Low</th>\n",
       "      <th>Close</th>\n",
       "      <th>Adj Close</th>\n",
       "      <th>Volume</th>\n",
       "    </tr>\n",
       "    <tr>\n",
       "      <th>Date</th>\n",
       "      <th></th>\n",
       "      <th></th>\n",
       "      <th></th>\n",
       "      <th></th>\n",
       "      <th></th>\n",
       "      <th></th>\n",
       "    </tr>\n",
       "  </thead>\n",
       "  <tbody>\n",
       "    <tr>\n",
       "      <th>2019-12-21</th>\n",
       "      <td>7220.593750</td>\n",
       "      <td>7223.226074</td>\n",
       "      <td>7112.735840</td>\n",
       "      <td>7191.158691</td>\n",
       "      <td>7191.158691</td>\n",
       "      <td>19312552168</td>\n",
       "    </tr>\n",
       "    <tr>\n",
       "      <th>2019-12-22</th>\n",
       "      <td>7191.188477</td>\n",
       "      <td>7518.033203</td>\n",
       "      <td>7167.179199</td>\n",
       "      <td>7511.588867</td>\n",
       "      <td>7511.588867</td>\n",
       "      <td>23134537956</td>\n",
       "    </tr>\n",
       "    <tr>\n",
       "      <th>2019-12-23</th>\n",
       "      <td>7508.902344</td>\n",
       "      <td>7656.176270</td>\n",
       "      <td>7326.192383</td>\n",
       "      <td>7355.628418</td>\n",
       "      <td>7355.628418</td>\n",
       "      <td>27831788041</td>\n",
       "    </tr>\n",
       "    <tr>\n",
       "      <th>2019-12-24</th>\n",
       "      <td>7354.393066</td>\n",
       "      <td>7535.716797</td>\n",
       "      <td>7269.528809</td>\n",
       "      <td>7322.532227</td>\n",
       "      <td>7322.532227</td>\n",
       "      <td>22991622105</td>\n",
       "    </tr>\n",
       "    <tr>\n",
       "      <th>2019-12-25</th>\n",
       "      <td>7325.755859</td>\n",
       "      <td>7357.020020</td>\n",
       "      <td>7220.991211</td>\n",
       "      <td>7275.155762</td>\n",
       "      <td>7275.155762</td>\n",
       "      <td>21559505148</td>\n",
       "    </tr>\n",
       "  </tbody>\n",
       "</table>\n",
       "</div>"
      ],
      "text/plain": [
       "                   Open         High          Low        Close    Adj Close  \\\n",
       "Date                                                                          \n",
       "2019-12-21  7220.593750  7223.226074  7112.735840  7191.158691  7191.158691   \n",
       "2019-12-22  7191.188477  7518.033203  7167.179199  7511.588867  7511.588867   \n",
       "2019-12-23  7508.902344  7656.176270  7326.192383  7355.628418  7355.628418   \n",
       "2019-12-24  7354.393066  7535.716797  7269.528809  7322.532227  7322.532227   \n",
       "2019-12-25  7325.755859  7357.020020  7220.991211  7275.155762  7275.155762   \n",
       "\n",
       "                 Volume  \n",
       "Date                     \n",
       "2019-12-21  19312552168  \n",
       "2019-12-22  23134537956  \n",
       "2019-12-23  27831788041  \n",
       "2019-12-24  22991622105  \n",
       "2019-12-25  21559505148  "
      ]
     },
     "execution_count": 20,
     "metadata": {},
     "output_type": "execute_result"
    }
   ],
   "source": [
    "df2.head()"
   ]
  },
  {
   "cell_type": "code",
   "execution_count": 21,
   "metadata": {},
   "outputs": [],
   "source": [
    "bit = df2[['Adj Close']]"
   ]
  },
  {
   "cell_type": "code",
   "execution_count": 22,
   "metadata": {},
   "outputs": [
    {
     "data": {
      "text/html": [
       "<div>\n",
       "<style scoped>\n",
       "    .dataframe tbody tr th:only-of-type {\n",
       "        vertical-align: middle;\n",
       "    }\n",
       "\n",
       "    .dataframe tbody tr th {\n",
       "        vertical-align: top;\n",
       "    }\n",
       "\n",
       "    .dataframe thead th {\n",
       "        text-align: right;\n",
       "    }\n",
       "</style>\n",
       "<table border=\"1\" class=\"dataframe\">\n",
       "  <thead>\n",
       "    <tr style=\"text-align: right;\">\n",
       "      <th></th>\n",
       "      <th>Adj Close</th>\n",
       "    </tr>\n",
       "    <tr>\n",
       "      <th>Date</th>\n",
       "      <th></th>\n",
       "    </tr>\n",
       "  </thead>\n",
       "  <tbody>\n",
       "    <tr>\n",
       "      <th>2019-12-21</th>\n",
       "      <td>7191.158691</td>\n",
       "    </tr>\n",
       "    <tr>\n",
       "      <th>2019-12-22</th>\n",
       "      <td>7511.588867</td>\n",
       "    </tr>\n",
       "    <tr>\n",
       "      <th>2019-12-23</th>\n",
       "      <td>7355.628418</td>\n",
       "    </tr>\n",
       "    <tr>\n",
       "      <th>2019-12-24</th>\n",
       "      <td>7322.532227</td>\n",
       "    </tr>\n",
       "    <tr>\n",
       "      <th>2019-12-25</th>\n",
       "      <td>7275.155762</td>\n",
       "    </tr>\n",
       "  </tbody>\n",
       "</table>\n",
       "</div>"
      ],
      "text/plain": [
       "              Adj Close\n",
       "Date                   \n",
       "2019-12-21  7191.158691\n",
       "2019-12-22  7511.588867\n",
       "2019-12-23  7355.628418\n",
       "2019-12-24  7322.532227\n",
       "2019-12-25  7275.155762"
      ]
     },
     "execution_count": 22,
     "metadata": {},
     "output_type": "execute_result"
    }
   ],
   "source": [
    "bit.head()"
   ]
  },
  {
   "cell_type": "code",
   "execution_count": 23,
   "metadata": {},
   "outputs": [
    {
     "name": "stderr",
     "output_type": "stream",
     "text": [
      "/usr/local/anaconda3/lib/python3.7/site-packages/ipykernel_launcher.py:1: SettingWithCopyWarning: \n",
      "A value is trying to be set on a copy of a slice from a DataFrame.\n",
      "Try using .loc[row_indexer,col_indexer] = value instead\n",
      "\n",
      "See the caveats in the documentation: https://pandas.pydata.org/pandas-docs/stable/user_guide/indexing.html#returning-a-view-versus-a-copy\n",
      "  \"\"\"Entry point for launching an IPython kernel.\n"
     ]
    }
   ],
   "source": [
    "bit['Adj Close'] = round(bit['Adj Close'], 2)"
   ]
  },
  {
   "cell_type": "code",
   "execution_count": 24,
   "metadata": {},
   "outputs": [
    {
     "data": {
      "text/html": [
       "<div>\n",
       "<style scoped>\n",
       "    .dataframe tbody tr th:only-of-type {\n",
       "        vertical-align: middle;\n",
       "    }\n",
       "\n",
       "    .dataframe tbody tr th {\n",
       "        vertical-align: top;\n",
       "    }\n",
       "\n",
       "    .dataframe thead th {\n",
       "        text-align: right;\n",
       "    }\n",
       "</style>\n",
       "<table border=\"1\" class=\"dataframe\">\n",
       "  <thead>\n",
       "    <tr style=\"text-align: right;\">\n",
       "      <th></th>\n",
       "      <th>Adj Close</th>\n",
       "    </tr>\n",
       "    <tr>\n",
       "      <th>Date</th>\n",
       "      <th></th>\n",
       "    </tr>\n",
       "  </thead>\n",
       "  <tbody>\n",
       "    <tr>\n",
       "      <th>2019-12-21</th>\n",
       "      <td>7191.16</td>\n",
       "    </tr>\n",
       "    <tr>\n",
       "      <th>2019-12-22</th>\n",
       "      <td>7511.59</td>\n",
       "    </tr>\n",
       "    <tr>\n",
       "      <th>2019-12-23</th>\n",
       "      <td>7355.63</td>\n",
       "    </tr>\n",
       "    <tr>\n",
       "      <th>2019-12-24</th>\n",
       "      <td>7322.53</td>\n",
       "    </tr>\n",
       "    <tr>\n",
       "      <th>2019-12-25</th>\n",
       "      <td>7275.16</td>\n",
       "    </tr>\n",
       "  </tbody>\n",
       "</table>\n",
       "</div>"
      ],
      "text/plain": [
       "            Adj Close\n",
       "Date                 \n",
       "2019-12-21    7191.16\n",
       "2019-12-22    7511.59\n",
       "2019-12-23    7355.63\n",
       "2019-12-24    7322.53\n",
       "2019-12-25    7275.16"
      ]
     },
     "execution_count": 24,
     "metadata": {},
     "output_type": "execute_result"
    }
   ],
   "source": [
    "bit.head()"
   ]
  },
  {
   "cell_type": "code",
   "execution_count": 25,
   "metadata": {},
   "outputs": [
    {
     "data": {
      "text/plain": [
       "<AxesSubplot:xlabel='Date'>"
      ]
     },
     "execution_count": 25,
     "metadata": {},
     "output_type": "execute_result"
    },
    {
     "data": {
      "image/png": "[encoded data removed]",
      "text/plain": [
       "<Figure size 432x288 with 1 Axes>"
      ]
     },
     "metadata": {
      "needs_background": "light"
     },
     "output_type": "display_data"
    }
   ],
   "source": [
    "bit.resample('D').mean().plot(marker='o')\n"
   ]
  },
  {
   "cell_type": "code",
   "execution_count": 31,
   "metadata": {},
   "outputs": [
    {
     "name": "stderr",
     "output_type": "stream",
     "text": [
      "/usr/local/anaconda3/lib/python3.7/site-packages/pandas/core/frame.py:4304: SettingWithCopyWarning: \n",
      "A value is trying to be set on a copy of a slice from a DataFrame\n",
      "\n",
      "See the caveats in the documentation: https://pandas.pydata.org/pandas-docs/stable/user_guide/indexing.html#returning-a-view-versus-a-copy\n",
      "  errors=errors,\n"
     ]
    }
   ],
   "source": [
    "bit.rename(columns={'Adj Close': 'bit_close'}, inplace=True)"
   ]
  },
  {
   "cell_type": "code",
   "execution_count": 32,
   "metadata": {},
   "outputs": [
    {
     "data": {
      "text/html": [
       "<div>\n",
       "<style scoped>\n",
       "    .dataframe tbody tr th:only-of-type {\n",
       "        vertical-align: middle;\n",
       "    }\n",
       "\n",
       "    .dataframe tbody tr th {\n",
       "        vertical-align: top;\n",
       "    }\n",
       "\n",
       "    .dataframe thead th {\n",
       "        text-align: right;\n",
       "    }\n",
       "</style>\n",
       "<table border=\"1\" class=\"dataframe\">\n",
       "  <thead>\n",
       "    <tr style=\"text-align: right;\">\n",
       "      <th></th>\n",
       "      <th>bit_close</th>\n",
       "    </tr>\n",
       "    <tr>\n",
       "      <th>Date</th>\n",
       "      <th></th>\n",
       "    </tr>\n",
       "  </thead>\n",
       "  <tbody>\n",
       "    <tr>\n",
       "      <th>2019-12-21</th>\n",
       "      <td>7191.16</td>\n",
       "    </tr>\n",
       "    <tr>\n",
       "      <th>2019-12-22</th>\n",
       "      <td>7511.59</td>\n",
       "    </tr>\n",
       "    <tr>\n",
       "      <th>2019-12-23</th>\n",
       "      <td>7355.63</td>\n",
       "    </tr>\n",
       "    <tr>\n",
       "      <th>2019-12-24</th>\n",
       "      <td>7322.53</td>\n",
       "    </tr>\n",
       "    <tr>\n",
       "      <th>2019-12-25</th>\n",
       "      <td>7275.16</td>\n",
       "    </tr>\n",
       "  </tbody>\n",
       "</table>\n",
       "</div>"
      ],
      "text/plain": [
       "            bit_close\n",
       "Date                 \n",
       "2019-12-21    7191.16\n",
       "2019-12-22    7511.59\n",
       "2019-12-23    7355.63\n",
       "2019-12-24    7322.53\n",
       "2019-12-25    7275.16"
      ]
     },
     "execution_count": 32,
     "metadata": {},
     "output_type": "execute_result"
    }
   ],
   "source": [
    "bit.head()"
   ]
  },
  {
   "cell_type": "code",
   "execution_count": 33,
   "metadata": {},
   "outputs": [],
   "source": [
    "result = pd.merge(df, bit, on='Date')"
   ]
  },
  {
   "cell_type": "code",
   "execution_count": 34,
   "metadata": {},
   "outputs": [
    {
     "data": {
      "text/html": [
       "<div>\n",
       "<style scoped>\n",
       "    .dataframe tbody tr th:only-of-type {\n",
       "        vertical-align: middle;\n",
       "    }\n",
       "\n",
       "    .dataframe tbody tr th {\n",
       "        vertical-align: top;\n",
       "    }\n",
       "\n",
       "    .dataframe thead th {\n",
       "        text-align: right;\n",
       "    }\n",
       "</style>\n",
       "<table border=\"1\" class=\"dataframe\">\n",
       "  <thead>\n",
       "    <tr style=\"text-align: right;\">\n",
       "      <th></th>\n",
       "      <th>Open</th>\n",
       "      <th>High</th>\n",
       "      <th>Low</th>\n",
       "      <th>Close</th>\n",
       "      <th>Adj Close</th>\n",
       "      <th>Volume</th>\n",
       "      <th>bit_close</th>\n",
       "    </tr>\n",
       "    <tr>\n",
       "      <th>Date</th>\n",
       "      <th></th>\n",
       "      <th></th>\n",
       "      <th></th>\n",
       "      <th></th>\n",
       "      <th></th>\n",
       "      <th></th>\n",
       "      <th></th>\n",
       "    </tr>\n",
       "  </thead>\n",
       "  <tbody>\n",
       "    <tr>\n",
       "      <th>2019-12-23</th>\n",
       "      <td>28491.779297</td>\n",
       "      <td>28582.490234</td>\n",
       "      <td>28491.779297</td>\n",
       "      <td>28551.529297</td>\n",
       "      <td>28551.529297</td>\n",
       "      <td>223530000</td>\n",
       "      <td>7355.63</td>\n",
       "    </tr>\n",
       "    <tr>\n",
       "      <th>2019-12-24</th>\n",
       "      <td>28572.570313</td>\n",
       "      <td>28576.800781</td>\n",
       "      <td>28503.210938</td>\n",
       "      <td>28515.449219</td>\n",
       "      <td>28515.449219</td>\n",
       "      <td>86150000</td>\n",
       "      <td>7322.53</td>\n",
       "    </tr>\n",
       "    <tr>\n",
       "      <th>2019-12-26</th>\n",
       "      <td>28539.460938</td>\n",
       "      <td>28624.099609</td>\n",
       "      <td>28535.150391</td>\n",
       "      <td>28621.390625</td>\n",
       "      <td>28621.390625</td>\n",
       "      <td>155970000</td>\n",
       "      <td>7238.97</td>\n",
       "    </tr>\n",
       "    <tr>\n",
       "      <th>2019-12-27</th>\n",
       "      <td>28675.339844</td>\n",
       "      <td>28701.660156</td>\n",
       "      <td>28608.980469</td>\n",
       "      <td>28645.259766</td>\n",
       "      <td>28645.259766</td>\n",
       "      <td>182280000</td>\n",
       "      <td>7290.09</td>\n",
       "    </tr>\n",
       "    <tr>\n",
       "      <th>2019-12-30</th>\n",
       "      <td>28654.759766</td>\n",
       "      <td>28664.689453</td>\n",
       "      <td>28428.980469</td>\n",
       "      <td>28462.140625</td>\n",
       "      <td>28462.140625</td>\n",
       "      <td>181600000</td>\n",
       "      <td>7293.00</td>\n",
       "    </tr>\n",
       "  </tbody>\n",
       "</table>\n",
       "</div>"
      ],
      "text/plain": [
       "                    Open          High           Low         Close  \\\n",
       "Date                                                                 \n",
       "2019-12-23  28491.779297  28582.490234  28491.779297  28551.529297   \n",
       "2019-12-24  28572.570313  28576.800781  28503.210938  28515.449219   \n",
       "2019-12-26  28539.460938  28624.099609  28535.150391  28621.390625   \n",
       "2019-12-27  28675.339844  28701.660156  28608.980469  28645.259766   \n",
       "2019-12-30  28654.759766  28664.689453  28428.980469  28462.140625   \n",
       "\n",
       "               Adj Close     Volume  bit_close  \n",
       "Date                                            \n",
       "2019-12-23  28551.529297  223530000    7355.63  \n",
       "2019-12-24  28515.449219   86150000    7322.53  \n",
       "2019-12-26  28621.390625  155970000    7238.97  \n",
       "2019-12-27  28645.259766  182280000    7290.09  \n",
       "2019-12-30  28462.140625  181600000    7293.00  "
      ]
     },
     "execution_count": 34,
     "metadata": {},
     "output_type": "execute_result"
    }
   ],
   "source": [
    "result.head()"
   ]
  },
  {
   "cell_type": "code",
   "execution_count": 35,
   "metadata": {},
   "outputs": [],
   "source": [
    "result.rename(columns={'Adj Close': 'dow_close'}, inplace=True)"
   ]
  },
  {
   "cell_type": "code",
   "execution_count": 36,
   "metadata": {},
   "outputs": [],
   "source": [
    "result = result[['dow_close', 'bit_close']]"
   ]
  },
  {
   "cell_type": "code",
   "execution_count": 37,
   "metadata": {},
   "outputs": [
    {
     "data": {
      "text/html": [
       "<div>\n",
       "<style scoped>\n",
       "    .dataframe tbody tr th:only-of-type {\n",
       "        vertical-align: middle;\n",
       "    }\n",
       "\n",
       "    .dataframe tbody tr th {\n",
       "        vertical-align: top;\n",
       "    }\n",
       "\n",
       "    .dataframe thead th {\n",
       "        text-align: right;\n",
       "    }\n",
       "</style>\n",
       "<table border=\"1\" class=\"dataframe\">\n",
       "  <thead>\n",
       "    <tr style=\"text-align: right;\">\n",
       "      <th></th>\n",
       "      <th>dow_close</th>\n",
       "      <th>bit_close</th>\n",
       "    </tr>\n",
       "    <tr>\n",
       "      <th>Date</th>\n",
       "      <th></th>\n",
       "      <th></th>\n",
       "    </tr>\n",
       "  </thead>\n",
       "  <tbody>\n",
       "    <tr>\n",
       "      <th>2019-12-23</th>\n",
       "      <td>28551.529297</td>\n",
       "      <td>7355.63</td>\n",
       "    </tr>\n",
       "    <tr>\n",
       "      <th>2019-12-24</th>\n",
       "      <td>28515.449219</td>\n",
       "      <td>7322.53</td>\n",
       "    </tr>\n",
       "    <tr>\n",
       "      <th>2019-12-26</th>\n",
       "      <td>28621.390625</td>\n",
       "      <td>7238.97</td>\n",
       "    </tr>\n",
       "    <tr>\n",
       "      <th>2019-12-27</th>\n",
       "      <td>28645.259766</td>\n",
       "      <td>7290.09</td>\n",
       "    </tr>\n",
       "    <tr>\n",
       "      <th>2019-12-30</th>\n",
       "      <td>28462.140625</td>\n",
       "      <td>7293.00</td>\n",
       "    </tr>\n",
       "  </tbody>\n",
       "</table>\n",
       "</div>"
      ],
      "text/plain": [
       "               dow_close  bit_close\n",
       "Date                               \n",
       "2019-12-23  28551.529297    7355.63\n",
       "2019-12-24  28515.449219    7322.53\n",
       "2019-12-26  28621.390625    7238.97\n",
       "2019-12-27  28645.259766    7290.09\n",
       "2019-12-30  28462.140625    7293.00"
      ]
     },
     "execution_count": 37,
     "metadata": {},
     "output_type": "execute_result"
    }
   ],
   "source": [
    "result.head()"
   ]
  },
  {
   "cell_type": "code",
   "execution_count": 38,
   "metadata": {},
   "outputs": [],
   "source": [
    "result['dow_close'] = round(result.dow_close, 2)"
   ]
  },
  {
   "cell_type": "code",
   "execution_count": 39,
   "metadata": {},
   "outputs": [
    {
     "data": {
      "text/html": [
       "<div>\n",
       "<style scoped>\n",
       "    .dataframe tbody tr th:only-of-type {\n",
       "        vertical-align: middle;\n",
       "    }\n",
       "\n",
       "    .dataframe tbody tr th {\n",
       "        vertical-align: top;\n",
       "    }\n",
       "\n",
       "    .dataframe thead th {\n",
       "        text-align: right;\n",
       "    }\n",
       "</style>\n",
       "<table border=\"1\" class=\"dataframe\">\n",
       "  <thead>\n",
       "    <tr style=\"text-align: right;\">\n",
       "      <th></th>\n",
       "      <th>dow_close</th>\n",
       "      <th>bit_close</th>\n",
       "    </tr>\n",
       "    <tr>\n",
       "      <th>Date</th>\n",
       "      <th></th>\n",
       "      <th></th>\n",
       "    </tr>\n",
       "  </thead>\n",
       "  <tbody>\n",
       "    <tr>\n",
       "      <th>2019-12-23</th>\n",
       "      <td>28551.53</td>\n",
       "      <td>7355.63</td>\n",
       "    </tr>\n",
       "    <tr>\n",
       "      <th>2019-12-24</th>\n",
       "      <td>28515.45</td>\n",
       "      <td>7322.53</td>\n",
       "    </tr>\n",
       "    <tr>\n",
       "      <th>2019-12-26</th>\n",
       "      <td>28621.39</td>\n",
       "      <td>7238.97</td>\n",
       "    </tr>\n",
       "    <tr>\n",
       "      <th>2019-12-27</th>\n",
       "      <td>28645.26</td>\n",
       "      <td>7290.09</td>\n",
       "    </tr>\n",
       "    <tr>\n",
       "      <th>2019-12-30</th>\n",
       "      <td>28462.14</td>\n",
       "      <td>7293.00</td>\n",
       "    </tr>\n",
       "  </tbody>\n",
       "</table>\n",
       "</div>"
      ],
      "text/plain": [
       "            dow_close  bit_close\n",
       "Date                            \n",
       "2019-12-23   28551.53    7355.63\n",
       "2019-12-24   28515.45    7322.53\n",
       "2019-12-26   28621.39    7238.97\n",
       "2019-12-27   28645.26    7290.09\n",
       "2019-12-30   28462.14    7293.00"
      ]
     },
     "execution_count": 39,
     "metadata": {},
     "output_type": "execute_result"
    }
   ],
   "source": [
    "result.head()"
   ]
  },
  {
   "cell_type": "code",
   "execution_count": 43,
   "metadata": {},
   "outputs": [
    {
     "data": {
      "text/html": [
       "<div>\n",
       "<style scoped>\n",
       "    .dataframe tbody tr th:only-of-type {\n",
       "        vertical-align: middle;\n",
       "    }\n",
       "\n",
       "    .dataframe tbody tr th {\n",
       "        vertical-align: top;\n",
       "    }\n",
       "\n",
       "    .dataframe thead th {\n",
       "        text-align: right;\n",
       "    }\n",
       "</style>\n",
       "<table border=\"1\" class=\"dataframe\">\n",
       "  <thead>\n",
       "    <tr style=\"text-align: right;\">\n",
       "      <th></th>\n",
       "      <th>dow_close</th>\n",
       "      <th>bit_close</th>\n",
       "    </tr>\n",
       "    <tr>\n",
       "      <th>Date</th>\n",
       "      <th></th>\n",
       "      <th></th>\n",
       "    </tr>\n",
       "  </thead>\n",
       "  <tbody>\n",
       "    <tr>\n",
       "      <th>2019-12-31</th>\n",
       "      <td>AxesSubplot(0.125,0.2;0.775x0.68)</td>\n",
       "      <td>AxesSubplot(0.125,0.2;0.775x0.68)</td>\n",
       "    </tr>\n",
       "    <tr>\n",
       "      <th>2020-01-31</th>\n",
       "      <td>AxesSubplot(0.125,0.2;0.775x0.68)</td>\n",
       "      <td>AxesSubplot(0.125,0.2;0.775x0.68)</td>\n",
       "    </tr>\n",
       "    <tr>\n",
       "      <th>2020-02-29</th>\n",
       "      <td>AxesSubplot(0.125,0.2;0.775x0.68)</td>\n",
       "      <td>AxesSubplot(0.125,0.2;0.775x0.68)</td>\n",
       "    </tr>\n",
       "    <tr>\n",
       "      <th>2020-03-31</th>\n",
       "      <td>AxesSubplot(0.125,0.2;0.775x0.68)</td>\n",
       "      <td>AxesSubplot(0.125,0.2;0.775x0.68)</td>\n",
       "    </tr>\n",
       "    <tr>\n",
       "      <th>2020-04-30</th>\n",
       "      <td>AxesSubplot(0.125,0.2;0.775x0.68)</td>\n",
       "      <td>AxesSubplot(0.125,0.2;0.775x0.68)</td>\n",
       "    </tr>\n",
       "    <tr>\n",
       "      <th>2020-05-31</th>\n",
       "      <td>AxesSubplot(0.125,0.2;0.775x0.68)</td>\n",
       "      <td>AxesSubplot(0.125,0.2;0.775x0.68)</td>\n",
       "    </tr>\n",
       "    <tr>\n",
       "      <th>2020-06-30</th>\n",
       "      <td>AxesSubplot(0.125,0.2;0.775x0.68)</td>\n",
       "      <td>AxesSubplot(0.125,0.2;0.775x0.68)</td>\n",
       "    </tr>\n",
       "    <tr>\n",
       "      <th>2020-07-31</th>\n",
       "      <td>AxesSubplot(0.125,0.2;0.775x0.68)</td>\n",
       "      <td>AxesSubplot(0.125,0.2;0.775x0.68)</td>\n",
       "    </tr>\n",
       "    <tr>\n",
       "      <th>2020-08-31</th>\n",
       "      <td>AxesSubplot(0.125,0.2;0.775x0.68)</td>\n",
       "      <td>AxesSubplot(0.125,0.2;0.775x0.68)</td>\n",
       "    </tr>\n",
       "    <tr>\n",
       "      <th>2020-09-30</th>\n",
       "      <td>AxesSubplot(0.125,0.2;0.775x0.68)</td>\n",
       "      <td>AxesSubplot(0.125,0.2;0.775x0.68)</td>\n",
       "    </tr>\n",
       "    <tr>\n",
       "      <th>2020-10-31</th>\n",
       "      <td>AxesSubplot(0.125,0.2;0.775x0.68)</td>\n",
       "      <td>AxesSubplot(0.125,0.2;0.775x0.68)</td>\n",
       "    </tr>\n",
       "    <tr>\n",
       "      <th>2020-11-30</th>\n",
       "      <td>AxesSubplot(0.125,0.2;0.775x0.68)</td>\n",
       "      <td>AxesSubplot(0.125,0.2;0.775x0.68)</td>\n",
       "    </tr>\n",
       "    <tr>\n",
       "      <th>2020-12-31</th>\n",
       "      <td>AxesSubplot(0.125,0.2;0.775x0.68)</td>\n",
       "      <td>AxesSubplot(0.125,0.2;0.775x0.68)</td>\n",
       "    </tr>\n",
       "  </tbody>\n",
       "</table>\n",
       "</div>"
      ],
      "text/plain": [
       "                                    dow_close  \\\n",
       "Date                                            \n",
       "2019-12-31  AxesSubplot(0.125,0.2;0.775x0.68)   \n",
       "2020-01-31  AxesSubplot(0.125,0.2;0.775x0.68)   \n",
       "2020-02-29  AxesSubplot(0.125,0.2;0.775x0.68)   \n",
       "2020-03-31  AxesSubplot(0.125,0.2;0.775x0.68)   \n",
       "2020-04-30  AxesSubplot(0.125,0.2;0.775x0.68)   \n",
       "2020-05-31  AxesSubplot(0.125,0.2;0.775x0.68)   \n",
       "2020-06-30  AxesSubplot(0.125,0.2;0.775x0.68)   \n",
       "2020-07-31  AxesSubplot(0.125,0.2;0.775x0.68)   \n",
       "2020-08-31  AxesSubplot(0.125,0.2;0.775x0.68)   \n",
       "2020-09-30  AxesSubplot(0.125,0.2;0.775x0.68)   \n",
       "2020-10-31  AxesSubplot(0.125,0.2;0.775x0.68)   \n",
       "2020-11-30  AxesSubplot(0.125,0.2;0.775x0.68)   \n",
       "2020-12-31  AxesSubplot(0.125,0.2;0.775x0.68)   \n",
       "\n",
       "                                    bit_close  \n",
       "Date                                           \n",
       "2019-12-31  AxesSubplot(0.125,0.2;0.775x0.68)  \n",
       "2020-01-31  AxesSubplot(0.125,0.2;0.775x0.68)  \n",
       "2020-02-29  AxesSubplot(0.125,0.2;0.775x0.68)  \n",
       "2020-03-31  AxesSubplot(0.125,0.2;0.775x0.68)  \n",
       "2020-04-30  AxesSubplot(0.125,0.2;0.775x0.68)  \n",
       "2020-05-31  AxesSubplot(0.125,0.2;0.775x0.68)  \n",
       "2020-06-30  AxesSubplot(0.125,0.2;0.775x0.68)  \n",
       "2020-07-31  AxesSubplot(0.125,0.2;0.775x0.68)  \n",
       "2020-08-31  AxesSubplot(0.125,0.2;0.775x0.68)  \n",
       "2020-09-30  AxesSubplot(0.125,0.2;0.775x0.68)  \n",
       "2020-10-31  AxesSubplot(0.125,0.2;0.775x0.68)  \n",
       "2020-11-30  AxesSubplot(0.125,0.2;0.775x0.68)  \n",
       "2020-12-31  AxesSubplot(0.125,0.2;0.775x0.68)  "
      ]
     },
     "execution_count": 43,
     "metadata": {},
     "output_type": "execute_result"
    },
    {
     "data": {
      "image/png": "[encoded data removed]",
      "text/plain": [
       "<Figure size 432x288 with 1 Axes>"
      ]
     },
     "metadata": {
      "needs_background": "light"
     },
     "output_type": "display_data"
    }
   ],
   "source": [
    "result.resample('M').plot()\n"
   ]
  },
  {
   "cell_type": "code",
   "execution_count": 50,
   "metadata": {},
   "outputs": [],
   "source": [
    "import matplotlib.pyplot as plt\n",
    "import seaborn as sns"
   ]
  },
  {
   "cell_type": "code",
   "execution_count": 49,
   "metadata": {},
   "outputs": [
    {
     "data": {
      "image/png": "[encoded data removed]",
      "text/plain": [
       "<Figure size 1152x648 with 2 Axes>"
      ]
     },
     "metadata": {
      "needs_background": "light"
     },
     "output_type": "display_data"
    }
   ],
   "source": [
    "plt.figure(figsize=(16,9))\n",
    "plt.xlabel('Dow vs Bitcoin')\n",
    "\n",
    "ax1 = result.dow_close.plot(color='blue', grid=True, label='Dow')\n",
    "ax2 = result.bit_close.plot(color='red', grid=True, secondary_y=True, label='Bitcoin')\n",
    "\n",
    "# ax1.legend(loc=1)\n",
    "# ax2.legend(loc=2)\n",
    "plt.legend(loc='upper right')\n",
    "plt.show()"
   ]
  },
  {
   "cell_type": "code",
   "execution_count": 52,
   "metadata": {},
   "outputs": [
    {
     "data": {
      "text/plain": [
       "<seaborn.axisgrid.FacetGrid at 0x7fde81e82450>"
      ]
     },
     "execution_count": 52,
     "metadata": {},
     "output_type": "execute_result"
    },
    {
     "data": {
      "image/png": "[encoded data removed]",
      "text/plain": [
       "<Figure size 360x360 with 1 Axes>"
      ]
     },
     "metadata": {
      "needs_background": "light"
     },
     "output_type": "display_data"
    }
   ],
   "source": [
    "sns.relplot(data=result, x='dow_close', y='bit_close')"
   ]
  },
  {
   "cell_type": "code",
   "execution_count": 53,
   "metadata": {},
   "outputs": [
    {
     "data": {
      "text/plain": [
       "<AxesSubplot:>"
      ]
     },
     "execution_count": 53,
     "metadata": {},
     "output_type": "execute_result"
    },
    {
     "data": {
      "image/png": "[encoded data removed]",
      "text/plain": [
       "<Figure size 432x288 with 1 Axes>"
      ]
     },
     "metadata": {
      "needs_background": "light"
     },
     "output_type": "display_data"
    }
   ],
   "source": [
    "result.bit_close.hist()"
   ]
  },
  {
   "cell_type": "code",
   "execution_count": 54,
   "metadata": {},
   "outputs": [
    {
     "data": {
      "text/plain": [
       "<AxesSubplot:>"
      ]
     },
     "execution_count": 54,
     "metadata": {},
     "output_type": "execute_result"
    },
    {
     "data": {
      "image/png": "[encoded data removed]",
      "text/plain": [
       "<Figure size 432x288 with 1 Axes>"
      ]
     },
     "metadata": {
      "needs_background": "light"
     },
     "output_type": "display_data"
    }
   ],
   "source": [
    "result.dow_close.hist()"
   ]
  },
  {
   "cell_type": "code",
   "execution_count": 55,
   "metadata": {},
   "outputs": [],
   "source": [
    "gold = pd.read_csv('gold.csv')"
   ]
  },
  {
   "cell_type": "code",
   "execution_count": 56,
   "metadata": {},
   "outputs": [
    {
     "data": {
      "text/html": [
       "<div>\n",
       "<style scoped>\n",
       "    .dataframe tbody tr th:only-of-type {\n",
       "        vertical-align: middle;\n",
       "    }\n",
       "\n",
       "    .dataframe tbody tr th {\n",
       "        vertical-align: top;\n",
       "    }\n",
       "\n",
       "    .dataframe thead th {\n",
       "        text-align: right;\n",
       "    }\n",
       "</style>\n",
       "<table border=\"1\" class=\"dataframe\">\n",
       "  <thead>\n",
       "    <tr style=\"text-align: right;\">\n",
       "      <th></th>\n",
       "      <th>Date</th>\n",
       "      <th>Open</th>\n",
       "      <th>High</th>\n",
       "      <th>Low</th>\n",
       "      <th>Close</th>\n",
       "      <th>Adj Close</th>\n",
       "      <th>Volume</th>\n",
       "    </tr>\n",
       "  </thead>\n",
       "  <tbody>\n",
       "    <tr>\n",
       "      <th>0</th>\n",
       "      <td>2019-12-22</td>\n",
       "      <td>1482.400024</td>\n",
       "      <td>1482.500000</td>\n",
       "      <td>1481.199951</td>\n",
       "      <td>1482.099976</td>\n",
       "      <td>1482.099976</td>\n",
       "      <td>72933.0</td>\n",
       "    </tr>\n",
       "    <tr>\n",
       "      <th>1</th>\n",
       "      <td>2019-12-23</td>\n",
       "      <td>1482.300049</td>\n",
       "      <td>1482.500000</td>\n",
       "      <td>1479.900024</td>\n",
       "      <td>1482.500000</td>\n",
       "      <td>1482.500000</td>\n",
       "      <td>391.0</td>\n",
       "    </tr>\n",
       "    <tr>\n",
       "      <th>2</th>\n",
       "      <td>2019-12-24</td>\n",
       "      <td>NaN</td>\n",
       "      <td>NaN</td>\n",
       "      <td>NaN</td>\n",
       "      <td>NaN</td>\n",
       "      <td>NaN</td>\n",
       "      <td>NaN</td>\n",
       "    </tr>\n",
       "    <tr>\n",
       "      <th>3</th>\n",
       "      <td>2019-12-26</td>\n",
       "      <td>1505.199951</td>\n",
       "      <td>1512.300049</td>\n",
       "      <td>1505.000000</td>\n",
       "      <td>1509.300049</td>\n",
       "      <td>1509.300049</td>\n",
       "      <td>126.0</td>\n",
       "    </tr>\n",
       "    <tr>\n",
       "      <th>4</th>\n",
       "      <td>2019-12-27</td>\n",
       "      <td>1513.800049</td>\n",
       "      <td>1513.800049</td>\n",
       "      <td>1513.800049</td>\n",
       "      <td>1513.800049</td>\n",
       "      <td>1513.800049</td>\n",
       "      <td>839.0</td>\n",
       "    </tr>\n",
       "  </tbody>\n",
       "</table>\n",
       "</div>"
      ],
      "text/plain": [
       "         Date         Open         High          Low        Close  \\\n",
       "0  2019-12-22  1482.400024  1482.500000  1481.199951  1482.099976   \n",
       "1  2019-12-23  1482.300049  1482.500000  1479.900024  1482.500000   \n",
       "2  2019-12-24          NaN          NaN          NaN          NaN   \n",
       "3  2019-12-26  1505.199951  1512.300049  1505.000000  1509.300049   \n",
       "4  2019-12-27  1513.800049  1513.800049  1513.800049  1513.800049   \n",
       "\n",
       "     Adj Close   Volume  \n",
       "0  1482.099976  72933.0  \n",
       "1  1482.500000    391.0  \n",
       "2          NaN      NaN  \n",
       "3  1509.300049    126.0  \n",
       "4  1513.800049    839.0  "
      ]
     },
     "execution_count": 56,
     "metadata": {},
     "output_type": "execute_result"
    }
   ],
   "source": [
    "gold.head()"
   ]
  },
  {
   "cell_type": "code",
   "execution_count": 57,
   "metadata": {},
   "outputs": [],
   "source": [
    "gold.Date = pd.to_datetime(gold.Date)\n"
   ]
  },
  {
   "cell_type": "code",
   "execution_count": 58,
   "metadata": {},
   "outputs": [],
   "source": [
    "gold = gold.set_index('Date').sort_index()\n"
   ]
  },
  {
   "cell_type": "code",
   "execution_count": 59,
   "metadata": {},
   "outputs": [],
   "source": [
    "gold = gold[['Adj Close']]"
   ]
  },
  {
   "cell_type": "code",
   "execution_count": 60,
   "metadata": {},
   "outputs": [
    {
     "data": {
      "text/html": [
       "<div>\n",
       "<style scoped>\n",
       "    .dataframe tbody tr th:only-of-type {\n",
       "        vertical-align: middle;\n",
       "    }\n",
       "\n",
       "    .dataframe tbody tr th {\n",
       "        vertical-align: top;\n",
       "    }\n",
       "\n",
       "    .dataframe thead th {\n",
       "        text-align: right;\n",
       "    }\n",
       "</style>\n",
       "<table border=\"1\" class=\"dataframe\">\n",
       "  <thead>\n",
       "    <tr style=\"text-align: right;\">\n",
       "      <th></th>\n",
       "      <th>Adj Close</th>\n",
       "    </tr>\n",
       "    <tr>\n",
       "      <th>Date</th>\n",
       "      <th></th>\n",
       "    </tr>\n",
       "  </thead>\n",
       "  <tbody>\n",
       "    <tr>\n",
       "      <th>2019-12-22</th>\n",
       "      <td>1482.099976</td>\n",
       "    </tr>\n",
       "    <tr>\n",
       "      <th>2019-12-23</th>\n",
       "      <td>1482.500000</td>\n",
       "    </tr>\n",
       "    <tr>\n",
       "      <th>2019-12-24</th>\n",
       "      <td>NaN</td>\n",
       "    </tr>\n",
       "    <tr>\n",
       "      <th>2019-12-26</th>\n",
       "      <td>1509.300049</td>\n",
       "    </tr>\n",
       "    <tr>\n",
       "      <th>2019-12-27</th>\n",
       "      <td>1513.800049</td>\n",
       "    </tr>\n",
       "  </tbody>\n",
       "</table>\n",
       "</div>"
      ],
      "text/plain": [
       "              Adj Close\n",
       "Date                   \n",
       "2019-12-22  1482.099976\n",
       "2019-12-23  1482.500000\n",
       "2019-12-24          NaN\n",
       "2019-12-26  1509.300049\n",
       "2019-12-27  1513.800049"
      ]
     },
     "execution_count": 60,
     "metadata": {},
     "output_type": "execute_result"
    }
   ],
   "source": [
    "gold.head()"
   ]
  },
  {
   "cell_type": "code",
   "execution_count": 71,
   "metadata": {},
   "outputs": [],
   "source": [
    "gold['Adj Close'].fillna(gold['Adj Close'].mean(), inplace=True)"
   ]
  },
  {
   "cell_type": "code",
   "execution_count": 72,
   "metadata": {},
   "outputs": [
    {
     "data": {
      "text/html": [
       "<div>\n",
       "<style scoped>\n",
       "    .dataframe tbody tr th:only-of-type {\n",
       "        vertical-align: middle;\n",
       "    }\n",
       "\n",
       "    .dataframe tbody tr th {\n",
       "        vertical-align: top;\n",
       "    }\n",
       "\n",
       "    .dataframe thead th {\n",
       "        text-align: right;\n",
       "    }\n",
       "</style>\n",
       "<table border=\"1\" class=\"dataframe\">\n",
       "  <thead>\n",
       "    <tr style=\"text-align: right;\">\n",
       "      <th></th>\n",
       "      <th>Adj Close</th>\n",
       "    </tr>\n",
       "    <tr>\n",
       "      <th>Date</th>\n",
       "      <th></th>\n",
       "    </tr>\n",
       "  </thead>\n",
       "  <tbody>\n",
       "    <tr>\n",
       "      <th>2019-12-22</th>\n",
       "      <td>1482.099976</td>\n",
       "    </tr>\n",
       "    <tr>\n",
       "      <th>2019-12-23</th>\n",
       "      <td>1482.500000</td>\n",
       "    </tr>\n",
       "    <tr>\n",
       "      <th>2019-12-24</th>\n",
       "      <td>1760.047701</td>\n",
       "    </tr>\n",
       "    <tr>\n",
       "      <th>2019-12-26</th>\n",
       "      <td>1509.300049</td>\n",
       "    </tr>\n",
       "    <tr>\n",
       "      <th>2019-12-27</th>\n",
       "      <td>1513.800049</td>\n",
       "    </tr>\n",
       "  </tbody>\n",
       "</table>\n",
       "</div>"
      ],
      "text/plain": [
       "              Adj Close\n",
       "Date                   \n",
       "2019-12-22  1482.099976\n",
       "2019-12-23  1482.500000\n",
       "2019-12-24  1760.047701\n",
       "2019-12-26  1509.300049\n",
       "2019-12-27  1513.800049"
      ]
     },
     "execution_count": 72,
     "metadata": {},
     "output_type": "execute_result"
    }
   ],
   "source": [
    "gold.head()"
   ]
  },
  {
   "cell_type": "code",
   "execution_count": 73,
   "metadata": {},
   "outputs": [],
   "source": [
    "gold['Adj Close'] = round(gold['Adj Close'], 2)"
   ]
  },
  {
   "cell_type": "code",
   "execution_count": 74,
   "metadata": {},
   "outputs": [],
   "source": [
    "gold.rename(columns={'Adj Close': 'gold_close'}, inplace=True)"
   ]
  },
  {
   "cell_type": "code",
   "execution_count": 75,
   "metadata": {},
   "outputs": [
    {
     "data": {
      "text/html": [
       "<div>\n",
       "<style scoped>\n",
       "    .dataframe tbody tr th:only-of-type {\n",
       "        vertical-align: middle;\n",
       "    }\n",
       "\n",
       "    .dataframe tbody tr th {\n",
       "        vertical-align: top;\n",
       "    }\n",
       "\n",
       "    .dataframe thead th {\n",
       "        text-align: right;\n",
       "    }\n",
       "</style>\n",
       "<table border=\"1\" class=\"dataframe\">\n",
       "  <thead>\n",
       "    <tr style=\"text-align: right;\">\n",
       "      <th></th>\n",
       "      <th>gold_close</th>\n",
       "    </tr>\n",
       "    <tr>\n",
       "      <th>Date</th>\n",
       "      <th></th>\n",
       "    </tr>\n",
       "  </thead>\n",
       "  <tbody>\n",
       "    <tr>\n",
       "      <th>2019-12-22</th>\n",
       "      <td>1482.10</td>\n",
       "    </tr>\n",
       "    <tr>\n",
       "      <th>2019-12-23</th>\n",
       "      <td>1482.50</td>\n",
       "    </tr>\n",
       "    <tr>\n",
       "      <th>2019-12-24</th>\n",
       "      <td>1760.05</td>\n",
       "    </tr>\n",
       "    <tr>\n",
       "      <th>2019-12-26</th>\n",
       "      <td>1509.30</td>\n",
       "    </tr>\n",
       "    <tr>\n",
       "      <th>2019-12-27</th>\n",
       "      <td>1513.80</td>\n",
       "    </tr>\n",
       "  </tbody>\n",
       "</table>\n",
       "</div>"
      ],
      "text/plain": [
       "            gold_close\n",
       "Date                  \n",
       "2019-12-22     1482.10\n",
       "2019-12-23     1482.50\n",
       "2019-12-24     1760.05\n",
       "2019-12-26     1509.30\n",
       "2019-12-27     1513.80"
      ]
     },
     "execution_count": 75,
     "metadata": {},
     "output_type": "execute_result"
    }
   ],
   "source": [
    "gold.head()"
   ]
  },
  {
   "cell_type": "code",
   "execution_count": 76,
   "metadata": {},
   "outputs": [],
   "source": [
    "df = pd.merge(result, gold, on='Date')"
   ]
  },
  {
   "cell_type": "code",
   "execution_count": 77,
   "metadata": {},
   "outputs": [
    {
     "data": {
      "text/html": [
       "<div>\n",
       "<style scoped>\n",
       "    .dataframe tbody tr th:only-of-type {\n",
       "        vertical-align: middle;\n",
       "    }\n",
       "\n",
       "    .dataframe tbody tr th {\n",
       "        vertical-align: top;\n",
       "    }\n",
       "\n",
       "    .dataframe thead th {\n",
       "        text-align: right;\n",
       "    }\n",
       "</style>\n",
       "<table border=\"1\" class=\"dataframe\">\n",
       "  <thead>\n",
       "    <tr style=\"text-align: right;\">\n",
       "      <th></th>\n",
       "      <th>dow_close</th>\n",
       "      <th>bit_close</th>\n",
       "      <th>gold_close</th>\n",
       "    </tr>\n",
       "    <tr>\n",
       "      <th>Date</th>\n",
       "      <th></th>\n",
       "      <th></th>\n",
       "      <th></th>\n",
       "    </tr>\n",
       "  </thead>\n",
       "  <tbody>\n",
       "    <tr>\n",
       "      <th>2019-12-23</th>\n",
       "      <td>28551.53</td>\n",
       "      <td>7355.63</td>\n",
       "      <td>1482.50</td>\n",
       "    </tr>\n",
       "    <tr>\n",
       "      <th>2019-12-24</th>\n",
       "      <td>28515.45</td>\n",
       "      <td>7322.53</td>\n",
       "      <td>1760.05</td>\n",
       "    </tr>\n",
       "    <tr>\n",
       "      <th>2019-12-26</th>\n",
       "      <td>28621.39</td>\n",
       "      <td>7238.97</td>\n",
       "      <td>1509.30</td>\n",
       "    </tr>\n",
       "    <tr>\n",
       "      <th>2019-12-27</th>\n",
       "      <td>28645.26</td>\n",
       "      <td>7290.09</td>\n",
       "      <td>1513.80</td>\n",
       "    </tr>\n",
       "    <tr>\n",
       "      <th>2019-12-30</th>\n",
       "      <td>28462.14</td>\n",
       "      <td>7293.00</td>\n",
       "      <td>1514.50</td>\n",
       "    </tr>\n",
       "  </tbody>\n",
       "</table>\n",
       "</div>"
      ],
      "text/plain": [
       "            dow_close  bit_close  gold_close\n",
       "Date                                        \n",
       "2019-12-23   28551.53    7355.63     1482.50\n",
       "2019-12-24   28515.45    7322.53     1760.05\n",
       "2019-12-26   28621.39    7238.97     1509.30\n",
       "2019-12-27   28645.26    7290.09     1513.80\n",
       "2019-12-30   28462.14    7293.00     1514.50"
      ]
     },
     "execution_count": 77,
     "metadata": {},
     "output_type": "execute_result"
    }
   ],
   "source": [
    "df.head()"
   ]
  },
  {
   "cell_type": "code",
   "execution_count": 79,
   "metadata": {},
   "outputs": [
    {
     "data": {
      "image/png": "[encoded data removed]",
      "text/plain": [
       "<Figure size 432x288 with 1 Axes>"
      ]
     },
     "metadata": {
      "needs_background": "light"
     },
     "output_type": "display_data"
    }
   ],
   "source": [
    "df.plot()\n",
    "fig = plt.gcf()  # get current figure\n",
    "fig.savefig(\"x.png\")"
   ]
  },
  {
   "cell_type": "code",
   "execution_count": 81,
   "metadata": {},
   "outputs": [
    {
     "data": {
      "text/plain": [
       "<AxesSubplot:>"
      ]
     },
     "execution_count": 81,
     "metadata": {},
     "output_type": "execute_result"
    },
    {
     "data": {
      "image/png": "[encoded data removed]",
      "text/plain": [
       "<Figure size 432x288 with 1 Axes>"
      ]
     },
     "metadata": {
      "needs_background": "light"
     },
     "output_type": "display_data"
    }
   ],
   "source": [
    "df.gold_close.hist()"
   ]
  },
  {
   "cell_type": "code",
   "execution_count": 83,
   "metadata": {},
   "outputs": [
    {
     "data": {
      "text/plain": [
       "<AxesSubplot:xlabel='Date'>"
      ]
     },
     "execution_count": 83,
     "metadata": {},
     "output_type": "execute_result"
    },
    {
     "data": {
      "image/png": "[encoded data removed]",
      "text/plain": [
       "<Figure size 432x288 with 1 Axes>"
      ]
     },
     "metadata": {
      "needs_background": "light"
     },
     "output_type": "display_data"
    }
   ],
   "source": [
    "df.plot()"
   ]
  },
  {
   "cell_type": "code",
   "execution_count": 84,
   "metadata": {},
   "outputs": [
    {
     "data": {
      "text/plain": [
       "<AxesSubplot:xlabel='Date'>"
      ]
     },
     "execution_count": 84,
     "metadata": {},
     "output_type": "execute_result"
    },
    {
     "data": {
      "image/png": "[encoded data removed]",
      "text/plain": [
       "<Figure size 432x288 with 1 Axes>"
      ]
     },
     "metadata": {
      "needs_background": "light"
     },
     "output_type": "display_data"
    }
   ],
   "source": [
    "df.gold_close.plot()"
   ]
  },
  {
   "cell_type": "code",
   "execution_count": null,
   "metadata": {},
   "outputs": [],
   "source": []
  }
 ],
 "metadata": {
  "kernelspec": {
   "display_name": "Python 3",
   "language": "python",
   "name": "python3"
  },
  "language_info": {
   "codemirror_mode": {
    "name": "ipython",
    "version": 3
   },
   "file_extension": ".py",
   "mimetype": "text/x-python",
   "name": "python",
   "nbconvert_exporter": "python",
   "pygments_lexer": "ipython3",
   "version": "3.7.9"
  }
 },
 "nbformat": 4,
 "nbformat_minor": 4
}
